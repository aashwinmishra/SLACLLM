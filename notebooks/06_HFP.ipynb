{
  "nbformat": 4,
  "nbformat_minor": 0,
  "metadata": {
    "colab": {
      "provenance": [],
      "authorship_tag": "ABX9TyM0pzyN2ZOCtak+0nZyLM13"
    },
    "kernelspec": {
      "name": "python3",
      "display_name": "Python 3"
    },
    "language_info": {
      "name": "python"
    },
    "widgets": {
      "application/vnd.jupyter.widget-state+json": {
        "773470865e364018b13e738d62e1e4a6": {
          "model_module": "@jupyter-widgets/controls",
          "model_name": "HBoxModel",
          "model_module_version": "1.5.0",
          "state": {
            "_dom_classes": [],
            "_model_module": "@jupyter-widgets/controls",
            "_model_module_version": "1.5.0",
            "_model_name": "HBoxModel",
            "_view_count": null,
            "_view_module": "@jupyter-widgets/controls",
            "_view_module_version": "1.5.0",
            "_view_name": "HBoxView",
            "box_style": "",
            "children": [
              "IPY_MODEL_1566dea4ac404b9ea5e1c87111653a18",
              "IPY_MODEL_24ec59f3d2df4047b375e989b9a8f4f9",
              "IPY_MODEL_203db54b85d746dea2c70d2d42f7edb4"
            ],
            "layout": "IPY_MODEL_3d62bb2753064c06afd820311aafe0df"
          }
        },
        "1566dea4ac404b9ea5e1c87111653a18": {
          "model_module": "@jupyter-widgets/controls",
          "model_name": "HTMLModel",
          "model_module_version": "1.5.0",
          "state": {
            "_dom_classes": [],
            "_model_module": "@jupyter-widgets/controls",
            "_model_module_version": "1.5.0",
            "_model_name": "HTMLModel",
            "_view_count": null,
            "_view_module": "@jupyter-widgets/controls",
            "_view_module_version": "1.5.0",
            "_view_name": "HTMLView",
            "description": "",
            "description_tooltip": null,
            "layout": "IPY_MODEL_a1afdc6add5444ad975b59b828750842",
            "placeholder": "​",
            "style": "IPY_MODEL_1851d5e0f209486b8023cdee744a77fa",
            "value": "Map: 100%"
          }
        },
        "24ec59f3d2df4047b375e989b9a8f4f9": {
          "model_module": "@jupyter-widgets/controls",
          "model_name": "FloatProgressModel",
          "model_module_version": "1.5.0",
          "state": {
            "_dom_classes": [],
            "_model_module": "@jupyter-widgets/controls",
            "_model_module_version": "1.5.0",
            "_model_name": "FloatProgressModel",
            "_view_count": null,
            "_view_module": "@jupyter-widgets/controls",
            "_view_module_version": "1.5.0",
            "_view_name": "ProgressView",
            "bar_style": "success",
            "description": "",
            "description_tooltip": null,
            "layout": "IPY_MODEL_07f90c8ca5e941d1b9581dc93076b76e",
            "max": 1000,
            "min": 0,
            "orientation": "horizontal",
            "style": "IPY_MODEL_7b79f3780e8542ff837c97b3a5ce9af4",
            "value": 1000
          }
        },
        "203db54b85d746dea2c70d2d42f7edb4": {
          "model_module": "@jupyter-widgets/controls",
          "model_name": "HTMLModel",
          "model_module_version": "1.5.0",
          "state": {
            "_dom_classes": [],
            "_model_module": "@jupyter-widgets/controls",
            "_model_module_version": "1.5.0",
            "_model_name": "HTMLModel",
            "_view_count": null,
            "_view_module": "@jupyter-widgets/controls",
            "_view_module_version": "1.5.0",
            "_view_name": "HTMLView",
            "description": "",
            "description_tooltip": null,
            "layout": "IPY_MODEL_02018b2ae96c440caddadc0e4fb000f4",
            "placeholder": "​",
            "style": "IPY_MODEL_15e922724140480ebe678967d98b64af",
            "value": " 1000/1000 [00:18&lt;00:00, 54.92 examples/s]"
          }
        },
        "3d62bb2753064c06afd820311aafe0df": {
          "model_module": "@jupyter-widgets/base",
          "model_name": "LayoutModel",
          "model_module_version": "1.2.0",
          "state": {
            "_model_module": "@jupyter-widgets/base",
            "_model_module_version": "1.2.0",
            "_model_name": "LayoutModel",
            "_view_count": null,
            "_view_module": "@jupyter-widgets/base",
            "_view_module_version": "1.2.0",
            "_view_name": "LayoutView",
            "align_content": null,
            "align_items": null,
            "align_self": null,
            "border": null,
            "bottom": null,
            "display": null,
            "flex": null,
            "flex_flow": null,
            "grid_area": null,
            "grid_auto_columns": null,
            "grid_auto_flow": null,
            "grid_auto_rows": null,
            "grid_column": null,
            "grid_gap": null,
            "grid_row": null,
            "grid_template_areas": null,
            "grid_template_columns": null,
            "grid_template_rows": null,
            "height": null,
            "justify_content": null,
            "justify_items": null,
            "left": null,
            "margin": null,
            "max_height": null,
            "max_width": null,
            "min_height": null,
            "min_width": null,
            "object_fit": null,
            "object_position": null,
            "order": null,
            "overflow": null,
            "overflow_x": null,
            "overflow_y": null,
            "padding": null,
            "right": null,
            "top": null,
            "visibility": null,
            "width": null
          }
        },
        "a1afdc6add5444ad975b59b828750842": {
          "model_module": "@jupyter-widgets/base",
          "model_name": "LayoutModel",
          "model_module_version": "1.2.0",
          "state": {
            "_model_module": "@jupyter-widgets/base",
            "_model_module_version": "1.2.0",
            "_model_name": "LayoutModel",
            "_view_count": null,
            "_view_module": "@jupyter-widgets/base",
            "_view_module_version": "1.2.0",
            "_view_name": "LayoutView",
            "align_content": null,
            "align_items": null,
            "align_self": null,
            "border": null,
            "bottom": null,
            "display": null,
            "flex": null,
            "flex_flow": null,
            "grid_area": null,
            "grid_auto_columns": null,
            "grid_auto_flow": null,
            "grid_auto_rows": null,
            "grid_column": null,
            "grid_gap": null,
            "grid_row": null,
            "grid_template_areas": null,
            "grid_template_columns": null,
            "grid_template_rows": null,
            "height": null,
            "justify_content": null,
            "justify_items": null,
            "left": null,
            "margin": null,
            "max_height": null,
            "max_width": null,
            "min_height": null,
            "min_width": null,
            "object_fit": null,
            "object_position": null,
            "order": null,
            "overflow": null,
            "overflow_x": null,
            "overflow_y": null,
            "padding": null,
            "right": null,
            "top": null,
            "visibility": null,
            "width": null
          }
        },
        "1851d5e0f209486b8023cdee744a77fa": {
          "model_module": "@jupyter-widgets/controls",
          "model_name": "DescriptionStyleModel",
          "model_module_version": "1.5.0",
          "state": {
            "_model_module": "@jupyter-widgets/controls",
            "_model_module_version": "1.5.0",
            "_model_name": "DescriptionStyleModel",
            "_view_count": null,
            "_view_module": "@jupyter-widgets/base",
            "_view_module_version": "1.2.0",
            "_view_name": "StyleView",
            "description_width": ""
          }
        },
        "07f90c8ca5e941d1b9581dc93076b76e": {
          "model_module": "@jupyter-widgets/base",
          "model_name": "LayoutModel",
          "model_module_version": "1.2.0",
          "state": {
            "_model_module": "@jupyter-widgets/base",
            "_model_module_version": "1.2.0",
            "_model_name": "LayoutModel",
            "_view_count": null,
            "_view_module": "@jupyter-widgets/base",
            "_view_module_version": "1.2.0",
            "_view_name": "LayoutView",
            "align_content": null,
            "align_items": null,
            "align_self": null,
            "border": null,
            "bottom": null,
            "display": null,
            "flex": null,
            "flex_flow": null,
            "grid_area": null,
            "grid_auto_columns": null,
            "grid_auto_flow": null,
            "grid_auto_rows": null,
            "grid_column": null,
            "grid_gap": null,
            "grid_row": null,
            "grid_template_areas": null,
            "grid_template_columns": null,
            "grid_template_rows": null,
            "height": null,
            "justify_content": null,
            "justify_items": null,
            "left": null,
            "margin": null,
            "max_height": null,
            "max_width": null,
            "min_height": null,
            "min_width": null,
            "object_fit": null,
            "object_position": null,
            "order": null,
            "overflow": null,
            "overflow_x": null,
            "overflow_y": null,
            "padding": null,
            "right": null,
            "top": null,
            "visibility": null,
            "width": null
          }
        },
        "7b79f3780e8542ff837c97b3a5ce9af4": {
          "model_module": "@jupyter-widgets/controls",
          "model_name": "ProgressStyleModel",
          "model_module_version": "1.5.0",
          "state": {
            "_model_module": "@jupyter-widgets/controls",
            "_model_module_version": "1.5.0",
            "_model_name": "ProgressStyleModel",
            "_view_count": null,
            "_view_module": "@jupyter-widgets/base",
            "_view_module_version": "1.2.0",
            "_view_name": "StyleView",
            "bar_color": null,
            "description_width": ""
          }
        },
        "02018b2ae96c440caddadc0e4fb000f4": {
          "model_module": "@jupyter-widgets/base",
          "model_name": "LayoutModel",
          "model_module_version": "1.2.0",
          "state": {
            "_model_module": "@jupyter-widgets/base",
            "_model_module_version": "1.2.0",
            "_model_name": "LayoutModel",
            "_view_count": null,
            "_view_module": "@jupyter-widgets/base",
            "_view_module_version": "1.2.0",
            "_view_name": "LayoutView",
            "align_content": null,
            "align_items": null,
            "align_self": null,
            "border": null,
            "bottom": null,
            "display": null,
            "flex": null,
            "flex_flow": null,
            "grid_area": null,
            "grid_auto_columns": null,
            "grid_auto_flow": null,
            "grid_auto_rows": null,
            "grid_column": null,
            "grid_gap": null,
            "grid_row": null,
            "grid_template_areas": null,
            "grid_template_columns": null,
            "grid_template_rows": null,
            "height": null,
            "justify_content": null,
            "justify_items": null,
            "left": null,
            "margin": null,
            "max_height": null,
            "max_width": null,
            "min_height": null,
            "min_width": null,
            "object_fit": null,
            "object_position": null,
            "order": null,
            "overflow": null,
            "overflow_x": null,
            "overflow_y": null,
            "padding": null,
            "right": null,
            "top": null,
            "visibility": null,
            "width": null
          }
        },
        "15e922724140480ebe678967d98b64af": {
          "model_module": "@jupyter-widgets/controls",
          "model_name": "DescriptionStyleModel",
          "model_module_version": "1.5.0",
          "state": {
            "_model_module": "@jupyter-widgets/controls",
            "_model_module_version": "1.5.0",
            "_model_name": "DescriptionStyleModel",
            "_view_count": null,
            "_view_module": "@jupyter-widgets/base",
            "_view_module_version": "1.2.0",
            "_view_name": "StyleView",
            "description_width": ""
          }
        },
        "3e0bca6405424705b250ea7ffb994da4": {
          "model_module": "@jupyter-widgets/controls",
          "model_name": "HBoxModel",
          "model_module_version": "1.5.0",
          "state": {
            "_dom_classes": [],
            "_model_module": "@jupyter-widgets/controls",
            "_model_module_version": "1.5.0",
            "_model_name": "HBoxModel",
            "_view_count": null,
            "_view_module": "@jupyter-widgets/controls",
            "_view_module_version": "1.5.0",
            "_view_name": "HBoxView",
            "box_style": "",
            "children": [
              "IPY_MODEL_a3393538e6a143d1aafd6e12974e166d",
              "IPY_MODEL_2931d7c420534eb4ae1508156629b4d2",
              "IPY_MODEL_c3e0de38bcdb409f99f11fea3a043415"
            ],
            "layout": "IPY_MODEL_a2b84f2dd5c844b580e8b715e5c78748"
          }
        },
        "a3393538e6a143d1aafd6e12974e166d": {
          "model_module": "@jupyter-widgets/controls",
          "model_name": "HTMLModel",
          "model_module_version": "1.5.0",
          "state": {
            "_dom_classes": [],
            "_model_module": "@jupyter-widgets/controls",
            "_model_module_version": "1.5.0",
            "_model_name": "HTMLModel",
            "_view_count": null,
            "_view_module": "@jupyter-widgets/controls",
            "_view_module_version": "1.5.0",
            "_view_name": "HTMLView",
            "description": "",
            "description_tooltip": null,
            "layout": "IPY_MODEL_a5f6a9679232465abe62a65b9feb1313",
            "placeholder": "​",
            "style": "IPY_MODEL_ea4f02e1e53b410f98c740ac8131ff00",
            "value": "Map: 100%"
          }
        },
        "2931d7c420534eb4ae1508156629b4d2": {
          "model_module": "@jupyter-widgets/controls",
          "model_name": "FloatProgressModel",
          "model_module_version": "1.5.0",
          "state": {
            "_dom_classes": [],
            "_model_module": "@jupyter-widgets/controls",
            "_model_module_version": "1.5.0",
            "_model_name": "FloatProgressModel",
            "_view_count": null,
            "_view_module": "@jupyter-widgets/controls",
            "_view_module_version": "1.5.0",
            "_view_name": "ProgressView",
            "bar_style": "success",
            "description": "",
            "description_tooltip": null,
            "layout": "IPY_MODEL_b39b444e18614c389c20471836d5f325",
            "max": 100,
            "min": 0,
            "orientation": "horizontal",
            "style": "IPY_MODEL_bb7e30ea59514e068409f0c9048c2e4c",
            "value": 100
          }
        },
        "c3e0de38bcdb409f99f11fea3a043415": {
          "model_module": "@jupyter-widgets/controls",
          "model_name": "HTMLModel",
          "model_module_version": "1.5.0",
          "state": {
            "_dom_classes": [],
            "_model_module": "@jupyter-widgets/controls",
            "_model_module_version": "1.5.0",
            "_model_name": "HTMLModel",
            "_view_count": null,
            "_view_module": "@jupyter-widgets/controls",
            "_view_module_version": "1.5.0",
            "_view_name": "HTMLView",
            "description": "",
            "description_tooltip": null,
            "layout": "IPY_MODEL_76a34c81833e4ae8a5cde83fc46bc48a",
            "placeholder": "​",
            "style": "IPY_MODEL_957cdffc9e00471eb9933efbd8490fd0",
            "value": " 100/100 [00:01&lt;00:00, 87.12 examples/s]"
          }
        },
        "a2b84f2dd5c844b580e8b715e5c78748": {
          "model_module": "@jupyter-widgets/base",
          "model_name": "LayoutModel",
          "model_module_version": "1.2.0",
          "state": {
            "_model_module": "@jupyter-widgets/base",
            "_model_module_version": "1.2.0",
            "_model_name": "LayoutModel",
            "_view_count": null,
            "_view_module": "@jupyter-widgets/base",
            "_view_module_version": "1.2.0",
            "_view_name": "LayoutView",
            "align_content": null,
            "align_items": null,
            "align_self": null,
            "border": null,
            "bottom": null,
            "display": null,
            "flex": null,
            "flex_flow": null,
            "grid_area": null,
            "grid_auto_columns": null,
            "grid_auto_flow": null,
            "grid_auto_rows": null,
            "grid_column": null,
            "grid_gap": null,
            "grid_row": null,
            "grid_template_areas": null,
            "grid_template_columns": null,
            "grid_template_rows": null,
            "height": null,
            "justify_content": null,
            "justify_items": null,
            "left": null,
            "margin": null,
            "max_height": null,
            "max_width": null,
            "min_height": null,
            "min_width": null,
            "object_fit": null,
            "object_position": null,
            "order": null,
            "overflow": null,
            "overflow_x": null,
            "overflow_y": null,
            "padding": null,
            "right": null,
            "top": null,
            "visibility": null,
            "width": null
          }
        },
        "a5f6a9679232465abe62a65b9feb1313": {
          "model_module": "@jupyter-widgets/base",
          "model_name": "LayoutModel",
          "model_module_version": "1.2.0",
          "state": {
            "_model_module": "@jupyter-widgets/base",
            "_model_module_version": "1.2.0",
            "_model_name": "LayoutModel",
            "_view_count": null,
            "_view_module": "@jupyter-widgets/base",
            "_view_module_version": "1.2.0",
            "_view_name": "LayoutView",
            "align_content": null,
            "align_items": null,
            "align_self": null,
            "border": null,
            "bottom": null,
            "display": null,
            "flex": null,
            "flex_flow": null,
            "grid_area": null,
            "grid_auto_columns": null,
            "grid_auto_flow": null,
            "grid_auto_rows": null,
            "grid_column": null,
            "grid_gap": null,
            "grid_row": null,
            "grid_template_areas": null,
            "grid_template_columns": null,
            "grid_template_rows": null,
            "height": null,
            "justify_content": null,
            "justify_items": null,
            "left": null,
            "margin": null,
            "max_height": null,
            "max_width": null,
            "min_height": null,
            "min_width": null,
            "object_fit": null,
            "object_position": null,
            "order": null,
            "overflow": null,
            "overflow_x": null,
            "overflow_y": null,
            "padding": null,
            "right": null,
            "top": null,
            "visibility": null,
            "width": null
          }
        },
        "ea4f02e1e53b410f98c740ac8131ff00": {
          "model_module": "@jupyter-widgets/controls",
          "model_name": "DescriptionStyleModel",
          "model_module_version": "1.5.0",
          "state": {
            "_model_module": "@jupyter-widgets/controls",
            "_model_module_version": "1.5.0",
            "_model_name": "DescriptionStyleModel",
            "_view_count": null,
            "_view_module": "@jupyter-widgets/base",
            "_view_module_version": "1.2.0",
            "_view_name": "StyleView",
            "description_width": ""
          }
        },
        "b39b444e18614c389c20471836d5f325": {
          "model_module": "@jupyter-widgets/base",
          "model_name": "LayoutModel",
          "model_module_version": "1.2.0",
          "state": {
            "_model_module": "@jupyter-widgets/base",
            "_model_module_version": "1.2.0",
            "_model_name": "LayoutModel",
            "_view_count": null,
            "_view_module": "@jupyter-widgets/base",
            "_view_module_version": "1.2.0",
            "_view_name": "LayoutView",
            "align_content": null,
            "align_items": null,
            "align_self": null,
            "border": null,
            "bottom": null,
            "display": null,
            "flex": null,
            "flex_flow": null,
            "grid_area": null,
            "grid_auto_columns": null,
            "grid_auto_flow": null,
            "grid_auto_rows": null,
            "grid_column": null,
            "grid_gap": null,
            "grid_row": null,
            "grid_template_areas": null,
            "grid_template_columns": null,
            "grid_template_rows": null,
            "height": null,
            "justify_content": null,
            "justify_items": null,
            "left": null,
            "margin": null,
            "max_height": null,
            "max_width": null,
            "min_height": null,
            "min_width": null,
            "object_fit": null,
            "object_position": null,
            "order": null,
            "overflow": null,
            "overflow_x": null,
            "overflow_y": null,
            "padding": null,
            "right": null,
            "top": null,
            "visibility": null,
            "width": null
          }
        },
        "bb7e30ea59514e068409f0c9048c2e4c": {
          "model_module": "@jupyter-widgets/controls",
          "model_name": "ProgressStyleModel",
          "model_module_version": "1.5.0",
          "state": {
            "_model_module": "@jupyter-widgets/controls",
            "_model_module_version": "1.5.0",
            "_model_name": "ProgressStyleModel",
            "_view_count": null,
            "_view_module": "@jupyter-widgets/base",
            "_view_module_version": "1.2.0",
            "_view_name": "StyleView",
            "bar_color": null,
            "description_width": ""
          }
        },
        "76a34c81833e4ae8a5cde83fc46bc48a": {
          "model_module": "@jupyter-widgets/base",
          "model_name": "LayoutModel",
          "model_module_version": "1.2.0",
          "state": {
            "_model_module": "@jupyter-widgets/base",
            "_model_module_version": "1.2.0",
            "_model_name": "LayoutModel",
            "_view_count": null,
            "_view_module": "@jupyter-widgets/base",
            "_view_module_version": "1.2.0",
            "_view_name": "LayoutView",
            "align_content": null,
            "align_items": null,
            "align_self": null,
            "border": null,
            "bottom": null,
            "display": null,
            "flex": null,
            "flex_flow": null,
            "grid_area": null,
            "grid_auto_columns": null,
            "grid_auto_flow": null,
            "grid_auto_rows": null,
            "grid_column": null,
            "grid_gap": null,
            "grid_row": null,
            "grid_template_areas": null,
            "grid_template_columns": null,
            "grid_template_rows": null,
            "height": null,
            "justify_content": null,
            "justify_items": null,
            "left": null,
            "margin": null,
            "max_height": null,
            "max_width": null,
            "min_height": null,
            "min_width": null,
            "object_fit": null,
            "object_position": null,
            "order": null,
            "overflow": null,
            "overflow_x": null,
            "overflow_y": null,
            "padding": null,
            "right": null,
            "top": null,
            "visibility": null,
            "width": null
          }
        },
        "957cdffc9e00471eb9933efbd8490fd0": {
          "model_module": "@jupyter-widgets/controls",
          "model_name": "DescriptionStyleModel",
          "model_module_version": "1.5.0",
          "state": {
            "_model_module": "@jupyter-widgets/controls",
            "_model_module_version": "1.5.0",
            "_model_name": "DescriptionStyleModel",
            "_view_count": null,
            "_view_module": "@jupyter-widgets/base",
            "_view_module_version": "1.2.0",
            "_view_name": "StyleView",
            "description_width": ""
          }
        }
      }
    }
  },
  "cells": [
    {
      "cell_type": "code",
      "execution_count": 2,
      "metadata": {
        "colab": {
          "base_uri": "https://localhost:8080/"
        },
        "id": "fdBhYfrRBOEZ",
        "outputId": "41016527-8023-4f50-8282-fdbd1313d782"
      },
      "outputs": [
        {
          "output_type": "stream",
          "name": "stdout",
          "text": [
            "Proceed (Y/n)? Y\n",
            "\u001b[2K   \u001b[90m━━━━━━━━━━━━━━━━━━━━━━━━━━━━━━━━━━━━━━━━\u001b[0m \u001b[32m40.0/40.0 MB\u001b[0m \u001b[31m18.3 MB/s\u001b[0m eta \u001b[36m0:00:00\u001b[0m\n",
            "\u001b[?25h\u001b[31mERROR: pip's dependency resolver does not currently take into account all the packages that are installed. This behaviour is the source of the following dependency conflicts.\n",
            "cudf-cu12 24.10.1 requires pyarrow<18.0.0a0,>=14.0.0, but you have pyarrow 18.0.0 which is incompatible.\n",
            "pylibcudf-cu12 24.10.1 requires pyarrow<18.0.0a0,>=14.0.0, but you have pyarrow 18.0.0 which is incompatible.\u001b[0m\u001b[31m\n",
            "\u001b[2K   \u001b[90m━━━━━━━━━━━━━━━━━━━━━━━━━━━━━━━━━━━━━━━━\u001b[0m \u001b[32m480.6/480.6 kB\u001b[0m \u001b[31m9.2 MB/s\u001b[0m eta \u001b[36m0:00:00\u001b[0m\n",
            "\u001b[2K   \u001b[90m━━━━━━━━━━━━━━━━━━━━━━━━━━━━━━━━━━━━━━━━\u001b[0m \u001b[32m116.3/116.3 kB\u001b[0m \u001b[31m8.4 MB/s\u001b[0m eta \u001b[36m0:00:00\u001b[0m\n",
            "\u001b[2K   \u001b[90m━━━━━━━━━━━━━━━━━━━━━━━━━━━━━━━━━━━━━━━━\u001b[0m \u001b[32m179.3/179.3 kB\u001b[0m \u001b[31m13.0 MB/s\u001b[0m eta \u001b[36m0:00:00\u001b[0m\n",
            "\u001b[2K   \u001b[90m━━━━━━━━━━━━━━━━━━━━━━━━━━━━━━━━━━━━━━━━\u001b[0m \u001b[32m134.8/134.8 kB\u001b[0m \u001b[31m9.6 MB/s\u001b[0m eta \u001b[36m0:00:00\u001b[0m\n",
            "\u001b[2K   \u001b[90m━━━━━━━━━━━━━━━━━━━━━━━━━━━━━━━━━━━━━━━━\u001b[0m \u001b[32m194.1/194.1 kB\u001b[0m \u001b[31m14.2 MB/s\u001b[0m eta \u001b[36m0:00:00\u001b[0m\n",
            "\u001b[?25h\u001b[31mERROR: pip's dependency resolver does not currently take into account all the packages that are installed. This behaviour is the source of the following dependency conflicts.\n",
            "cudf-cu12 24.10.1 requires pyarrow<18.0.0a0,>=14.0.0, but you have pyarrow 18.0.0 which is incompatible.\n",
            "gcsfs 2024.10.0 requires fsspec==2024.10.0, but you have fsspec 2024.9.0 which is incompatible.\u001b[0m\u001b[31m\n",
            "\u001b[2K   \u001b[90m━━━━━━━━━━━━━━━━━━━━━━━━━━━━━━━━━━━━━━━━\u001b[0m \u001b[32m84.0/84.0 kB\u001b[0m \u001b[31m2.2 MB/s\u001b[0m eta \u001b[36m0:00:00\u001b[0m\n",
            "\u001b[?25h"
          ]
        }
      ],
      "source": [
        "!pip uninstall pyarrow -q\n",
        "!pip install --upgrade pyarrow -q\n",
        "!pip install transformers -q\n",
        "!pip install datasets -q\n",
        "!pip install evaluate -q"
      ]
    },
    {
      "cell_type": "code",
      "source": [
        "from transformers import pipeline, AutoTokenizer, AutoModel, AutoModelForSequenceClassification, AutoModelForCausalLM, AutoModelForMaskedLM\n",
        "from transformers import GPT2LMHeadModel, AutoConfig\n",
        "from transformers import AdamW\n",
        "from transformers import get_scheduler\n",
        "from transformers import DataCollatorWithPadding, DataCollatorForLanguageModeling\n",
        "from transformers import Trainer, TrainingArguments\n",
        "from datasets import load_dataset, Dataset, DatasetDict\n",
        "import evaluate\n",
        "\n",
        "import wandb\n",
        "wandb.init(mode='disabled')\n",
        "\n",
        "import torch\n",
        "from torch.utils.data import DataLoader\n",
        "\n",
        "import numpy as np\n",
        "import math\n",
        "\n",
        "from tqdm.auto import tqdm\n",
        "import html\n",
        "import requests"
      ],
      "metadata": {
        "id": "ntzv1Ie-BVks"
      },
      "execution_count": 1,
      "outputs": []
    },
    {
      "cell_type": "code",
      "source": [],
      "metadata": {
        "id": "zUcFQeNNUO3B"
      },
      "execution_count": 1,
      "outputs": []
    },
    {
      "cell_type": "markdown",
      "source": [
        "### Section 1: Data Prep"
      ],
      "metadata": {
        "id": "RgBm3wOiURYe"
      }
    },
    {
      "cell_type": "code",
      "source": [
        "ds_train = load_dataset(\"huggingface-course/codeparrot-ds-train\", split=\"train\")\n",
        "ds_valid = load_dataset(\"huggingface-course/codeparrot-ds-valid\", split=\"validation\")\n",
        "\n",
        "raw_datasets = DatasetDict(\n",
        "    {\n",
        "        \"train\": ds_train.shuffle().select(range(1000)),\n",
        "        \"valid\": ds_valid.shuffle().select(range(100))\n",
        "    }\n",
        ")\n",
        "\n",
        "raw_datasets"
      ],
      "metadata": {
        "colab": {
          "base_uri": "https://localhost:8080/"
        },
        "id": "XKIu4fD6BVri",
        "outputId": "62d16234-b6d0-4f40-e5b1-913dd2d83352"
      },
      "execution_count": 2,
      "outputs": [
        {
          "output_type": "stream",
          "name": "stderr",
          "text": [
            "/usr/local/lib/python3.10/dist-packages/huggingface_hub/utils/_auth.py:94: UserWarning: \n",
            "The secret `HF_TOKEN` does not exist in your Colab secrets.\n",
            "To authenticate with the Hugging Face Hub, create a token in your settings tab (https://huggingface.co/settings/tokens), set it as secret in your Google Colab and restart your session.\n",
            "You will be able to reuse this secret in all of your notebooks.\n",
            "Please note that authentication is recommended but still optional to access public models or datasets.\n",
            "  warnings.warn(\n"
          ]
        },
        {
          "output_type": "execute_result",
          "data": {
            "text/plain": [
              "DatasetDict({\n",
              "    train: Dataset({\n",
              "        features: ['repo_name', 'path', 'copies', 'size', 'content', 'license'],\n",
              "        num_rows: 1000\n",
              "    })\n",
              "    valid: Dataset({\n",
              "        features: ['repo_name', 'path', 'copies', 'size', 'content', 'license'],\n",
              "        num_rows: 100\n",
              "    })\n",
              "})"
            ]
          },
          "metadata": {},
          "execution_count": 2
        }
      ]
    },
    {
      "cell_type": "code",
      "source": [
        "#print(raw_datasets[\"train\"][42]['content'])"
      ],
      "metadata": {
        "id": "zSiB25mNBVwl"
      },
      "execution_count": 3,
      "outputs": []
    },
    {
      "cell_type": "code",
      "source": [
        "context_length = 128"
      ],
      "metadata": {
        "id": "c6HyhjREBV1G"
      },
      "execution_count": 4,
      "outputs": []
    },
    {
      "cell_type": "code",
      "source": [
        "def tokenize_func(examples):\n",
        "  outputs = tokenizer(\n",
        "      examples['content'],\n",
        "      truncation=True,\n",
        "      max_length=context_length,\n",
        "      return_overflowing_tokens=True,\n",
        "      return_length=True)\n",
        "\n",
        "  input_batch = []\n",
        "  for length,  input_id in zip(outputs[\"length\"], outputs[\"input_ids\"]):\n",
        "    if length == context_length:\n",
        "      input_batch.append(input_id)\n",
        "\n",
        "  return {'input_ids': input_batch}"
      ],
      "metadata": {
        "id": "EpNpMwK7Jm2t"
      },
      "execution_count": 5,
      "outputs": []
    },
    {
      "cell_type": "code",
      "source": [
        "tokenized_datasets = raw_datasets[\"train\"].map(tokenize_func, batched=True, remove_columns=raw_datasets[\"train\"].column_names)\n",
        "tokenized_datasets"
      ],
      "metadata": {
        "id": "Cg9wJOZnKkAn"
      },
      "execution_count": null,
      "outputs": []
    },
    {
      "cell_type": "code",
      "source": [
        "print(len(tokenized_datasets[0]['input_ids']))"
      ],
      "metadata": {
        "id": "ILWhhWH0KkWw"
      },
      "execution_count": null,
      "outputs": []
    },
    {
      "cell_type": "code",
      "source": [
        "tokenizer = AutoTokenizer.from_pretrained(\"huggingface-course/code-search-net-tokenizer\")"
      ],
      "metadata": {
        "id": "pKS_oB8dBV5S"
      },
      "execution_count": 6,
      "outputs": []
    },
    {
      "cell_type": "code",
      "source": [
        "outputs = tokenizer(\n",
        "    raw_datasets[\"train\"][:2][\"content\"],\n",
        "    truncation=True,\n",
        "    max_length=context_length,\n",
        "    return_overflowing_tokens=True,\n",
        "    return_length=True\n",
        ")"
      ],
      "metadata": {
        "id": "X5GlEbuYBV9A"
      },
      "execution_count": 7,
      "outputs": []
    },
    {
      "cell_type": "code",
      "source": [
        "for key in outputs:\n",
        "  print(key)\n",
        "  print(outputs[key])"
      ],
      "metadata": {
        "colab": {
          "base_uri": "https://localhost:8080/"
        },
        "id": "SXElC8i0BWBu",
        "outputId": "16f74911-ef51-40f2-d16c-193acda30c24"
      },
      "execution_count": 8,
      "outputs": [
        {
          "output_type": "stream",
          "name": "stdout",
          "text": [
            "input_ids\n",
            "[[973, 1893, 978, 1893, 173, 173, 2745, 34130, 173, 2745, 1601, 442, 635, 173, 173, 2745, 3857, 442, 2604, 173, 2745, 3857, 14, 1959, 14, 13880, 442, 10399, 173, 2745, 3857, 14, 1959, 337, 1824, 63, 20813, 442, 11150, 173, 973, 3857, 978, 308, 20778, 12, 1170, 63, 1446, 12, 6226, 12, 271, 526, 63, 1446, 12, 3544, 12, 370, 9012, 1508, 2643, 12, 3634, 12, 292, 63, 1881, 9, 173, 973, 3857, 14, 48495, 14, 7817, 978, 7193, 631, 12, 785, 15305, 4871, 12, 28763, 4871, 173, 173, 8566, 12, 10029, 233, 1893, 8, 19518, 12, 396, 12, 396, 491, 1893, 8, 11183, 12, 396, 12, 396, 9, 4391, 173, 692, 7252, 20778, 1494, 28786, 8, 1023, 274, 232, 5632, 233, 404, 325, 12, 269, 10936, 340], [269, 25474, 15, 33423, 21145, 340, 269, 2880, 15, 37, 30790, 340, 269, 33614, 15, 25474, 15, 51, 36698, 10368, 340, 880, 269, 33614, 15, 2880, 15, 37034, 358, 312, 1111, 34280, 14, 2175, 14, 343, 263, 991, 3254, 439, 4066, 485, 5632, 9, 232, 509, 1737, 63, 7358, 8, 248, 12, 5632, 274, 222, 9927, 17, 233, 2604, 14, 526, 63, 1446, 359, 17, 15, 17, 15, 8704, 340, 4945, 567, 36, 340, 9980, 29, 21, 12, 5632, 29, 4066, 9, 222, 1135, 17, 233, 2604, 14, 526, 63, 1446, 359, 17, 15, 22, 15, 8704, 340, 4945, 567, 36, 340, 9980, 29, 21, 12, 5632, 29, 4066, 9, 222, 2717, 17, 233, 2604, 14, 526, 63, 1446, 359, 17, 15, 17, 15, 8704, 340, 4945, 567], [36, 340, 9980, 29, 1328, 12, 5632, 29, 4066, 9, 298, 9927, 18, 233, 2604, 14, 526, 63, 1446, 359, 17, 15, 17, 15, 8704, 340, 4945, 567, 36, 340, 9980, 29, 21, 12, 5632, 29, 4066, 9, 222, 1135, 18, 233, 2604, 14, 526, 63, 1446, 359, 17, 15, 20, 15, 8704, 340, 4945, 567, 36, 340, 9980, 29, 21, 12, 5632, 29, 4066, 9, 222, 2717, 18, 233, 2604, 14, 526, 63, 1446, 359, 17, 15, 17, 15, 8704, 340, 4945, 567, 36, 340, 9980, 29, 24, 12, 5632, 29, 4066, 9, 298, 9927, 19, 233, 2604, 14, 526, 63, 1446, 359, 17, 15, 17, 15, 8704, 340, 4945, 567, 36, 340, 9980, 29, 21, 12, 5632, 29, 4066, 9, 222, 1135, 19, 233, 2604, 14], [20778, 15743, 5632, 29, 4066, 9, 222, 2717, 19, 233, 2604, 14, 526, 63, 1446, 359, 17, 15, 17, 15, 8704, 340, 4945, 567, 36, 340, 9980, 29, 21, 12, 5632, 29, 4066, 9, 298, 296, 9927, 12, 1135, 12, 2717, 253, 3947, 13404, 17, 12, 1135, 17, 12, 2717, 17, 491, 3062, 308, 13404, 18, 12, 1135, 18, 12, 2717, 18, 491, 3062, 308, 13404, 19, 12, 1135, 19, 12, 2717, 19, 18954, 608, 604, 63, 7358, 233, 9927, 14, 7358, 8, 2142, 9, 241, 10399, 14, 5224, 63, 767, 63, 5243, 8, 946, 63, 7358, 12, 2717, 9, 312, 509, 1737, 63, 7358, 63, 8665, 8, 248, 274, 222, 2298, 233, 22061, 3411, 8704, 13, 1057, 13, 4093, 340, 269, 8704, 13, 1057, 13, 1057, 340], [269, 8704, 13, 1057, 13, 2617, 1191, 222, 5562, 233, 22061, 8, 1364, 14, 1907, 63, 971, 1283, 4945, 567, 9664, 397, 222, 604, 233, 5562, 14, 7358, 8, 1364, 9, 222, 10399, 14, 5224, 63, 767, 63, 5243, 8, 946, 12, 5562, 9, 298, 604, 233, 5562, 1018, 16, 848, 7358, 8, 5726, 9, 222, 10399, 14, 5224, 63, 767, 63, 5243, 8, 946, 12, 5562, 9, 222, 1387, 604, 14, 3946, 451, 5562, 14, 3946, 312, 509, 1737, 63, 7358, 63, 872, 63, 3619, 3059, 8, 248, 274, 222, 9927, 63, 65, 233, 1170, 63, 1446, 359, 17, 15, 17, 15, 15470, 340, 9980, 29, 20, 12, 4945, 567, 19, 40, 397, 222, 9927, 63, 66, 233, 1170, 63, 1446, 359, 17, 15, 17, 15, 15470], [340, 9980, 29, 20, 12, 4945, 567, 20, 40, 397, 298, 604, 233, 9927, 63, 65, 14, 7358, 8, 13404, 63, 66, 9, 222, 1999, 233, 22061, 8, 3837, 8, 416, 8, 375, 8, 13404, 63, 65, 353, 913, 562, 8, 375, 8, 13404, 63, 66, 7431, 222, 10399, 14, 5224, 63, 767, 63, 5243, 8, 946, 12, 1999, 9, 312, 509, 1737, 63, 7358, 63, 872, 63, 3619, 6166, 8, 248, 274, 222, 2541, 233, 22061, 3411, 15470, 13, 4058, 13, 2137, 5279, 26, 3003, 26, 9981, 14, 22, 4557, 1811, 1191, 222, 2385, 233, 22061, 3411, 15470, 13, 4058, 13, 6076, 7721, 26, 2574, 26, 5889, 14, 1551, 8704, 340, 2523, 269, 15470, 13, 4058, 13, 2137, 5279, 26, 4432, 26, 2692, 14, 24, 8370, 1811], [340, 2523, 269, 15470, 13, 4058, 13, 2137, 5279, 26, 6183, 26, 4058, 14, 4732, 2153, 1191, 298, 604, 233, 2541, 14, 7358, 8, 1495, 9, 222, 1999, 233, 22061, 8, 3837, 8, 416, 8, 375, 8, 2262, 353, 913, 562, 8, 375, 8, 1495, 7431, 222, 10399, 14, 5224, 63, 767, 63, 5243, 8, 946, 12, 1999, 9, 312, 509, 1737, 63, 7358, 63, 872, 63, 6166, 1508, 8, 248, 274, 222, 497, 3857, 978, 6763, 8189, 222, 2541, 233, 1170, 63, 1446, 439, 13862, 13, 1057, 13, 1057, 485, 333, 13862, 13, 2617, 13, 1057, 528, 222, 2385, 233, 2541, 382, 6763, 8189, 8, 8565, 29, 2684, 9, 298, 604, 233, 2541, 14, 7358, 8, 1495, 9, 222, 1999, 233, 22061, 8, 3837, 8, 416, 8], [375, 8, 2262, 353, 913, 562, 8, 375, 8, 1495, 7431, 222, 10399, 14, 5224, 63, 767, 63, 5243, 8, 946, 12, 1999, 9, 312, 509, 1737, 63, 7358, 63, 3946, 63, 10403, 63, 3933, 8, 248, 274, 222, 294, 26106, 14701, 4313, 222, 2717, 233, 271, 526, 63, 1446, 359, 3020, 3986, 1057, 340, 9980, 29, 1328, 9, 222, 2717, 14, 3946, 233, 377, 298, 604, 233, 2717, 14, 7358, 8, 3407, 9, 222, 10399, 14, 5224, 63, 767, 63, 5243, 8, 946, 12, 2717, 9, 222, 1387, 604, 14, 3946, 300, 377, 312, 509, 1737, 63, 7358, 63, 7225, 63, 767, 8, 248, 274, 222, 9927, 17, 233, 1170, 63, 1446, 359, 17, 15, 17, 15, 23628, 340, 269, 17, 15, 17, 15, 15470, 340, 4945], [567, 4103, 397, 222, 259, 17, 233, 6226, 8, 1075, 14, 2437, 14, 16670, 8, 563, 8, 13404, 17, 2384, 9927, 17, 9, 298, 9927, 18, 233, 1170, 63, 1446, 359, 17, 15, 17, 15, 48716, 340, 269, 1580, 15, 17, 15, 16344, 340, 4945, 567, 4103, 397, 222, 259, 18, 233, 6226, 8, 1075, 14, 2437, 14, 16670, 8, 563, 8, 13404, 18, 2384, 9927, 18, 9, 222, 1683, 233, 3544, 3375, 83, 17, 392, 259, 17, 12, 269, 83, 18, 392, 259, 18, 1583, 298, 1999, 233, 2604, 14, 526, 63, 1446, 359, 17, 15, 17, 15, 48716, 340, 269, 17, 15, 17, 15, 15470, 340, 4945, 567, 4103, 397, 222, 10399, 14, 5224, 63, 767, 63, 5243, 8, 1092, 14, 767, 12, 1999, 9, 312], [509, 1737, 63, 7358, 63, 1033, 63, 20778, 8, 248, 274, 222, 234, 17, 233, 9012, 1508, 2643, 8, 1075, 14, 4419, 8, 16, 12, 4489, 12, 554, 353, 222, 234, 18, 233, 22061, 8, 776, 567, 15470, 13, 1057, 13, 4093, 9825, 26, 543, 26, 543, 340, 9980, 29, 1328, 12, 4945, 567, 36, 397, 222, 234, 17, 14, 7358, 8, 73, 18, 9, 179, 294, 17508, 222, 234, 18, 14, 7358, 8, 73, 17, 9, 179, 294, 9051, 986, 461, 333, 12037, 26, 796, 1059, 562, 1735, 2, 312, 1111, 34280, 14, 2175, 14, 343, 263, 991, 3254, 439, 4066, 485, 404, 325, 12, 269, 25474, 15, 33423, 21145, 340, 269, 2880, 15, 37, 30790, 340, 1977, 269, 33614, 15, 2880, 15, 37034, 1191, 232, 509], [1737, 63, 7466, 8, 248, 12, 5632, 274, 222, 294, 26106, 23401, 4316, 308, 1033, 5632, 9, 222, 1022, 233, 1170, 63, 1446, 359, 22, 15, 17, 15, 8704, 340, 269, 22, 15, 3059, 15, 8704, 340, 4945, 567, 36, 340, 455, 567, 1364, 397, 298, 294, 264, 1100, 770, 256, 1496, 455, 12, 577, 300, 14851, 222, 9927, 18, 233, 1170, 63, 1446, 359, 21, 15, 2684, 15, 8704, 340, 269, 22, 15, 2368, 15, 8704, 340, 4945, 567, 36, 340, 455, 567, 1364, 397, 222, 2717, 18, 233, 1170, 63, 1446, 359, 22, 15, 17, 15, 8704, 340, 269, 22, 15, 2368, 15, 8704, 340, 4945, 567, 36, 340, 455, 567, 1364, 397, 298, 294, 264, 1100, 455, 300, 2597, 12, 577, 664, 371, 4096, 222], [9927, 19, 233, 1170, 63, 1446, 359, 21, 15, 2684, 15, 8704, 340, 269, 22, 15, 2368, 15, 8704, 340, 4945, 567, 36, 340, 455, 567, 2142, 397, 222, 2717, 19, 233, 1170, 63, 1446, 359, 22, 15, 17, 15, 8704, 340, 269, 22, 15, 2368, 15, 8704, 340, 4945, 567, 36, 340, 455, 29, 325, 9, 298, 9927, 20, 233, 1170, 63, 1446, 359, 23, 15, 17, 15, 8704, 340, 269, 23, 15, 6183, 15, 8704, 340, 4945, 567, 36, 340, 455, 567, 1364, 397, 222, 2717, 20, 233, 22061, 15743, 455, 567, 1364, 397, 298, 296, 308, 13404, 12, 2717, 9, 253, 3947, 13404, 18, 12, 2717, 18, 491, 308, 13404, 19, 12, 2717, 19, 491, 1363, 308, 13404, 20, 12, 2717, 20, 18954, 241, 604], [233, 1022, 14, 7466, 8, 13404, 9, 241, 10399, 14, 5224, 63, 767, 63, 5243, 8, 946, 12, 2717, 9, 241, 1387, 604, 14, 324, 451, 2717, 14, 324, 241, 1387, 604, 14, 3946, 451, 2717, 14, 3946, 241, 1387, 604, 14, 4066, 451, 2717, 14, 4066, 298, 294, 1767, 13, 21889, 222, 1022, 233, 22061, 3411, 17934, 13, 1057, 13, 4058, 340, 269, 17934, 13, 1057, 13, 2574, 340, 2161, 269, 17934, 13, 1057, 13, 2617, 340, 269, 17934, 13, 1057, 13, 4093, 1090, 2011, 5632, 29, 4066, 12, 455, 567, 1364, 397, 298, 9927, 18, 233, 22061, 3411, 17934, 13, 1057, 13, 2574, 340, 269, 17934, 13, 1057, 13, 2617, 340, 2161, 269, 17934, 13, 2617, 13, 2617, 340, 269, 17934, 13, 2617, 13, 4093, 1090], [2011, 5632, 29, 4066, 12, 455, 567, 1364, 397, 222, 2717, 18, 233, 22061, 3411, 17934, 13, 1057, 13, 2574, 340, 269, 17934, 13, 1057, 13, 2617, 1090, 2796, 5632, 29, 4066, 12, 455, 567, 1364, 397, 298, 9927, 19, 233, 22061, 3411, 17934, 13, 1057, 13, 2574, 340, 269, 17934, 13, 1057, 13, 2617, 340, 2161, 269, 17934, 13, 2617, 13, 2617, 340, 269, 17934, 13, 2617, 13, 4093, 1090, 2011, 5632, 29, 4066, 12, 455, 567, 2142, 397, 222, 2717, 19, 233, 22061, 3411, 17934, 13, 1057, 13, 2574, 340, 269, 17934, 13, 1057, 13, 2617, 1090, 2796, 5632, 29, 4066, 12, 455, 29, 325, 9, 298, 294, 26106, 31056, 2860, 222, 9927, 20, 233, 1170, 63, 1446, 359, 23, 15, 17, 15, 8704, 340, 269], [23, 15, 6183, 15, 8704, 340, 4945, 567, 36, 340, 5632, 29, 4066, 12, 2034, 455, 567, 1364, 397, 222, 2717, 20, 233, 22061, 15743, 5632, 29, 4066, 12, 455, 567, 1364, 397, 298, 296, 308, 13404, 12, 2717, 9, 253, 3947, 13404, 18, 12, 2717, 18, 491, 308, 13404, 19, 12, 2717, 19, 491, 1363, 308, 13404, 20, 12, 2717, 20, 18954, 241, 604, 233, 1022, 14, 7466, 8, 13404, 9, 241, 10399, 14, 5224, 63, 767, 63, 5243, 8, 946, 12, 2717, 9, 241, 1387, 604, 14, 324, 451, 2717, 14, 324, 241, 1387, 604, 14, 3946, 300, 377, 241, 1387, 604, 14, 4066, 451, 2717, 14, 4066, 312, 509, 1737, 63, 7466, 63, 2869, 8, 248, 274, 222, 294, 2039, 1496, 4945, 26106, 30307, 25], [222, 9927, 233, 1170, 63, 1446, 359, 22, 15, 17, 15, 8704, 340, 269, 22, 15, 2684, 15, 8704, 340, 4945, 567, 52, 397, 222, 604, 233, 9927, 59, 16, 26, 16, 848, 7466, 8, 13404, 9, 222, 1387, 553, 8, 946, 9, 451, 443, 298, 604, 233, 9927, 14, 7466, 8, 13404, 59, 16, 26, 16, 535, 222, 1387, 553, 8, 946, 9, 451, 443, 312, 509, 1737, 63, 7466, 63, 872, 63, 3619, 6210, 8, 248, 274, 222, 497, 3857, 978, 6763, 8189, 222, 956, 63, 17, 233, 1170, 63, 1446, 359, 17, 15, 17, 15, 15470, 340, 9980, 29, 20, 12, 4945, 567, 1580, 40, 397, 222, 956, 63, 18, 233, 956, 63, 17, 382, 6763, 8189, 8, 7658, 29, 17, 9, 298, 604, 233], [956, 63, 17, 1874, 956, 63, 18, 222, 1387, 553, 8, 946, 9, 451, 443, 312, 1111, 34280, 14, 2175, 14, 343, 263, 991, 3254, 439, 4066, 485, 5632, 9, 232, 509, 1737, 63, 7716, 8, 248, 12, 5632, 274, 222, 9927, 17, 233, 2604, 14, 526, 63, 1446, 359, 17, 15, 17, 15, 8704, 340, 4945, 567, 36, 340, 9980, 29, 21, 12, 5632, 29, 4066, 9, 222, 1135, 17, 233, 2604, 14, 526, 63, 1446, 359, 17, 15, 22, 15, 8704, 340, 4945, 567, 36, 340, 9980, 29, 21, 12, 5632, 29, 4066, 9, 222, 2717, 17, 233, 2604, 14, 526, 63, 1446, 359, 17, 15, 17, 15, 8704, 340, 4945, 567, 36, 340, 9980, 29, 21, 12, 5632, 29, 4066, 9, 298, 9927, 18, 233], [2604, 14, 526, 63, 1446, 359, 17, 15, 17, 15, 8704, 340, 4945, 567, 36, 340, 9980, 29, 21, 12, 5632, 29, 4066, 9, 222, 1135, 18, 233, 2604, 14, 526, 63, 1446, 359, 17, 15, 20, 15, 8704, 340, 4945, 567, 36, 340, 9980, 29, 21, 12, 5632, 29, 4066, 9, 222, 2717, 18, 233, 2604, 14, 526, 63, 1446, 359, 17, 15, 17, 15, 8704, 340, 4945, 567, 36, 340, 9980, 29, 19, 12, 5632, 29, 4066, 9, 298, 9927, 19, 233, 2604, 14, 526, 63, 1446, 359, 17, 15, 17, 15, 8704, 340, 4945, 567, 36, 340, 9980, 29, 21, 12, 5632, 29, 4066, 9, 222, 1135, 19, 233, 2604, 14, 20778, 15743, 5632, 29, 4066, 9, 222, 2717, 19, 233, 2604, 14, 526, 63], [1446, 359, 17, 15, 17, 15, 8704, 340, 4945, 567, 36, 340, 9980, 29, 21, 12, 5632, 29, 4066, 9, 298, 296, 9927, 12, 1135, 12, 2717, 253, 3947, 13404, 17, 12, 1135, 17, 12, 2717, 17, 491, 3062, 308, 13404, 18, 12, 1135, 18, 12, 2717, 18, 491, 3062, 308, 13404, 19, 12, 1135, 19, 12, 2717, 19, 18954, 241, 604, 63, 2293, 233, 9927, 14, 7716, 8, 2142, 9, 241, 10399, 14, 5224, 63, 767, 63, 5243, 8, 946, 63, 2293, 12, 2717, 9, 312, 509, 1737, 63, 7716, 63, 3946, 8, 248, 274, 222, 294, 26106, 3040, 45687, 26, 6157, 311, 22061, 1037, 339, 8060, 4281, 298, 956, 233, 1170, 63, 1446, 439, 3020, 46105, 2368, 485, 333, 3020, 46105, 1954, 485, 4945, 861, 36], [528, 222, 1135, 233, 1170, 63, 1446, 439, 3020, 46105, 5889, 485, 333, 3020, 46105, 2692, 485, 4945, 861, 36, 528, 222, 2717, 233, 22061, 6223, 3020, 46105, 2368, 485, 333, 3020, 46105, 1954, 2569, 4945, 29, 325, 9, 222, 2298, 63, 2293, 233, 956, 14, 7716, 8, 2142, 9, 222, 10399, 14, 5224, 63, 767, 63, 5243, 8, 1364, 63, 2293, 12, 2717, 9, 222, 10399, 14, 5224, 63, 691, 63, 5243, 359, 3946, 340, 2298, 63, 2293, 12, 2717, 9, 298, 1135, 233, 1170, 63, 1446, 439, 3020, 46105, 3852, 485, 333, 3020, 46105, 1954, 485, 4945, 861, 36, 528, 222, 2298, 63, 2293, 233, 956, 14, 7716, 8, 2142, 9, 222, 2717, 233, 22061, 6223, 3020, 46105, 2368, 485, 333, 3020, 46105, 5889, 2569, 4945], [29, 325, 9, 222, 10399, 14, 5224, 63, 767, 63, 5243, 8, 1364, 63, 2293, 12, 2717, 9, 222, 10399, 14, 5224, 63, 691, 63, 5243, 359, 3946, 340, 2298, 63, 2293, 12, 2717, 9, 312, 509, 1737, 63, 1881, 767, 63, 2293, 8, 248, 274, 222, 3231, 73, 17, 233, 22061, 8, 3946, 567, 49, 13, 42, 1316, 340, 888, 29, 1881, 8, 42720, 12, 3086, 12, 10360, 491, 2011, 9980, 29, 3087, 9, 222, 3231, 73, 18, 233, 22061, 8, 3946, 567, 49, 13, 42, 1316, 340, 888, 29, 1881, 8, 42720, 12, 3086, 12, 10360, 491, 2011, 9980, 29, 7873, 9, 222, 1387, 553, 8, 3112, 73, 17, 14, 7716, 8, 3112, 73, 18, 353, 451, 554, 312, 509, 1737, 63, 1881, 767, 63, 7358], [63, 777, 63, 2869, 8, 248, 274, 222, 3231, 73, 233, 22061, 8, 776, 567, 17, 15, 17, 15, 16344, 340, 974, 567, 18, 15, 17, 15, 16344, 340, 4945, 567, 36, 397, 222, 2039, 233, 3634, 8116, 298, 604, 233, 3231, 73, 14, 7358, 8, 2869, 9, 222, 1387, 735, 8, 946, 12, 22061, 9, 222, 1387, 604, 300, 604, 298, 604, 233, 3231, 73, 14, 777, 8, 2869, 9, 222, 1387, 735, 8, 946, 12, 22061, 9, 312, 509, 1737, 63, 777, 63, 2846, 3255, 8, 248, 274, 222, 2298, 17, 233, 292, 63, 1881, 3411, 15470, 13, 2137, 13, 5855, 3836, 26, 543, 26, 2137, 14, 20, 5336, 37240, 340, 863, 269, 15470, 13, 2137, 13, 5855, 3836, 26, 543, 26, 2137, 14, 20, 5336], [37240, 1191, 222, 2298, 18, 233, 292, 63, 1881, 3411, 15470, 13, 2137, 13, 5855, 5279, 26, 2137, 26, 6651, 14, 27025, 37010, 340, 863, 269, 15470, 13, 2137, 13, 5855, 5279, 26, 2137, 26, 6651, 14, 27025, 37010, 1191, 222, 8334, 233, 2298, 17, 14, 777, 8, 1364, 18, 12, 3048, 567, 6924, 397, 222, 1387, 8334, 14, 320, 63, 21889, 4391, 173, 692, 7252, 12992, 10341, 20778, 8, 1023, 274, 312, 509, 4037, 63, 1199, 8, 248, 12, 757, 274, 222, 272, 14, 13404, 233, 271, 526, 63, 1446, 8, 8566, 12, 10029, 9, 312, 509, 1737, 63, 7358, 8, 248, 274, 222, 294, 12722, 222, 2541, 233, 272, 14, 13404, 1018, 1328, 61, 222, 2385, 233, 272, 14, 13404, 59, 21, 26, 1328, 61, 298], [256, 63, 7358, 233, 2541, 14, 7358, 8, 1495, 9, 222, 1387, 735, 8, 1941, 63, 7358, 12, 22061, 9, 298, 294, 1767, 13, 20555, 12, 8137, 253, 6992, 222, 2541, 233, 272, 14, 13404, 1018, 21, 61, 222, 2385, 233, 272, 14, 13404, 59, 1328, 2056, 298, 256, 63, 7358, 233, 2541, 14, 7358, 8, 1495, 9, 222, 1387, 735, 8, 1941, 63, 7358, 12, 3634, 9, 298, 294, 1767, 13, 20555, 12, 884, 8137, 222, 2541, 233, 272, 14, 13404, 1018, 21, 61, 222, 2385, 233, 272, 14, 13404, 59, 21, 26, 1328, 61, 298, 256, 63, 7358, 233, 2541, 14, 7358, 8, 1495, 9, 222, 1387, 735, 8, 1941, 63, 7358, 12, 22061, 9, 298, 294, 1444, 1313, 339, 14116, 222, 10399, 14, 5224, 63], [767, 63, 5243, 8, 1495, 14, 7358, 8, 2262, 491, 256, 63, 7358, 9, 298, 294, 12722, 12, 1314, 2597, 1754, 222, 9927, 233, 1170, 63, 1446, 8, 8566, 12, 10029, 12, 4945, 29, 34, 15305, 4871, 1002, 298, 256, 63, 7358, 233, 272, 14, 13404, 14, 7358, 8, 13404, 9, 222, 1387, 735, 8, 1941, 63, 7358, 12, 22061, 9, 312, 509, 1737, 63, 6924, 63, 777, 8, 248, 274, 222, 294, 1037, 2302, 21344, 442, 9064, 298, 294, 12722, 222, 2541, 233, 272, 14, 13404, 1018, 1328, 61, 222, 2385, 233, 272, 14, 13404, 59, 21, 26, 1328, 61, 298, 256, 63, 777, 233, 2541, 14, 777, 8, 1495, 12, 3048, 567, 6924, 397, 222, 1387, 735, 8, 1941, 63, 777, 12, 22061, 9, 298, 294], [1767, 13, 20555, 12, 8137, 253, 6992, 222, 2541, 233, 272, 14, 13404, 1018, 21, 61, 222, 2385, 233, 272, 14, 13404, 59, 1328, 2056, 298, 256, 63, 777, 233, 2541, 14, 777, 8, 1495, 12, 3048, 567, 6924, 397, 222, 1387, 735, 8, 1941, 63, 777, 12, 22061, 9, 222, 1387, 256, 63, 777, 14, 3946, 300, 377, 298, 294, 1767, 13, 20555, 12, 884, 8137, 222, 2541, 233, 272, 14, 13404, 1018, 21, 61, 222, 2385, 233, 272, 14, 13404, 59, 21, 26, 1328, 61, 298, 256, 63, 777, 233, 2541, 14, 777, 8, 1495, 12, 3048, 567, 6924, 397, 222, 1387, 735, 8, 1941, 63, 777, 12, 22061, 9, 298, 294, 12722, 12, 1314, 2597, 1754, 222, 9927, 233, 1170, 63, 1446, 8, 8566, 12], [10029, 12, 4945, 29, 34, 15305, 4871, 1002, 298, 256, 63, 777, 233, 272, 14, 13404, 14, 777, 8, 13404, 12, 3048, 567, 6924, 397, 222, 1387, 735, 8, 1941, 63, 777, 12, 22061, 9, 222, 1387, 256, 63, 777, 14, 3946, 300, 377, 312, 509, 1737, 63, 7358, 63, 854, 63, 39808, 8, 248, 274, 222, 9927, 233, 1170, 63, 1446, 359, 17, 15, 17, 15, 8704, 340, 9980, 29, 2854, 12, 4945, 29, 39860, 1002, 222, 9927, 17, 233, 9927, 59, 1328, 2056, 222, 9927, 18, 233, 9927, 1018, 1954, 61, 222, 256, 63, 7358, 233, 9927, 17, 14, 7358, 8, 13404, 18, 9, 222, 10399, 14, 5224, 63, 767, 63, 5243, 8, 1941, 63, 7358, 12, 9927, 9, 298, 9927, 17, 233, 9927, 59, 1328], [2056, 222, 9927, 18, 233, 9927, 59, 2684, 26, 4732, 61, 222, 256, 63, 7358, 233, 9927, 17, 14, 7358, 8, 13404, 18, 9, 222, 2717, 233, 9927, 59, 1328, 2056, 222, 10399, 14, 5224, 63, 767, 63, 5243, 8, 1941, 63, 7358, 12, 2717, 9, 312, 509, 1737, 63, 7466, 8, 248, 274, 222, 9927, 233, 1170, 63, 1446, 359, 17, 15, 17, 15, 8704, 340, 9980, 29, 2854, 12, 4945, 29, 39860, 1002, 222, 9927, 17, 233, 9927, 59, 1328, 2056, 222, 9927, 18, 233, 9927, 1018, 1954, 61, 222, 256, 63, 384, 233, 9927, 17, 14, 7466, 8, 13404, 18, 9, 222, 2717, 233, 9927, 59, 1328, 26, 1954, 61, 222, 10399, 14, 5224, 63, 767, 63, 5243, 8, 1941, 63, 384, 12, 2717, 9], [222, 1387, 735, 8, 1941, 63, 384, 12, 22061, 9, 222, 1387, 256, 63, 384, 14, 1691, 451, 9927, 14, 1691, 298, 256, 63, 384, 233, 9927, 17, 14, 7466, 8, 13404, 18, 14, 1188, 8, 20778, 353, 222, 10399, 14, 5224, 63, 767, 63, 5243, 8, 1941, 63, 384, 12, 2717, 9, 298, 294, 1767, 13, 20555, 222, 256, 63, 384, 233, 9927, 1018, 1328, 848, 7466, 8, 13404, 59, 1328, 4302, 222, 2717, 233, 22061, 8116, 222, 10399, 14, 5224, 63, 767, 63, 5243, 8, 1941, 63, 384, 12, 2717, 9, 312, 509, 1737, 63, 7466, 63, 872, 8, 248, 274, 222, 294, 26106, 294, 5336, 17, 222, 231, 233, 271, 526, 63, 1446, 359, 2137, 15, 3059, 15, 17934, 340, 269, 1580, 15, 6183, 15], [17934, 397, 222, 271, 233, 271, 526, 63, 1446, 359, 1580, 15, 1328, 15, 17934, 340, 269, 1580, 15, 2368, 15, 17934, 397, 222, 604, 233, 231, 14, 7466, 8, 66, 9, 222, 10399, 14, 5224, 63, 767, 63, 5243, 8, 946, 12, 271, 9, 312, 509, 1737, 63, 3957, 63, 1446, 63, 7358, 63, 4066, 63, 19926, 8, 248, 274, 222, 497, 17433, 978, 5818, 222, 5632, 233, 5818, 359, 2880, 15, 37, 30790, 397, 298, 11521, 63, 776, 233, 1893, 8, 17934, 12, 396, 12, 396, 9, 222, 11521, 63, 374, 233, 1893, 8, 17934, 12, 869, 12, 396, 9, 298, 4964, 63, 776, 233, 1893, 8, 17934, 12, 869, 12, 396, 9, 222, 4964, 63, 374, 233, 1893, 8, 17934, 12, 1462, 12, 396, 9], [298, 11521, 63, 3186, 233, 1170, 63, 1446, 8, 776, 29, 19596, 63, 776, 12, 974, 29, 19596, 63, 374, 12, 5632, 29, 4066, 12, 2161, 4945, 29, 15305, 4871, 1002, 222, 4964, 63, 3186, 233, 1170, 63, 1446, 8, 776, 29, 2892, 63, 776, 12, 974, 29, 2892, 63, 374, 12, 5632, 29, 4066, 12, 2011, 4945, 29, 15305, 4871, 1002, 298, 11521, 63, 3186, 14, 7358, 8, 2892, 63, 3186, 9, 312, 1111, 4382, 14, 4206, 63, 804, 63, 7385, 63, 2580, 63, 19, 232, 509, 1737, 63, 3957, 63, 1446, 63, 7358, 63, 4066, 63, 33614, 8, 248, 274, 222, 497, 3857, 337, 12204, 14, 732, 12204, 14, 42381, 978, 20372, 63, 322, 4066, 222, 5632, 233, 20372, 63, 322, 4066, 359, 2880, 15, 37], [30790, 397, 298, 11521, 63, 776, 233, 1893, 8, 17934, 12, 396, 12, 396, 9, 222, 11521, 63, 374, 233, 1893, 8, 17934, 12, 869, 12, 396, 9, 298, 4964, 63, 776, 233, 1893, 8, 17934, 12, 869, 12, 396, 9, 222, 4964, 63, 374, 233, 1893, 8, 17934, 12, 1462, 12, 396, 9, 298, 11521, 63, 3186, 233, 1170, 63, 1446, 8, 776, 29, 19596, 63, 776, 12, 974, 29, 19596, 63, 374, 12, 5632, 29, 4066, 12, 2161, 4945, 29, 15305, 4871, 1002, 222, 4964, 63, 3186, 233, 1170, 63, 1446, 8, 776, 29, 2892, 63, 776, 12, 974, 29, 2892, 63, 374, 12, 5632, 29, 4066, 12, 2011, 4945, 29, 15305, 4871, 1002, 298, 11521, 63, 3186, 14, 7358, 8, 2892, 63, 3186, 9, 4391], [173, 692, 7252, 9763, 20778, 8, 1023, 274, 312, 509, 4037, 63, 1199, 8, 248, 12, 757, 274, 222, 272, 14, 13404, 233, 271, 526, 63, 1446, 8, 8566, 12, 10029, 12, 4945, 567, 35, 397, 312, 509, 1737, 63, 7358, 8, 248, 274, 222, 294, 12722, 222, 2541, 233, 272, 14, 13404, 1018, 1328, 61, 222, 2385, 233, 272, 14, 13404, 59, 21, 26, 1328, 61, 298, 256, 63, 7358, 233, 2541, 14, 7358, 8, 1495, 9, 222, 1387, 735, 8, 1941, 63, 7358, 12, 22061, 9, 298, 294, 1767, 13, 20555, 12, 8137, 253, 6992, 222, 2541, 233, 272, 14, 13404, 1018, 21, 61, 222, 2385, 233, 272, 14, 13404, 59, 1328, 2056, 298, 256, 63, 7358, 233, 2541, 14, 7358, 8, 1495, 9, 222, 1387], [735, 8, 1941, 63, 7358, 12, 3634, 9, 298, 294, 1767, 13, 20555, 12, 884, 8137, 222, 2541, 233, 272, 14, 13404, 1018, 21, 61, 222, 2385, 233, 272, 14, 13404, 59, 21, 26, 1328, 61, 298, 256, 63, 7358, 233, 2541, 14, 7358, 8, 1495, 9, 222, 1387, 735, 8, 1941, 63, 7358, 12, 22061, 9, 298, 294, 1444, 1313, 339, 14116, 222, 10399, 14, 5224, 63, 767, 63, 5243, 8, 1495, 14, 7358, 8, 2262, 491, 256, 63, 7358, 9, 298, 294, 12722, 12, 1314, 2597, 1754, 222, 9927, 233, 1170, 63, 1446, 8, 8566, 12, 10029, 12, 4945, 29, 34, 15305, 4871, 1002, 298, 256, 63, 7358, 233, 272, 14, 13404, 14, 7358, 8, 13404, 9, 222, 1387, 735, 8, 1941, 63, 7358, 12, 22061], [9, 312, 509, 1737, 63, 6924, 63, 777, 8, 248, 274, 222, 294, 1037, 2302, 21344, 442, 9064, 298, 294, 12722, 222, 2541, 233, 272, 14, 13404, 1018, 1328, 61, 222, 2385, 233, 272, 14, 13404, 59, 21, 26, 1328, 61, 298, 256, 63, 777, 233, 2541, 14, 777, 8, 1495, 12, 3048, 567, 6924, 397, 222, 1387, 735, 8, 1941, 63, 777, 12, 22061, 9, 298, 294, 1767, 13, 20555, 12, 8137, 253, 6992, 222, 2541, 233, 272, 14, 13404, 1018, 21, 61, 222, 2385, 233, 272, 14, 13404, 59, 1328, 2056, 298, 256, 63, 777, 233, 2541, 14, 777, 8, 1495, 12, 3048, 567, 6924, 397, 222, 1387, 735, 8, 1941, 63, 777, 12, 22061, 9, 222, 1387, 256, 63, 777, 14, 3946, 300, 377, 298], [294, 1767, 13, 20555, 12, 884, 8137, 222, 2541, 233, 272, 14, 13404, 1018, 21, 61, 222, 2385, 233, 272, 14, 13404, 59, 21, 26, 1328, 61, 298, 256, 63, 777, 233, 2541, 14, 777, 8, 1495, 12, 3048, 567, 6924, 397, 222, 1387, 735, 8, 1941, 63, 777, 12, 22061, 9, 298, 294, 12722, 12, 1314, 2597, 1754, 222, 9927, 233, 1170, 63, 1446, 8, 8566, 12, 10029, 12, 4945, 29, 34, 15305, 4871, 1002, 298, 256, 63, 777, 233, 272, 14, 13404, 14, 777, 8, 13404, 12, 3048, 567, 6924, 397, 222, 1387, 735, 8, 1941, 63, 777, 12, 22061, 9, 222, 1387, 256, 63, 777, 14, 3946, 300, 377, 312, 509, 1737, 63, 7466, 63, 872, 8, 248, 274, 222, 294, 26106, 294, 5336, 17], [222, 231, 233, 271, 526, 63, 1446, 359, 2137, 15, 3059, 15, 17934, 340, 269, 1580, 15, 6183, 15, 17934, 340, 4945, 567, 35, 397, 222, 271, 233, 271, 526, 63, 1446, 359, 1580, 15, 1328, 15, 17934, 340, 269, 1580, 15, 2368, 15, 17934, 340, 4945, 567, 35, 397, 222, 604, 233, 231, 14, 7466, 8, 66, 9, 222, 10399, 14, 5224, 63, 767, 63, 5243, 8, 946, 12, 271, 9, 173], [2745, 6898, 173, 973, 5275, 978, 15680, 173, 2745, 1601, 442, 635, 173, 2745, 4985, 14, 6322, 173, 173, 973, 15673, 14, 7511, 978, 1565, 63, 8097, 173, 973, 15673, 14, 6571, 63, 6436, 978, 5665, 63, 307, 63, 2988, 173, 173, 973, 15673, 14, 5829, 83, 14, 7993, 14, 5884, 978, 2428, 173, 973, 15673, 14, 1377, 14, 13880, 978, 1387, 63, 32580, 63, 5243, 173, 973, 15673, 14, 1377, 14, 13880, 978, 1387, 63, 783, 63, 5243, 173, 973, 15673, 14, 1377, 14, 13880, 978, 1387, 63, 783, 63, 32580, 63, 5243, 173, 973, 15673, 14, 1377, 14, 13880, 978, 1387, 63, 5243, 173, 973, 15673, 14, 1377, 14, 13880, 978, 1387, 63, 2834, 173, 973, 15673, 14, 1377, 14, 13880, 978, 1387, 63, 15910, 173], [173, 973, 15673, 14, 19702, 63, 31406, 978, 10320, 20909, 12, 30751, 42930, 20909, 12, 13914, 32414, 20909, 173, 173, 3, 1802, 300, 2302, 1911, 2756, 463, 2157, 253, 256, 7287, 173, 56, 233, 635, 14, 783, 33799, 18, 12, 415, 17, 547, 4866, 17, 12, 415, 17, 547, 4866, 17, 12, 415, 18, 547, 404, 17, 12, 396, 547, 404, 17, 12, 554, 547, 404, 18, 12, 396, 4211, 173, 89, 233, 635, 14, 783, 929, 17, 12, 396, 12, 396, 12, 554, 12, 554, 12, 554, 535, 173, 173, 3, 393, 3019, 1630, 2280, 6952, 173, 13404, 233, 635, 14, 2437, 14, 16864, 8, 16, 9, 173, 56, 17, 233, 9927, 14, 2614, 8, 708, 2471, 1328, 12, 869, 353, 173, 89, 17, 233, 308, 13404], [14, 2614, 8, 708, 2471, 1328, 353, 751, 443, 625, 4023, 8, 1075, 14, 384, 9, 173, 173, 3, 1802, 300, 1911, 2280, 2373, 2157, 253, 231, 3038, 13722, 3000, 20938, 292, 173, 3, 5565, 4025, 14, 173, 56, 18, 233, 9927, 14, 8427, 8, 21, 12, 1208, 2471, 22, 12, 3038, 353, 173, 89, 18, 233, 635, 14, 783, 929, 17, 12, 396, 12, 554, 12, 554, 12, 869, 12, 869, 535, 4391, 173, 295, 1737, 63, 1089, 66, 794, 232, 290, 232, 10320, 22615, 614, 49627, 7957, 14, 312, 841, 4427, 542, 10320, 20909, 14635, 2872, 350, 4969, 350, 1435, 232, 2790, 856, 296, 231, 4160, 24439, 1918, 14, 232, 290, 312, 23574, 233, 10320, 20909, 323, 232, 522, 63, 4887, 233, 23574, 14, 2770, 8], [56, 12, 522, 625, 5431, 8, 56, 9, 232, 1387, 63, 783, 63, 5243, 8, 89, 63, 4887, 12, 522, 9, 312, 522, 63, 4887, 63, 18518, 233, 23574, 14, 5431, 63, 18518, 8, 56, 9, 232, 522, 63, 4887, 63, 668, 63, 18518, 233, 23574, 14, 5431, 63, 668, 63, 18518, 8, 56, 9, 232, 1387, 63, 783, 63, 32580, 63, 5243, 8, 1075, 14, 668, 8, 89, 63, 4887, 63, 18518, 491, 522, 63, 4887, 63, 668, 63, 18518, 12, 2070, 9, 4391, 173, 295, 1737, 63, 1089, 66, 63, 6544, 794, 232, 290, 7059, 2285, 1149, 26032, 602, 7343, 562, 14, 290, 232, 23574, 233, 10320, 20909, 1239, 2770, 8, 56, 12, 522, 9, 232, 1387, 63, 783, 63, 32580, 63, 5243, 8, 1075, 14], [783, 929, 19, 12, 869, 535, 823, 1911, 14, 16, 12, 2161, 23574, 14, 692, 63, 6544, 2975, 2070, 9, 232, 23574, 14, 2770, 8, 56, 17, 12, 522, 17, 9, 232, 294, 2102, 542, 256, 1149, 26032, 1860, 292, 396, 232, 1387, 63, 783, 63, 32580, 63, 5243, 8, 16158, 14, 692, 63, 6544, 3567, 1138, 1283, 396, 9, 4391, 173, 295, 1737, 63, 12220, 63, 6544, 794, 232, 290, 7059, 2285, 1149, 26032, 602, 7343, 562, 14, 290, 232, 296, 1429, 253, 404, 46292, 42930, 20909, 12, 13914, 32414, 20909, 1356, 222, 23574, 233, 1429, 1239, 2770, 8, 56, 18, 12, 522, 18, 9, 222, 1387, 63, 783, 63, 32580, 63, 5243, 8, 1075, 14, 668, 8, 1075, 14, 783, 929, 18, 12, 554, 12, 554], [535, 823, 1911, 14, 16, 491, 2796, 23574, 14, 692, 63, 668, 63, 6544, 2975, 2070, 9, 4391, 173, 295, 1737, 63, 77, 3916, 66, 794, 232, 290, 7059, 13914, 32414, 22615, 614, 49627, 7957, 14, 312, 841, 4427, 542, 13914, 32414, 20909, 14635, 2872, 350, 4969, 350, 1435, 232, 2790, 856, 296, 231, 4160, 24439, 1918, 14, 232, 290, 312, 296, 1247, 253, 404, 56, 18, 12, 4985, 14, 6322, 14, 9422, 63, 2271, 8, 56, 18, 18954, 222, 294, 2102, 256, 18484, 292, 4969, 256, 8767, 562, 14, 222, 23574, 233, 13914, 32414, 20909, 323, 222, 1387, 63, 2834, 8, 5378, 12, 23574, 14, 2770, 12, 415, 56, 12, 522, 18, 9, 222, 522, 63, 4887, 233, 23574, 14, 2770, 8, 56, 12, 522, 18, 625], [5431, 8, 56, 9, 298, 1387, 63, 783, 63, 5243, 8, 89, 63, 4887, 12, 522, 18, 9, 298, 294, 9750, 542, 635, 14, 668, 8, 16158, 14, 5431, 63, 18518, 8, 56, 353, 8814, 256, 1496, 1354, 442, 222, 294, 23574, 14, 5431, 63, 668, 63, 18518, 8, 56, 9, 222, 522, 63, 4887, 63, 18518, 233, 23574, 14, 5431, 63, 18518, 8, 56, 9, 222, 522, 63, 4887, 63, 668, 63, 18518, 233, 23574, 14, 5431, 63, 668, 63, 18518, 8, 56, 9, 222, 1387, 63, 783, 63, 32580, 63, 5243, 8, 1075, 14, 668, 8, 89, 63, 4887, 63, 18518, 491, 522, 63, 4887, 63, 668, 63, 18518, 12, 2070, 9, 298, 294, 2102, 542, 22158, 10825, 8348, 256, 1496, 1354, 222, 23574, 18, 233], [13914, 32414, 20909, 323, 222, 23574, 18, 14, 5090, 63, 2770, 8, 56, 1018, 18, 547, 522, 18, 1018, 18, 547, 4025, 29, 1075, 14, 3255, 8, 89, 18, 353, 222, 23574, 18, 14, 5090, 63, 2770, 8, 56, 59, 18, 26, 21, 547, 522, 18, 59, 18, 26, 21, 535, 222, 23574, 18, 14, 5090, 63, 2770, 8, 56, 59, 21, 6640, 522, 18, 59, 21, 4302, 298, 522, 63, 4887, 18, 233, 23574, 18, 14, 5431, 8, 56, 9, 222, 1387, 63, 783, 63, 5243, 8, 89, 63, 4887, 18, 12, 522, 18, 9, 298, 522, 63, 4887, 63, 18518, 18, 233, 23574, 18, 14, 5431, 63, 18518, 8, 56, 9, 222, 522, 63, 4887, 63, 668, 63, 18518, 18, 233, 23574, 18, 14, 5431, 63], [668, 63, 18518, 8, 56, 9, 222, 1387, 63, 783, 63, 32580, 63, 5243, 8, 1075, 14, 668, 8, 89, 63, 4887, 63, 18518, 18, 491, 522, 63, 4887, 63, 668, 63, 18518, 18, 12, 2070, 9, 222, 1387, 63, 783, 63, 32580, 63, 5243, 8, 89, 63, 4887, 63, 18518, 18, 12, 522, 63, 4887, 63, 18518, 9, 222, 1387, 63, 783, 63, 32580, 63, 5243, 8, 89, 63, 4887, 63, 668, 63, 18518, 18, 12, 522, 63, 4887, 63, 668, 63, 18518, 9, 298, 294, 23615, 2872, 517, 256, 6296, 433, 815, 4329, 1037, 371, 256, 1496, 442, 2872, 4236, 222, 23574, 19, 233, 13914, 32414, 20909, 323, 222, 23574, 19, 14, 5090, 63, 2770, 8, 56, 12, 522, 18, 12, 4025, 29, 1075, 14, 3255], [8, 89, 18, 353, 298, 522, 63, 4887, 19, 233, 23574, 19, 14, 5431, 8, 56, 9, 222, 1387, 63, 783, 63, 5243, 8, 89, 63, 4887, 19, 12, 522, 18, 9, 222, 522, 63, 4887, 63, 18518, 19, 233, 23574, 19, 14, 5431, 63, 18518, 8, 56, 9, 222, 522, 63, 4887, 63, 668, 63, 18518, 19, 233, 23574, 19, 14, 5431, 63, 668, 63, 18518, 8, 56, 9, 222, 1387, 63, 783, 63, 32580, 63, 5243, 8, 1075, 14, 668, 8, 89, 63, 4887, 63, 18518, 19, 491, 522, 63, 4887, 63, 668, 63, 18518, 19, 12, 2070, 9, 222, 1387, 63, 783, 63, 32580, 63, 5243, 8, 89, 63, 4887, 63, 18518, 19, 12, 522, 63, 4887, 63, 18518, 9, 222, 1387, 63, 783, 63], [32580, 63, 5243, 8, 89, 63, 4887, 63, 668, 63, 18518, 19, 12, 522, 63, 4887, 63, 668, 63, 18518, 9, 4391, 173, 295, 951, 63, 5090, 63, 2770, 8, 1376, 274, 232, 23574, 17, 233, 1429, 323, 232, 23574, 17, 14, 2770, 5773, 16, 12, 396, 547, 404, 17, 12, 443, 4936, 404, 16, 12, 396, 535, 312, 23574, 18, 233, 1429, 323, 232, 23574, 18, 14, 5090, 63, 2770, 5773, 16, 12, 396, 547, 404, 17, 12, 443, 4936, 404, 16, 12, 396, 547, 4025, 2168, 16, 12, 396, 535, 232, 1387, 63, 783, 63, 5243, 8, 16158, 17, 14, 692, 63, 797, 2975, 23574, 18, 14, 692, 63, 797, 4762, 232, 1387, 63, 783, 63, 5243, 8, 16158, 17, 14, 2897, 63, 797, 2975, 23574], [18, 14, 2897, 63, 797, 4762, 312, 23574, 19, 233, 1429, 323, 232, 23574, 19, 14, 5090, 63, 2770, 5773, 16, 12, 396, 4936, 404, 16, 547, 4025, 2168, 16, 12, 396, 535, 232, 23574, 19, 14, 5090, 63, 2770, 5773, 17, 12, 443, 4936, 404, 17, 535, 232, 1387, 63, 783, 63, 5243, 8, 16158, 17, 14, 692, 63, 797, 2975, 23574, 19, 14, 692, 63, 797, 4762, 232, 1387, 63, 783, 63, 5243, 8, 16158, 17, 14, 2897, 63, 797, 2975, 23574, 19, 14, 2897, 63, 797, 4762, 4391, 173, 295, 1737, 63, 1323, 1282, 2462, 66, 63, 5090, 63, 2770, 794, 232, 296, 1429, 253, 404, 15334, 32414, 20909, 12, 30751, 42930, 20909, 1356, 222, 1483, 951, 63, 5090, 63, 2770, 12, 1429, 4391, 173], [295, 1737, 63, 1089, 66, 63, 5090, 63, 2770, 794, 232, 23574, 233, 10320, 20909, 1239, 2770, 8, 56, 12, 522, 9, 232, 23574, 63, 11578, 233, 10320, 20909, 1239, 5090, 63, 2770, 8, 56, 12, 522, 12, 635, 14, 3255, 8, 89, 353, 232, 1387, 63, 783, 63, 32580, 63, 5243, 8, 16158, 14, 4593, 2975, 23574, 63, 11578, 14, 4593, 4762, 232, 1387, 63, 783, 63, 32580, 63, 5243, 8, 16158, 14, 4016, 2975, 23574, 63, 11578, 14, 4016, 4762, 232, 1387, 63, 783, 63, 32580, 63, 5243, 8, 16158, 14, 692, 63, 6544, 2975, 23574, 63, 11578, 14, 692, 63, 6544, 4762, 312, 23574, 63, 11578, 18, 233, 10320, 20909, 1239, 5090, 63, 2770, 8, 56, 59, 16, 1125, 18, 12, 14599, 522, 59, 16], [1125, 18, 547, 635, 14, 3255, 8, 89, 353, 232, 23574, 63, 11578, 18, 14, 5090, 63, 2770, 8, 56, 59, 17, 1125, 18, 547, 522, 59, 17, 1125, 18, 535, 232, 1387, 63, 783, 63, 32580, 63, 5243, 8, 16158, 14, 4593, 2975, 23574, 63, 11578, 18, 14, 4593, 4762, 232, 1387, 63, 783, 63, 32580, 63, 5243, 8, 16158, 14, 4016, 2975, 23574, 63, 11578, 18, 14, 4016, 4762, 232, 1387, 63, 783, 63, 32580, 63, 5243, 8, 16158, 14, 692, 63, 6544, 2975, 23574, 63, 11578, 18, 14, 692, 63, 6544, 4762, 4391, 173, 295, 1737, 63, 1323, 1282, 2462, 66, 63, 8191, 794, 232, 290, 7059, 4163, 2909, 1850, 311, 10127, 17124, 49627, 27036, 280, 312, 296, 1429, 253, 404, 46292, 42930, 20909, 12], [13914, 32414, 20909, 12, 10320, 20909, 1356, 222, 23574, 233, 1429, 1239, 2770, 8, 56, 18, 12, 522, 18, 9, 222, 522, 63, 4887, 233, 23574, 14, 5431, 8, 56, 18, 9, 298, 2689, 233, 15680, 323, 222, 6898, 14, 2313, 8, 16158, 12, 2689, 9, 222, 23574, 233, 6898, 14, 723, 8, 12632, 8, 1557, 14, 10499, 3336, 298, 1387, 63, 783, 63, 5243, 8, 89, 63, 4887, 12, 23574, 14, 5431, 8, 56, 18, 353, 298, 264, 1429, 300, 339, 10320, 20909, 26, 241, 294, 2305, 246, 13, 5484, 434, 1184, 4582, 63, 2770, 300, 4448, 296, 10320, 20909, 608, 294, 7252, 38626, 311, 8362, 15619, 461, 4582, 63, 2770, 241, 23574, 18, 233, 1429, 1239, 5090, 63, 2770, 8, 56, 18, 1018, 19, 547, 522], [18, 1018, 19, 547, 4025, 29, 1075, 14, 3255, 8, 89, 18, 353, 241, 23574, 18, 14, 5090, 63, 2770, 8, 56, 18, 59, 19, 6640, 522, 18, 59, 19, 4302, 241, 2689, 233, 15680, 323, 241, 6898, 14, 2313, 8, 16158, 18, 12, 2689, 9, 241, 23574, 18, 233, 6898, 14, 723, 8, 12632, 8, 1557, 14, 10499, 3336, 241, 1387, 63, 783, 63, 5243, 8, 89, 63, 4887, 12, 23574, 18, 14, 5431, 8, 56, 18, 353, 4391, 173, 295, 1737, 63, 1196, 63, 1207, 63, 2770, 794, 232, 290, 7059, 935, 4427, 296, 256, 2872, 757, 280, 232, 296, 1429, 253, 404, 46292, 42930, 20909, 12, 13914, 32414, 20909, 12, 10320, 20909, 1356, 222, 294, 951, 1593, 12387, 296, 936, 311, 2751, 815, 2872, 626], [222, 1387, 63, 2834, 8, 5378, 12, 1429, 1239, 2770, 12, 1247, 18, 12, 522, 18, 3022, 17, 535, 298, 294, 951, 1593, 12387, 296, 936, 311, 935, 3177, 815, 4969, 626, 222, 23574, 233, 1429, 1239, 2770, 8, 56, 18, 12, 522, 18, 9, 222, 1387, 63, 2834, 8, 5378, 12, 23574, 14, 5431, 12, 1247, 18, 1853, 16973, 17, 535, 4391, 173, 295, 1737, 63, 1196, 63, 1207, 63, 5090, 63, 2770, 794, 232, 296, 1429, 253, 404, 46292, 42930, 20909, 12, 13914, 32414, 20909, 1356, 222, 294, 951, 1593, 12387, 222, 1387, 63, 2834, 8, 5378, 12, 1429, 1239, 5090, 63, 2770, 12, 1247, 18, 12, 522, 18, 3022, 17, 547, 1847, 4025, 29, 1075, 14, 3255, 8, 89, 18, 353, 298, 294, 4025, 300], [1895, 296, 1165, 896, 292, 4582, 2872, 222, 1387, 63, 2834, 8, 5378, 12, 1429, 1239, 5090, 63, 2770, 12, 1247, 18, 12, 522, 18, 9, 298, 294, 951, 12387, 311, 11917, 4025, 856, 222, 23574, 233, 1429, 323, 222, 23574, 14, 5090, 63, 2770, 8, 56, 18, 12, 522, 18, 12, 4025, 29, 1075, 14, 3255, 8, 89, 18, 353, 222, 1387, 63, 2834, 8, 5378, 12, 23574, 14, 5090, 63, 2770, 12, 1247, 18, 12, 522, 18, 12, 1847, 4025, 29, 1075, 14, 4419, 8, 7729, 353, 298, 294, 951, 12387, 311, 935, 1593, 296, 4582, 63, 2770, 222, 1387, 63, 2834, 8, 5378, 12, 23574, 14, 5090, 63, 2770, 12, 1247, 18, 1853, 16973, 17, 547, 522, 18, 9, 298, 294, 951, 12387, 311, 935], [1593, 296, 4969, 222, 1387, 63, 2834, 8, 5378, 12, 23574, 14, 5431, 12, 1247, 18, 1853, 16973, 17, 535, 4391, 173, 295, 1737, 63, 1323, 1282, 2462, 66, 63, 5431, 63, 18518, 794, 232, 290, 7059, 10127, 14368, 4025, 7, 6228, 5410, 280, 312, 294, 507, 3038, 83, 4262, 20518, 30751, 42930, 497, 1530, 32414, 14, 232, 294, 7469, 26, 1876, 231, 1737, 292, 2208, 551, 14, 232, 1247, 63, 617, 42930, 233, 4326, 17, 12, 3038, 12, 443, 547, 404, 16, 12, 396, 12, 443, 547, 404, 16, 12, 3038, 12, 396, 1730, 232, 1247, 63, 2283, 32414, 233, 4326, 16, 12, 396, 547, 404, 17, 12, 869, 547, 404, 20, 12, 443, 1730, 312, 294, 1737, 3229, 1539, 308, 17, 13, 68, 819, 9, 232], [522, 233, 404, 16, 12, 443, 12, 554, 61, 214, 294, 554, 300, 12584, 1737, 296, 3229, 1539, 12, 27382, 69, 22, 8370, 232, 296, 1429, 12, 1247, 253, 2428, 929, 46292, 42930, 20909, 12, 13914, 32414, 20909, 547, 1847, 404, 56, 63, 617, 42930, 12, 1247, 63, 2283, 32414, 2419, 222, 23574, 233, 1429, 1239, 2770, 8, 56, 12, 522, 9, 222, 1387, 63, 5243, 8, 16158, 14, 5431, 8, 56, 1486, 17, 2793, 554, 9, 222, 1387, 63, 5243, 8, 16158, 14, 5431, 63, 18518, 8, 56, 59, 16, 5448, 1028, 12, 308, 17, 12, 554, 353, 222, 1387, 63, 783, 63, 32580, 63, 5243, 8, 16158, 14, 5431, 63, 18518, 8, 56, 1018, 18, 5448, 1138, 8, 1650, 29, 17, 491, 2796, 635, 14, 783], [929, 17, 1995, 396, 14, 2793, 1911, 9, 312, 294, 1737, 44924, 1539, 308, 18, 13, 68, 819, 12, 1024, 1860, 292, 981, 9, 232, 522, 233, 404, 16, 12, 396, 12, 554, 61, 232, 296, 1429, 12, 1247, 253, 2428, 929, 46292, 42930, 20909, 12, 13914, 32414, 20909, 547, 1847, 404, 56, 63, 617, 42930, 12, 1247, 63, 2283, 32414, 2419, 222, 23574, 233, 1429, 1239, 2770, 8, 56, 12, 522, 9, 222, 1387, 63, 5243, 8, 16158, 14, 5431, 63, 18518, 8, 56, 59, 16, 5448, 1028, 12, 308, 17, 12, 869, 353, 222, 1387, 63, 5243, 8, 16158, 14, 5431, 63, 18518, 8, 56, 1018, 18, 5448, 1028, 12, 308, 18, 12, 869, 353, 222, 1387, 63, 32580, 63, 5243, 8, 1075, 14, 1138, 8], [16158, 14, 5431, 63, 18518, 8, 56, 59, 17, 13241, 396, 9, 222, 1387, 63, 32580, 63, 5243, 8, 1075, 14, 1138, 8, 16158, 14, 5431, 63, 18518, 8, 56, 1486, 17, 13241, 396, 9, 222, 1387, 63, 32580, 63, 5243, 8, 1075, 14, 1138, 8, 1075, 14, 1934, 8, 16158, 14, 692, 63, 668, 63, 6544, 63, 2384, 396, 9, 222, 1387, 63, 32580, 63, 5243, 8, 1075, 14, 1138, 8, 1075, 14, 1934, 8, 16158, 14, 13267, 63, 2384, 396, 9, 4391, 173, 295, 1737, 63, 1323, 1282, 2462, 66, 63, 8044, 63, 6544, 794, 232, 290, 7059, 2285, 10127, 14368, 4025, 2872, 231, 8735, 5023, 1701, 1184, 2872, 63, 6544, 29, 722, 350, 1149, 63, 6544, 29, 325, 280, 312, 296, 1429, 253, 404, 46292], [42930, 20909, 12, 13914, 32414, 20909, 1356, 222, 23574, 233, 1429, 323, 222, 23574, 14, 416, 63, 965, 8, 2770, 63, 6544, 29, 722, 9, 222, 23574, 14, 2770, 5773, 16, 547, 404, 16, 547, 404, 17, 4936, 404, 16, 12, 443, 12, 396, 535, 222, 5023, 233, 635, 14, 1934, 8, 16158, 14, 692, 63, 668, 63, 6544, 4762, 222, 1387, 63, 783, 63, 5243, 8, 6544, 12, 635, 14, 783, 47678, 21, 12, 1428, 21, 1899, 4391, 173, 295, 1737, 63, 1323, 1282, 2462, 66, 63, 23389, 63, 6544, 794, 232, 290, 7059, 2285, 10127, 14368, 4025, 811, 1723, 5023, 280, 312, 296, 1429, 253, 404, 46292, 42930, 20909, 12, 13914, 32414, 20909, 1356, 222, 23574, 233, 1429, 8, 692, 63, 6544, 2168, 16, 14, 21], [12, 443, 14, 21, 535, 222, 23574, 14, 2770, 5773, 16, 547, 404, 16, 547, 404, 17, 4936, 404, 16, 12, 443, 12, 396, 535, 222, 5023, 233, 635, 14, 1934, 8, 16158, 14, 692, 63, 668, 63, 6544, 4762, 222, 1387, 63, 783, 63, 5243, 8, 6544, 12, 635, 14, 783, 47678, 21, 12, 1428, 21, 1899, 298, 294, 928, 11342, 936, 311, 4025, 461, 5023, 222, 1387, 63, 2834, 8, 5378, 12, 23574, 14, 2770, 12, 4326, 16, 547, 404, 17, 547, 404, 18, 4936, 404, 16, 12, 396, 12, 554, 535, 222, 1387, 63, 2834, 8, 5378, 12, 23574, 14, 5090, 63, 2770, 12, 4326, 16, 547, 404, 17, 4936, 404, 16, 12, 396, 547, 1847, 4025, 2168, 16, 12, 396, 12, 396, 535, 4391], [173, 295, 1737, 63, 2156, 63, 2077, 63, 2283, 32285, 794, 232, 296, 1429, 253, 404, 46292, 42930, 20909, 12, 13914, 32414, 20909, 1356, 222, 294, 951, 1593, 12387, 296, 936, 311, 2751, 815, 2872, 626, 222, 1483, 951, 63, 2156, 63, 2077, 63, 2283, 32285, 12, 1429, 4391, 173, 295, 951, 63, 2156, 63, 2077, 63, 2283, 32285, 8, 1376, 274, 232, 1247, 233, 404, 222, 404, 16, 12, 443, 12, 396, 547, 222, 404, 16, 12, 396, 12, 396, 547, 222, 404, 16, 12, 396, 12, 396, 547, 222, 404, 17, 12, 443, 12, 443, 547, 232, 2069, 232, 522, 233, 404, 16, 12, 443, 12, 396, 12, 554, 61, 232, 1945, 63, 2077, 233, 635, 14, 783, 929, 17, 12, 396, 12, 554, 12, 554], [547, 1719, 29, 1075, 14, 1345, 9, 232, 1945, 63, 2077, 7092, 1945, 63, 2077, 14, 1138, 323, 232, 23574, 233, 1429, 1239, 2770, 8, 56, 12, 522, 12, 1945, 63, 2077, 29, 2156, 63, 2077, 9, 232, 1387, 63, 783, 63, 5243, 8, 16158, 14, 5431, 8, 56, 491, 404, 16, 12, 396, 12, 396, 12, 554, 535, 312, 294, 2102, 1945, 1909, 1312, 256, 4582, 63, 2770, 757, 232, 23574, 233, 1429, 323, 232, 23574, 14, 5090, 63, 2770, 8, 56, 1018, 18, 547, 522, 1018, 18, 547, 4025, 2168, 16, 12, 396, 12, 554, 547, 370, 1945, 63, 2077, 29, 2156, 63, 2077, 1018, 18, 535, 232, 23574, 14, 5090, 63, 2770, 8, 56, 59, 18, 26, 19, 547, 522, 59, 18, 26, 19, 547], [1945, 63, 2077, 29, 2156, 63, 2077, 59, 18, 26, 19, 535, 232, 23574, 14, 5090, 63, 2770, 8, 56, 59, 19, 6640, 522, 59, 19, 6640, 1945, 63, 2077, 29, 2156, 63, 2077, 59, 19, 4302, 232, 1387, 63, 783, 63, 5243, 8, 16158, 14, 5431, 8, 56, 491, 404, 16, 12, 396, 12, 396, 12, 554, 535, 4391, 173, 295, 1737, 63, 2156, 63, 2077, 63, 77, 4128, 794, 232, 23574, 233, 13914, 32414, 20909, 323, 232, 23574, 14, 2770, 5773, 17, 12, 554, 547, 404, 17, 12, 554, 547, 404, 17, 12, 443, 4936, 241, 404, 16, 12, 443, 12, 396, 547, 241, 1945, 63, 2077, 2168, 17, 12, 396, 12, 1163, 535, 232, 1387, 63, 783, 63, 5243, 8, 16158, 14, 5431, 929, 17], [12, 443, 2793, 404, 17, 535, 232, 4615, 63, 6544, 233, 635, 14, 1934, 8, 16158, 14, 13267, 7285, 16, 535, 232, 1387, 63, 783, 63, 32580, 63, 5243, 929, 17, 415, 4615, 63, 6544, 12, 4615, 63, 6544, 547, 2161, 404, 17, 823, 869, 1995, 554, 823, 869, 16351, 4391, 173, 295, 1737, 63, 7602, 63, 13267, 63, 1028, 794, 232, 290, 7602, 63, 350, 12198, 63, 1037, 1054, 10425, 442, 253, 1135, 5273, 3613, 14, 312, 10359, 13, 17193, 1737, 296, 4681, 294, 18, 9578, 14, 232, 290, 232, 1247, 233, 4326, 17, 12, 443, 12, 443, 547, 404, 17, 12, 396, 12, 396, 1730, 232, 522, 233, 404, 17, 12, 554, 61, 179, 294, 3229, 7957, 312, 296, 23574, 253, 404, 15334, 32414, 20909, 1283], [30751, 42930, 20909, 32266, 222, 23574, 14, 2770, 8, 56, 12, 522, 9, 222, 1387, 63, 5243, 8, 16158, 14, 7602, 3567, 1028, 12, 308, 17, 12, 869, 353, 222, 1387, 63, 5243, 8, 16158, 14, 13267, 3567, 1028, 12, 308, 17, 5154, 4391, 173, 295, 1737, 63, 1207, 63, 11118, 63, 223, 63, 8097, 794, 232, 294, 10359, 12584, 1737, 292, 1409, 2926, 542, 1098, 7273, 42758, 823, 3690, 232, 294, 311, 256, 14368, 3613, 764, 339, 37594, 256, 8720, 517, 231, 14972, 1767, 13, 5349, 435, 232, 294, 2756, 463, 1918, 232, 7227, 233, 1565, 63, 8097, 323, 232, 1247, 12, 522, 233, 7227, 14, 441, 12, 7227, 14, 1359, 232, 3229, 63, 19, 86, 24, 233, 635, 14, 4995, 63, 228, 8, 8097, 14, 1359], [451, 869, 12, 7227, 14, 1359, 451, 2070, 9, 232, 1247, 63, 19, 86, 24, 12, 522, 63, 19, 86, 24, 233, 1247, 59, 4251, 63, 19, 86, 24, 547, 522, 59, 4251, 63, 19, 86, 24, 61, 312, 294, 13914, 32414, 14368, 232, 5410, 233, 5665, 63, 307, 63, 2988, 8, 15334, 32414, 20909, 8, 3441, 29, 1328, 491, 1247, 12, 522, 12, 7240, 29, 1328, 9, 232, 1387, 63, 15910, 8, 5348, 14, 2257, 1283, 443, 14, 4313, 9, 312, 5410, 233, 5665, 63, 307, 63, 2988, 8, 15334, 32414, 20909, 8, 3441, 29, 1328, 491, 1247, 63, 19, 86, 24, 12, 522, 63, 19, 86, 24, 12, 7240, 29, 1328, 9, 232, 1387, 63, 15910, 8, 5348, 14, 2257, 1283, 443, 14, 5259, 9, 312], [294, 30751, 42930, 14368, 232, 5410, 233, 5665, 63, 307, 63, 2988, 8, 46292, 42930, 20909, 8, 3441, 29, 1328, 491, 1247, 751, 1163, 12, 522, 12, 7240, 29, 1328, 9, 232, 1387, 63, 15910, 8, 5348, 14, 2257, 1283, 443, 14, 10214, 9, 312, 5410, 233, 5665, 63, 307, 63, 2988, 8, 46292, 42930, 20909, 8, 3441, 29, 1328, 491, 1247, 63, 19, 86, 24, 751, 1163, 12, 522, 63, 19, 86, 24, 12, 7240, 29, 1328, 9, 232, 1387, 63, 15910, 8, 5348, 14, 2257, 1283, 443, 14, 11223, 9, 312, 294, 10320, 14368, 232, 5410, 233, 5665, 63, 307, 63, 2988, 8, 20690, 20909, 1283, 1247, 12, 522, 12, 7240, 29, 1328, 9, 232, 1387, 63, 15910, 8, 5348, 14, 2257, 1283, 443, 14, 5336], [9, 312, 5410, 233, 5665, 63, 307, 63, 2988, 8, 20690, 20909, 1283, 1247, 63, 19, 86, 24, 12, 522, 63, 19, 86, 24, 12, 7240, 29, 1328, 9, 232, 1387, 63, 15910, 8, 5348, 14, 2257, 1283, 443, 14, 4313, 9, 173]]\n",
            "attention_mask\n",
            "[[1, 1, 1, 1, 1, 1, 1, 1, 1, 1, 1, 1, 1, 1, 1, 1, 1, 1, 1, 1, 1, 1, 1, 1, 1, 1, 1, 1, 1, 1, 1, 1, 1, 1, 1, 1, 1, 1, 1, 1, 1, 1, 1, 1, 1, 1, 1, 1, 1, 1, 1, 1, 1, 1, 1, 1, 1, 1, 1, 1, 1, 1, 1, 1, 1, 1, 1, 1, 1, 1, 1, 1, 1, 1, 1, 1, 1, 1, 1, 1, 1, 1, 1, 1, 1, 1, 1, 1, 1, 1, 1, 1, 1, 1, 1, 1, 1, 1, 1, 1, 1, 1, 1, 1, 1, 1, 1, 1, 1, 1, 1, 1, 1, 1, 1, 1, 1, 1, 1, 1, 1, 1, 1, 1, 1, 1, 1, 1], [1, 1, 1, 1, 1, 1, 1, 1, 1, 1, 1, 1, 1, 1, 1, 1, 1, 1, 1, 1, 1, 1, 1, 1, 1, 1, 1, 1, 1, 1, 1, 1, 1, 1, 1, 1, 1, 1, 1, 1, 1, 1, 1, 1, 1, 1, 1, 1, 1, 1, 1, 1, 1, 1, 1, 1, 1, 1, 1, 1, 1, 1, 1, 1, 1, 1, 1, 1, 1, 1, 1, 1, 1, 1, 1, 1, 1, 1, 1, 1, 1, 1, 1, 1, 1, 1, 1, 1, 1, 1, 1, 1, 1, 1, 1, 1, 1, 1, 1, 1, 1, 1, 1, 1, 1, 1, 1, 1, 1, 1, 1, 1, 1, 1, 1, 1, 1, 1, 1, 1, 1, 1, 1, 1, 1, 1, 1, 1], [1, 1, 1, 1, 1, 1, 1, 1, 1, 1, 1, 1, 1, 1, 1, 1, 1, 1, 1, 1, 1, 1, 1, 1, 1, 1, 1, 1, 1, 1, 1, 1, 1, 1, 1, 1, 1, 1, 1, 1, 1, 1, 1, 1, 1, 1, 1, 1, 1, 1, 1, 1, 1, 1, 1, 1, 1, 1, 1, 1, 1, 1, 1, 1, 1, 1, 1, 1, 1, 1, 1, 1, 1, 1, 1, 1, 1, 1, 1, 1, 1, 1, 1, 1, 1, 1, 1, 1, 1, 1, 1, 1, 1, 1, 1, 1, 1, 1, 1, 1, 1, 1, 1, 1, 1, 1, 1, 1, 1, 1, 1, 1, 1, 1, 1, 1, 1, 1, 1, 1, 1, 1, 1, 1, 1, 1, 1, 1], [1, 1, 1, 1, 1, 1, 1, 1, 1, 1, 1, 1, 1, 1, 1, 1, 1, 1, 1, 1, 1, 1, 1, 1, 1, 1, 1, 1, 1, 1, 1, 1, 1, 1, 1, 1, 1, 1, 1, 1, 1, 1, 1, 1, 1, 1, 1, 1, 1, 1, 1, 1, 1, 1, 1, 1, 1, 1, 1, 1, 1, 1, 1, 1, 1, 1, 1, 1, 1, 1, 1, 1, 1, 1, 1, 1, 1, 1, 1, 1, 1, 1, 1, 1, 1, 1, 1, 1, 1, 1, 1, 1, 1, 1, 1, 1, 1, 1, 1, 1, 1, 1, 1, 1, 1, 1, 1, 1, 1, 1, 1, 1, 1, 1, 1, 1, 1, 1, 1, 1, 1, 1, 1, 1, 1, 1, 1, 1], [1, 1, 1, 1, 1, 1, 1, 1, 1, 1, 1, 1, 1, 1, 1, 1, 1, 1, 1, 1, 1, 1, 1, 1, 1, 1, 1, 1, 1, 1, 1, 1, 1, 1, 1, 1, 1, 1, 1, 1, 1, 1, 1, 1, 1, 1, 1, 1, 1, 1, 1, 1, 1, 1, 1, 1, 1, 1, 1, 1, 1, 1, 1, 1, 1, 1, 1, 1, 1, 1, 1, 1, 1, 1, 1, 1, 1, 1, 1, 1, 1, 1, 1, 1, 1, 1, 1, 1, 1, 1, 1, 1, 1, 1, 1, 1, 1, 1, 1, 1, 1, 1, 1, 1, 1, 1, 1, 1, 1, 1, 1, 1, 1, 1, 1, 1, 1, 1, 1, 1, 1, 1, 1, 1, 1, 1, 1, 1], [1, 1, 1, 1, 1, 1, 1, 1, 1, 1, 1, 1, 1, 1, 1, 1, 1, 1, 1, 1, 1, 1, 1, 1, 1, 1, 1, 1, 1, 1, 1, 1, 1, 1, 1, 1, 1, 1, 1, 1, 1, 1, 1, 1, 1, 1, 1, 1, 1, 1, 1, 1, 1, 1, 1, 1, 1, 1, 1, 1, 1, 1, 1, 1, 1, 1, 1, 1, 1, 1, 1, 1, 1, 1, 1, 1, 1, 1, 1, 1, 1, 1, 1, 1, 1, 1, 1, 1, 1, 1, 1, 1, 1, 1, 1, 1, 1, 1, 1, 1, 1, 1, 1, 1, 1, 1, 1, 1, 1, 1, 1, 1, 1, 1, 1, 1, 1, 1, 1, 1, 1, 1, 1, 1, 1, 1, 1, 1], [1, 1, 1, 1, 1, 1, 1, 1, 1, 1, 1, 1, 1, 1, 1, 1, 1, 1, 1, 1, 1, 1, 1, 1, 1, 1, 1, 1, 1, 1, 1, 1, 1, 1, 1, 1, 1, 1, 1, 1, 1, 1, 1, 1, 1, 1, 1, 1, 1, 1, 1, 1, 1, 1, 1, 1, 1, 1, 1, 1, 1, 1, 1, 1, 1, 1, 1, 1, 1, 1, 1, 1, 1, 1, 1, 1, 1, 1, 1, 1, 1, 1, 1, 1, 1, 1, 1, 1, 1, 1, 1, 1, 1, 1, 1, 1, 1, 1, 1, 1, 1, 1, 1, 1, 1, 1, 1, 1, 1, 1, 1, 1, 1, 1, 1, 1, 1, 1, 1, 1, 1, 1, 1, 1, 1, 1, 1, 1], [1, 1, 1, 1, 1, 1, 1, 1, 1, 1, 1, 1, 1, 1, 1, 1, 1, 1, 1, 1, 1, 1, 1, 1, 1, 1, 1, 1, 1, 1, 1, 1, 1, 1, 1, 1, 1, 1, 1, 1, 1, 1, 1, 1, 1, 1, 1, 1, 1, 1, 1, 1, 1, 1, 1, 1, 1, 1, 1, 1, 1, 1, 1, 1, 1, 1, 1, 1, 1, 1, 1, 1, 1, 1, 1, 1, 1, 1, 1, 1, 1, 1, 1, 1, 1, 1, 1, 1, 1, 1, 1, 1, 1, 1, 1, 1, 1, 1, 1, 1, 1, 1, 1, 1, 1, 1, 1, 1, 1, 1, 1, 1, 1, 1, 1, 1, 1, 1, 1, 1, 1, 1, 1, 1, 1, 1, 1, 1], [1, 1, 1, 1, 1, 1, 1, 1, 1, 1, 1, 1, 1, 1, 1, 1, 1, 1, 1, 1, 1, 1, 1, 1, 1, 1, 1, 1, 1, 1, 1, 1, 1, 1, 1, 1, 1, 1, 1, 1, 1, 1, 1, 1, 1, 1, 1, 1, 1, 1, 1, 1, 1, 1, 1, 1, 1, 1, 1, 1, 1, 1, 1, 1, 1, 1, 1, 1, 1, 1, 1, 1, 1, 1, 1, 1, 1, 1, 1, 1, 1, 1, 1, 1, 1, 1, 1, 1, 1, 1, 1, 1, 1, 1, 1, 1, 1, 1, 1, 1, 1, 1, 1, 1, 1, 1, 1, 1, 1, 1, 1, 1, 1, 1, 1, 1, 1, 1, 1, 1, 1, 1, 1, 1, 1, 1, 1, 1], [1, 1, 1, 1, 1, 1, 1, 1, 1, 1, 1, 1, 1, 1, 1, 1, 1, 1, 1, 1, 1, 1, 1, 1, 1, 1, 1, 1, 1, 1, 1, 1, 1, 1, 1, 1, 1, 1, 1, 1, 1, 1, 1, 1, 1, 1, 1, 1, 1, 1, 1, 1, 1, 1, 1, 1, 1, 1, 1, 1, 1, 1, 1, 1, 1, 1, 1, 1, 1, 1, 1, 1, 1, 1, 1, 1, 1, 1, 1, 1, 1, 1, 1, 1, 1, 1, 1, 1, 1, 1, 1, 1, 1, 1, 1, 1, 1, 1, 1, 1, 1, 1, 1, 1, 1, 1, 1, 1, 1, 1, 1, 1, 1, 1, 1, 1, 1, 1, 1, 1, 1, 1, 1, 1, 1, 1, 1, 1], [1, 1, 1, 1, 1, 1, 1, 1, 1, 1, 1, 1, 1, 1, 1, 1, 1, 1, 1, 1, 1, 1, 1, 1, 1, 1, 1, 1, 1, 1, 1, 1, 1, 1, 1, 1, 1, 1, 1, 1, 1, 1, 1, 1, 1, 1, 1, 1, 1, 1, 1, 1, 1, 1, 1, 1, 1, 1, 1, 1, 1, 1, 1, 1, 1, 1, 1, 1, 1, 1, 1, 1, 1, 1, 1, 1, 1, 1, 1, 1, 1, 1, 1, 1, 1, 1, 1, 1, 1, 1, 1, 1, 1, 1, 1, 1, 1, 1, 1, 1, 1, 1, 1, 1, 1, 1, 1, 1, 1, 1, 1, 1, 1, 1, 1, 1, 1, 1, 1, 1, 1, 1, 1, 1, 1, 1, 1, 1], [1, 1, 1, 1, 1, 1, 1, 1, 1, 1, 1, 1, 1, 1, 1, 1, 1, 1, 1, 1, 1, 1, 1, 1, 1, 1, 1, 1, 1, 1, 1, 1, 1, 1, 1, 1, 1, 1, 1, 1, 1, 1, 1, 1, 1, 1, 1, 1, 1, 1, 1, 1, 1, 1, 1, 1, 1, 1, 1, 1, 1, 1, 1, 1, 1, 1, 1, 1, 1, 1, 1, 1, 1, 1, 1, 1, 1, 1, 1, 1, 1, 1, 1, 1, 1, 1, 1, 1, 1, 1, 1, 1, 1, 1, 1, 1, 1, 1, 1, 1, 1, 1, 1, 1, 1, 1, 1, 1, 1, 1, 1, 1, 1, 1, 1, 1, 1, 1, 1, 1, 1, 1, 1, 1, 1, 1, 1, 1], [1, 1, 1, 1, 1, 1, 1, 1, 1, 1, 1, 1, 1, 1, 1, 1, 1, 1, 1, 1, 1, 1, 1, 1, 1, 1, 1, 1, 1, 1, 1, 1, 1, 1, 1, 1, 1, 1, 1, 1, 1, 1, 1, 1, 1, 1, 1, 1, 1, 1, 1, 1, 1, 1, 1, 1, 1, 1, 1, 1, 1, 1, 1, 1, 1, 1, 1, 1, 1, 1, 1, 1, 1, 1, 1, 1, 1, 1, 1, 1, 1, 1, 1, 1, 1, 1, 1, 1, 1, 1, 1, 1, 1, 1, 1, 1, 1, 1, 1, 1, 1, 1, 1, 1, 1, 1, 1, 1, 1, 1, 1, 1, 1, 1, 1, 1, 1, 1, 1, 1, 1, 1, 1, 1, 1, 1, 1, 1], [1, 1, 1, 1, 1, 1, 1, 1, 1, 1, 1, 1, 1, 1, 1, 1, 1, 1, 1, 1, 1, 1, 1, 1, 1, 1, 1, 1, 1, 1, 1, 1, 1, 1, 1, 1, 1, 1, 1, 1, 1, 1, 1, 1, 1, 1, 1, 1, 1, 1, 1, 1, 1, 1, 1, 1, 1, 1, 1, 1, 1, 1, 1, 1, 1, 1, 1, 1, 1, 1, 1, 1, 1, 1, 1, 1, 1, 1, 1, 1, 1, 1, 1, 1, 1, 1, 1, 1, 1, 1, 1, 1, 1, 1, 1, 1, 1, 1, 1, 1, 1, 1, 1, 1, 1, 1, 1, 1, 1, 1, 1, 1, 1, 1, 1, 1, 1, 1, 1, 1, 1, 1, 1, 1, 1, 1, 1, 1], [1, 1, 1, 1, 1, 1, 1, 1, 1, 1, 1, 1, 1, 1, 1, 1, 1, 1, 1, 1, 1, 1, 1, 1, 1, 1, 1, 1, 1, 1, 1, 1, 1, 1, 1, 1, 1, 1, 1, 1, 1, 1, 1, 1, 1, 1, 1, 1, 1, 1, 1, 1, 1, 1, 1, 1, 1, 1, 1, 1, 1, 1, 1, 1, 1, 1, 1, 1, 1, 1, 1, 1, 1, 1, 1, 1, 1, 1, 1, 1, 1, 1, 1, 1, 1, 1, 1, 1, 1, 1, 1, 1, 1, 1, 1, 1, 1, 1, 1, 1, 1, 1, 1, 1, 1, 1, 1, 1, 1, 1, 1, 1, 1, 1, 1, 1, 1, 1, 1, 1, 1, 1, 1, 1, 1, 1, 1, 1], [1, 1, 1, 1, 1, 1, 1, 1, 1, 1, 1, 1, 1, 1, 1, 1, 1, 1, 1, 1, 1, 1, 1, 1, 1, 1, 1, 1, 1, 1, 1, 1, 1, 1, 1, 1, 1, 1, 1, 1, 1, 1, 1, 1, 1, 1, 1, 1, 1, 1, 1, 1, 1, 1, 1, 1, 1, 1, 1, 1, 1, 1, 1, 1, 1, 1, 1, 1, 1, 1, 1, 1, 1, 1, 1, 1, 1, 1, 1, 1, 1, 1, 1, 1, 1, 1, 1, 1, 1, 1, 1, 1, 1, 1, 1, 1, 1, 1, 1, 1, 1, 1, 1, 1, 1, 1, 1, 1, 1, 1, 1, 1, 1, 1, 1, 1, 1, 1, 1, 1, 1, 1, 1, 1, 1, 1, 1, 1], [1, 1, 1, 1, 1, 1, 1, 1, 1, 1, 1, 1, 1, 1, 1, 1, 1, 1, 1, 1, 1, 1, 1, 1, 1, 1, 1, 1, 1, 1, 1, 1, 1, 1, 1, 1, 1, 1, 1, 1, 1, 1, 1, 1, 1, 1, 1, 1, 1, 1, 1, 1, 1, 1, 1, 1, 1, 1, 1, 1, 1, 1, 1, 1, 1, 1, 1, 1, 1, 1, 1, 1, 1, 1, 1, 1, 1, 1, 1, 1, 1, 1, 1, 1, 1, 1, 1, 1, 1, 1, 1, 1, 1, 1, 1, 1, 1, 1, 1, 1, 1, 1, 1, 1, 1, 1, 1, 1, 1, 1, 1, 1, 1, 1, 1, 1, 1, 1, 1, 1, 1, 1, 1, 1, 1, 1, 1, 1], [1, 1, 1, 1, 1, 1, 1, 1, 1, 1, 1, 1, 1, 1, 1, 1, 1, 1, 1, 1, 1, 1, 1, 1, 1, 1, 1, 1, 1, 1, 1, 1, 1, 1, 1, 1, 1, 1, 1, 1, 1, 1, 1, 1, 1, 1, 1, 1, 1, 1, 1, 1, 1, 1, 1, 1, 1, 1, 1, 1, 1, 1, 1, 1, 1, 1, 1, 1, 1, 1, 1, 1, 1, 1, 1, 1, 1, 1, 1, 1, 1, 1, 1, 1, 1, 1, 1, 1, 1, 1, 1, 1, 1, 1, 1, 1, 1, 1, 1, 1, 1, 1, 1, 1, 1, 1, 1, 1, 1, 1, 1, 1, 1, 1, 1, 1, 1, 1, 1, 1, 1, 1, 1, 1, 1, 1, 1, 1], [1, 1, 1, 1, 1, 1, 1, 1, 1, 1, 1, 1, 1, 1, 1, 1, 1, 1, 1, 1, 1, 1, 1, 1, 1, 1, 1, 1, 1, 1, 1, 1, 1, 1, 1, 1, 1, 1, 1, 1, 1, 1, 1, 1, 1, 1, 1, 1, 1, 1, 1, 1, 1, 1, 1, 1, 1, 1, 1, 1, 1, 1, 1, 1, 1, 1, 1, 1, 1, 1, 1, 1, 1, 1, 1, 1, 1, 1, 1, 1, 1, 1, 1, 1, 1, 1, 1, 1, 1, 1, 1, 1, 1, 1, 1, 1, 1, 1, 1, 1, 1, 1, 1, 1, 1, 1, 1, 1, 1, 1, 1, 1, 1, 1, 1, 1, 1, 1, 1, 1, 1, 1, 1, 1, 1, 1, 1, 1], [1, 1, 1, 1, 1, 1, 1, 1, 1, 1, 1, 1, 1, 1, 1, 1, 1, 1, 1, 1, 1, 1, 1, 1, 1, 1, 1, 1, 1, 1, 1, 1, 1, 1, 1, 1, 1, 1, 1, 1, 1, 1, 1, 1, 1, 1, 1, 1, 1, 1, 1, 1, 1, 1, 1, 1, 1, 1, 1, 1, 1, 1, 1, 1, 1, 1, 1, 1, 1, 1, 1, 1, 1, 1, 1, 1, 1, 1, 1, 1, 1, 1, 1, 1, 1, 1, 1, 1, 1, 1, 1, 1, 1, 1, 1, 1, 1, 1, 1, 1, 1, 1, 1, 1, 1, 1, 1, 1, 1, 1, 1, 1, 1, 1, 1, 1, 1, 1, 1, 1, 1, 1, 1, 1, 1, 1, 1, 1], [1, 1, 1, 1, 1, 1, 1, 1, 1, 1, 1, 1, 1, 1, 1, 1, 1, 1, 1, 1, 1, 1, 1, 1, 1, 1, 1, 1, 1, 1, 1, 1, 1, 1, 1, 1, 1, 1, 1, 1, 1, 1, 1, 1, 1, 1, 1, 1, 1, 1, 1, 1, 1, 1, 1, 1, 1, 1, 1, 1, 1, 1, 1, 1, 1, 1, 1, 1, 1, 1, 1, 1, 1, 1, 1, 1, 1, 1, 1, 1, 1, 1, 1, 1, 1, 1, 1, 1, 1, 1, 1, 1, 1, 1, 1, 1, 1, 1, 1, 1, 1, 1, 1, 1, 1, 1, 1, 1, 1, 1, 1, 1, 1, 1, 1, 1, 1, 1, 1, 1, 1, 1, 1, 1, 1, 1, 1, 1], [1, 1, 1, 1, 1, 1, 1, 1, 1, 1, 1, 1, 1, 1, 1, 1, 1, 1, 1, 1, 1, 1, 1, 1, 1, 1, 1, 1, 1, 1, 1, 1, 1, 1, 1, 1, 1, 1, 1, 1, 1, 1, 1, 1, 1, 1, 1, 1, 1, 1, 1, 1, 1, 1, 1, 1, 1, 1, 1, 1, 1, 1, 1, 1, 1, 1, 1, 1, 1, 1, 1, 1, 1, 1, 1, 1, 1, 1, 1, 1, 1, 1, 1, 1, 1, 1, 1, 1, 1, 1, 1, 1, 1, 1, 1, 1, 1, 1, 1, 1, 1, 1, 1, 1, 1, 1, 1, 1, 1, 1, 1, 1, 1, 1, 1, 1, 1, 1, 1, 1, 1, 1, 1, 1, 1, 1, 1, 1], [1, 1, 1, 1, 1, 1, 1, 1, 1, 1, 1, 1, 1, 1, 1, 1, 1, 1, 1, 1, 1, 1, 1, 1, 1, 1, 1, 1, 1, 1, 1, 1, 1, 1, 1, 1, 1, 1, 1, 1, 1, 1, 1, 1, 1, 1, 1, 1, 1, 1, 1, 1, 1, 1, 1, 1, 1, 1, 1, 1, 1, 1, 1, 1, 1, 1, 1, 1, 1, 1, 1, 1, 1, 1, 1, 1, 1, 1, 1, 1, 1, 1, 1, 1, 1, 1, 1, 1, 1, 1, 1, 1, 1, 1, 1, 1, 1, 1, 1, 1, 1, 1, 1, 1, 1, 1, 1, 1, 1, 1, 1, 1, 1, 1, 1, 1, 1, 1, 1, 1, 1, 1, 1, 1, 1, 1, 1, 1], [1, 1, 1, 1, 1, 1, 1, 1, 1, 1, 1, 1, 1, 1, 1, 1, 1, 1, 1, 1, 1, 1, 1, 1, 1, 1, 1, 1, 1, 1, 1, 1, 1, 1, 1, 1, 1, 1, 1, 1, 1, 1, 1, 1, 1, 1, 1, 1, 1, 1, 1, 1, 1, 1, 1, 1, 1, 1, 1, 1, 1, 1, 1, 1, 1, 1, 1, 1, 1, 1, 1, 1, 1, 1, 1, 1, 1, 1, 1, 1, 1, 1, 1, 1, 1, 1, 1, 1, 1, 1, 1, 1, 1, 1, 1, 1, 1, 1, 1, 1, 1, 1, 1, 1, 1, 1, 1, 1, 1, 1, 1, 1, 1, 1, 1, 1, 1, 1, 1, 1, 1, 1, 1, 1, 1, 1, 1, 1], [1, 1, 1, 1, 1, 1, 1, 1, 1, 1, 1, 1, 1, 1, 1, 1, 1, 1, 1, 1, 1, 1, 1, 1, 1, 1, 1, 1, 1, 1, 1, 1, 1, 1, 1, 1, 1, 1, 1, 1, 1, 1, 1, 1, 1, 1, 1, 1, 1, 1, 1, 1, 1, 1, 1, 1, 1, 1, 1, 1, 1, 1, 1, 1, 1, 1, 1, 1, 1, 1, 1, 1, 1, 1, 1, 1, 1, 1, 1, 1, 1, 1, 1, 1, 1, 1, 1, 1, 1, 1, 1, 1, 1, 1, 1, 1, 1, 1, 1, 1, 1, 1, 1, 1, 1, 1, 1, 1, 1, 1, 1, 1, 1, 1, 1, 1, 1, 1, 1, 1, 1, 1, 1, 1, 1, 1, 1, 1], [1, 1, 1, 1, 1, 1, 1, 1, 1, 1, 1, 1, 1, 1, 1, 1, 1, 1, 1, 1, 1, 1, 1, 1, 1, 1, 1, 1, 1, 1, 1, 1, 1, 1, 1, 1, 1, 1, 1, 1, 1, 1, 1, 1, 1, 1, 1, 1, 1, 1, 1, 1, 1, 1, 1, 1, 1, 1, 1, 1, 1, 1, 1, 1, 1, 1, 1, 1, 1, 1, 1, 1, 1, 1, 1, 1, 1, 1, 1, 1, 1, 1, 1, 1, 1, 1, 1, 1, 1, 1, 1, 1, 1, 1, 1, 1, 1, 1, 1, 1, 1, 1, 1, 1, 1, 1, 1, 1, 1, 1, 1, 1, 1, 1, 1, 1, 1, 1, 1, 1, 1, 1, 1, 1, 1, 1, 1, 1], [1, 1, 1, 1, 1, 1, 1, 1, 1, 1, 1, 1, 1, 1, 1, 1, 1, 1, 1, 1, 1, 1, 1, 1, 1, 1, 1, 1, 1, 1, 1, 1, 1, 1, 1, 1, 1, 1, 1, 1, 1, 1, 1, 1, 1, 1, 1, 1, 1, 1, 1, 1, 1, 1, 1, 1, 1, 1, 1, 1, 1, 1, 1, 1, 1, 1, 1, 1, 1, 1, 1, 1, 1, 1, 1, 1, 1, 1, 1, 1, 1, 1, 1, 1, 1, 1, 1, 1, 1, 1, 1, 1, 1, 1, 1, 1, 1, 1, 1, 1, 1, 1, 1, 1, 1, 1, 1, 1, 1, 1, 1, 1, 1, 1, 1, 1, 1, 1, 1, 1, 1, 1, 1, 1, 1, 1, 1, 1], [1, 1, 1, 1, 1, 1, 1, 1, 1, 1, 1, 1, 1, 1, 1, 1, 1, 1, 1, 1, 1, 1, 1, 1, 1, 1, 1, 1, 1, 1, 1, 1, 1, 1, 1, 1, 1, 1, 1, 1, 1, 1, 1, 1, 1, 1, 1, 1, 1, 1, 1, 1, 1, 1, 1, 1, 1, 1, 1, 1, 1, 1, 1, 1, 1, 1, 1, 1, 1, 1, 1, 1, 1, 1, 1, 1, 1, 1, 1, 1, 1, 1, 1, 1, 1, 1, 1, 1, 1, 1, 1, 1, 1, 1, 1, 1, 1, 1, 1, 1, 1, 1, 1, 1, 1, 1, 1, 1, 1, 1, 1, 1, 1, 1, 1, 1, 1, 1, 1, 1, 1, 1, 1, 1, 1, 1, 1, 1], [1, 1, 1, 1, 1, 1, 1, 1, 1, 1, 1, 1, 1, 1, 1, 1, 1, 1, 1, 1, 1, 1, 1, 1, 1, 1, 1, 1, 1, 1, 1, 1, 1, 1, 1, 1, 1, 1, 1, 1, 1, 1, 1, 1, 1, 1, 1, 1, 1, 1, 1, 1, 1, 1, 1, 1, 1, 1, 1, 1, 1, 1, 1, 1, 1, 1, 1, 1, 1, 1, 1, 1, 1, 1, 1, 1, 1, 1, 1, 1, 1, 1, 1, 1, 1, 1, 1, 1, 1, 1, 1, 1, 1, 1, 1, 1, 1, 1, 1, 1, 1, 1, 1, 1, 1, 1, 1, 1, 1, 1, 1, 1, 1, 1, 1, 1, 1, 1, 1, 1, 1, 1, 1, 1, 1, 1, 1, 1], [1, 1, 1, 1, 1, 1, 1, 1, 1, 1, 1, 1, 1, 1, 1, 1, 1, 1, 1, 1, 1, 1, 1, 1, 1, 1, 1, 1, 1, 1, 1, 1, 1, 1, 1, 1, 1, 1, 1, 1, 1, 1, 1, 1, 1, 1, 1, 1, 1, 1, 1, 1, 1, 1, 1, 1, 1, 1, 1, 1, 1, 1, 1, 1, 1, 1, 1, 1, 1, 1, 1, 1, 1, 1, 1, 1, 1, 1, 1, 1, 1, 1, 1, 1, 1, 1, 1, 1, 1, 1, 1, 1, 1, 1, 1, 1, 1, 1, 1, 1, 1, 1, 1, 1, 1, 1, 1, 1, 1, 1, 1, 1, 1, 1, 1, 1, 1, 1, 1, 1, 1, 1, 1, 1, 1, 1, 1, 1], [1, 1, 1, 1, 1, 1, 1, 1, 1, 1, 1, 1, 1, 1, 1, 1, 1, 1, 1, 1, 1, 1, 1, 1, 1, 1, 1, 1, 1, 1, 1, 1, 1, 1, 1, 1, 1, 1, 1, 1, 1, 1, 1, 1, 1, 1, 1, 1, 1, 1, 1, 1, 1, 1, 1, 1, 1, 1, 1, 1, 1, 1, 1, 1, 1, 1, 1, 1, 1, 1, 1, 1, 1, 1, 1, 1, 1, 1, 1, 1, 1, 1, 1, 1, 1, 1, 1, 1, 1, 1, 1, 1, 1, 1, 1, 1, 1, 1, 1, 1, 1, 1, 1, 1, 1, 1, 1, 1, 1, 1, 1, 1, 1, 1, 1, 1, 1, 1, 1, 1, 1, 1, 1, 1, 1, 1, 1, 1], [1, 1, 1, 1, 1, 1, 1, 1, 1, 1, 1, 1, 1, 1, 1, 1, 1, 1, 1, 1, 1, 1, 1, 1, 1, 1, 1, 1, 1, 1, 1, 1, 1, 1, 1, 1, 1, 1, 1, 1, 1, 1, 1, 1, 1, 1, 1, 1, 1, 1, 1, 1, 1, 1, 1, 1, 1, 1, 1, 1, 1, 1, 1, 1, 1, 1, 1, 1, 1, 1, 1, 1, 1, 1, 1, 1, 1, 1, 1, 1, 1, 1, 1, 1, 1, 1, 1, 1, 1, 1, 1, 1, 1, 1, 1, 1, 1, 1, 1, 1, 1, 1, 1, 1, 1, 1, 1, 1, 1, 1, 1, 1, 1, 1, 1, 1, 1, 1, 1, 1, 1, 1, 1, 1, 1, 1, 1, 1], [1, 1, 1, 1, 1, 1, 1, 1, 1, 1, 1, 1, 1, 1, 1, 1, 1, 1, 1, 1, 1, 1, 1, 1, 1, 1, 1, 1, 1, 1, 1, 1, 1, 1, 1, 1, 1, 1, 1, 1, 1, 1, 1, 1, 1, 1, 1, 1, 1, 1, 1, 1, 1, 1, 1, 1, 1, 1, 1, 1, 1, 1, 1, 1, 1, 1, 1, 1, 1, 1, 1, 1, 1, 1, 1, 1, 1, 1, 1, 1, 1, 1, 1, 1, 1, 1, 1, 1, 1, 1, 1, 1, 1, 1, 1, 1, 1, 1, 1, 1, 1, 1, 1, 1, 1, 1, 1, 1, 1, 1, 1, 1, 1, 1, 1, 1, 1, 1, 1, 1, 1, 1, 1, 1, 1, 1, 1, 1], [1, 1, 1, 1, 1, 1, 1, 1, 1, 1, 1, 1, 1, 1, 1, 1, 1, 1, 1, 1, 1, 1, 1, 1, 1, 1, 1, 1, 1, 1, 1, 1, 1, 1, 1, 1, 1, 1, 1, 1, 1, 1, 1, 1, 1, 1, 1, 1, 1, 1, 1, 1, 1, 1, 1, 1, 1, 1, 1, 1, 1, 1, 1, 1, 1, 1, 1, 1, 1, 1, 1, 1, 1, 1, 1, 1, 1, 1, 1, 1, 1, 1, 1, 1, 1, 1, 1, 1, 1, 1, 1, 1, 1, 1, 1, 1, 1, 1, 1, 1, 1, 1, 1, 1, 1, 1, 1, 1, 1, 1, 1, 1, 1, 1, 1, 1, 1, 1, 1, 1, 1, 1, 1, 1, 1, 1, 1, 1], [1, 1, 1, 1, 1, 1, 1, 1, 1, 1, 1, 1, 1, 1, 1, 1, 1, 1, 1, 1, 1, 1, 1, 1, 1, 1, 1, 1, 1, 1, 1, 1, 1, 1, 1, 1, 1, 1, 1, 1, 1, 1, 1, 1, 1, 1, 1, 1, 1, 1, 1, 1, 1, 1, 1, 1, 1, 1, 1, 1, 1, 1, 1, 1, 1, 1, 1, 1, 1, 1, 1, 1, 1, 1, 1, 1, 1, 1, 1, 1, 1, 1, 1, 1, 1, 1, 1, 1, 1, 1, 1, 1, 1, 1, 1, 1, 1, 1, 1, 1, 1, 1, 1, 1, 1, 1, 1, 1, 1, 1, 1, 1, 1, 1, 1, 1, 1, 1, 1, 1, 1, 1, 1, 1, 1, 1, 1, 1], [1, 1, 1, 1, 1, 1, 1, 1, 1, 1, 1, 1, 1, 1, 1, 1, 1, 1, 1, 1, 1, 1, 1, 1, 1, 1, 1, 1, 1, 1, 1, 1, 1, 1, 1, 1, 1, 1, 1, 1, 1, 1, 1, 1, 1, 1, 1, 1, 1, 1, 1, 1, 1, 1, 1, 1, 1, 1, 1, 1, 1, 1, 1, 1, 1, 1, 1, 1, 1, 1, 1, 1, 1, 1, 1, 1, 1, 1, 1, 1, 1, 1, 1, 1, 1, 1, 1, 1, 1, 1, 1, 1, 1, 1, 1, 1, 1, 1, 1, 1, 1, 1, 1, 1, 1, 1, 1, 1, 1, 1, 1, 1, 1, 1, 1, 1, 1, 1, 1, 1, 1, 1, 1, 1, 1, 1, 1, 1], [1, 1, 1, 1, 1, 1, 1, 1, 1, 1, 1, 1, 1, 1, 1, 1, 1, 1, 1, 1, 1, 1, 1, 1, 1, 1, 1, 1, 1, 1, 1, 1, 1, 1, 1, 1, 1, 1, 1, 1, 1, 1, 1, 1, 1, 1, 1, 1, 1, 1, 1, 1, 1, 1, 1, 1, 1, 1, 1, 1, 1, 1, 1, 1, 1, 1, 1, 1, 1, 1, 1, 1, 1], [1, 1, 1, 1, 1, 1, 1, 1, 1, 1, 1, 1, 1, 1, 1, 1, 1, 1, 1, 1, 1, 1, 1, 1, 1, 1, 1, 1, 1, 1, 1, 1, 1, 1, 1, 1, 1, 1, 1, 1, 1, 1, 1, 1, 1, 1, 1, 1, 1, 1, 1, 1, 1, 1, 1, 1, 1, 1, 1, 1, 1, 1, 1, 1, 1, 1, 1, 1, 1, 1, 1, 1, 1, 1, 1, 1, 1, 1, 1, 1, 1, 1, 1, 1, 1, 1, 1, 1, 1, 1, 1, 1, 1, 1, 1, 1, 1, 1, 1, 1, 1, 1, 1, 1, 1, 1, 1, 1, 1, 1, 1, 1, 1, 1, 1, 1, 1, 1, 1, 1, 1, 1, 1, 1, 1, 1, 1, 1], [1, 1, 1, 1, 1, 1, 1, 1, 1, 1, 1, 1, 1, 1, 1, 1, 1, 1, 1, 1, 1, 1, 1, 1, 1, 1, 1, 1, 1, 1, 1, 1, 1, 1, 1, 1, 1, 1, 1, 1, 1, 1, 1, 1, 1, 1, 1, 1, 1, 1, 1, 1, 1, 1, 1, 1, 1, 1, 1, 1, 1, 1, 1, 1, 1, 1, 1, 1, 1, 1, 1, 1, 1, 1, 1, 1, 1, 1, 1, 1, 1, 1, 1, 1, 1, 1, 1, 1, 1, 1, 1, 1, 1, 1, 1, 1, 1, 1, 1, 1, 1, 1, 1, 1, 1, 1, 1, 1, 1, 1, 1, 1, 1, 1, 1, 1, 1, 1, 1, 1, 1, 1, 1, 1, 1, 1, 1, 1], [1, 1, 1, 1, 1, 1, 1, 1, 1, 1, 1, 1, 1, 1, 1, 1, 1, 1, 1, 1, 1, 1, 1, 1, 1, 1, 1, 1, 1, 1, 1, 1, 1, 1, 1, 1, 1, 1, 1, 1, 1, 1, 1, 1, 1, 1, 1, 1, 1, 1, 1, 1, 1, 1, 1, 1, 1, 1, 1, 1, 1, 1, 1, 1, 1, 1, 1, 1, 1, 1, 1, 1, 1, 1, 1, 1, 1, 1, 1, 1, 1, 1, 1, 1, 1, 1, 1, 1, 1, 1, 1, 1, 1, 1, 1, 1, 1, 1, 1, 1, 1, 1, 1, 1, 1, 1, 1, 1, 1, 1, 1, 1, 1, 1, 1, 1, 1, 1, 1, 1, 1, 1, 1, 1, 1, 1, 1, 1], [1, 1, 1, 1, 1, 1, 1, 1, 1, 1, 1, 1, 1, 1, 1, 1, 1, 1, 1, 1, 1, 1, 1, 1, 1, 1, 1, 1, 1, 1, 1, 1, 1, 1, 1, 1, 1, 1, 1, 1, 1, 1, 1, 1, 1, 1, 1, 1, 1, 1, 1, 1, 1, 1, 1, 1, 1, 1, 1, 1, 1, 1, 1, 1, 1, 1, 1, 1, 1, 1, 1, 1, 1, 1, 1, 1, 1, 1, 1, 1, 1, 1, 1, 1, 1, 1, 1, 1, 1, 1, 1, 1, 1, 1, 1, 1, 1, 1, 1, 1, 1, 1, 1, 1, 1, 1, 1, 1, 1, 1, 1, 1, 1, 1, 1, 1, 1, 1, 1, 1, 1, 1, 1, 1, 1, 1, 1, 1], [1, 1, 1, 1, 1, 1, 1, 1, 1, 1, 1, 1, 1, 1, 1, 1, 1, 1, 1, 1, 1, 1, 1, 1, 1, 1, 1, 1, 1, 1, 1, 1, 1, 1, 1, 1, 1, 1, 1, 1, 1, 1, 1, 1, 1, 1, 1, 1, 1, 1, 1, 1, 1, 1, 1, 1, 1, 1, 1, 1, 1, 1, 1, 1, 1, 1, 1, 1, 1, 1, 1, 1, 1, 1, 1, 1, 1, 1, 1, 1, 1, 1, 1, 1, 1, 1, 1, 1, 1, 1, 1, 1, 1, 1, 1, 1, 1, 1, 1, 1, 1, 1, 1, 1, 1, 1, 1, 1, 1, 1, 1, 1, 1, 1, 1, 1, 1, 1, 1, 1, 1, 1, 1, 1, 1, 1, 1, 1], [1, 1, 1, 1, 1, 1, 1, 1, 1, 1, 1, 1, 1, 1, 1, 1, 1, 1, 1, 1, 1, 1, 1, 1, 1, 1, 1, 1, 1, 1, 1, 1, 1, 1, 1, 1, 1, 1, 1, 1, 1, 1, 1, 1, 1, 1, 1, 1, 1, 1, 1, 1, 1, 1, 1, 1, 1, 1, 1, 1, 1, 1, 1, 1, 1, 1, 1, 1, 1, 1, 1, 1, 1, 1, 1, 1, 1, 1, 1, 1, 1, 1, 1, 1, 1, 1, 1, 1, 1, 1, 1, 1, 1, 1, 1, 1, 1, 1, 1, 1, 1, 1, 1, 1, 1, 1, 1, 1, 1, 1, 1, 1, 1, 1, 1, 1, 1, 1, 1, 1, 1, 1, 1, 1, 1, 1, 1, 1], [1, 1, 1, 1, 1, 1, 1, 1, 1, 1, 1, 1, 1, 1, 1, 1, 1, 1, 1, 1, 1, 1, 1, 1, 1, 1, 1, 1, 1, 1, 1, 1, 1, 1, 1, 1, 1, 1, 1, 1, 1, 1, 1, 1, 1, 1, 1, 1, 1, 1, 1, 1, 1, 1, 1, 1, 1, 1, 1, 1, 1, 1, 1, 1, 1, 1, 1, 1, 1, 1, 1, 1, 1, 1, 1, 1, 1, 1, 1, 1, 1, 1, 1, 1, 1, 1, 1, 1, 1, 1, 1, 1, 1, 1, 1, 1, 1, 1, 1, 1, 1, 1, 1, 1, 1, 1, 1, 1, 1, 1, 1, 1, 1, 1, 1, 1, 1, 1, 1, 1, 1, 1, 1, 1, 1, 1, 1, 1], [1, 1, 1, 1, 1, 1, 1, 1, 1, 1, 1, 1, 1, 1, 1, 1, 1, 1, 1, 1, 1, 1, 1, 1, 1, 1, 1, 1, 1, 1, 1, 1, 1, 1, 1, 1, 1, 1, 1, 1, 1, 1, 1, 1, 1, 1, 1, 1, 1, 1, 1, 1, 1, 1, 1, 1, 1, 1, 1, 1, 1, 1, 1, 1, 1, 1, 1, 1, 1, 1, 1, 1, 1, 1, 1, 1, 1, 1, 1, 1, 1, 1, 1, 1, 1, 1, 1, 1, 1, 1, 1, 1, 1, 1, 1, 1, 1, 1, 1, 1, 1, 1, 1, 1, 1, 1, 1, 1, 1, 1, 1, 1, 1, 1, 1, 1, 1, 1, 1, 1, 1, 1, 1, 1, 1, 1, 1, 1], [1, 1, 1, 1, 1, 1, 1, 1, 1, 1, 1, 1, 1, 1, 1, 1, 1, 1, 1, 1, 1, 1, 1, 1, 1, 1, 1, 1, 1, 1, 1, 1, 1, 1, 1, 1, 1, 1, 1, 1, 1, 1, 1, 1, 1, 1, 1, 1, 1, 1, 1, 1, 1, 1, 1, 1, 1, 1, 1, 1, 1, 1, 1, 1, 1, 1, 1, 1, 1, 1, 1, 1, 1, 1, 1, 1, 1, 1, 1, 1, 1, 1, 1, 1, 1, 1, 1, 1, 1, 1, 1, 1, 1, 1, 1, 1, 1, 1, 1, 1, 1, 1, 1, 1, 1, 1, 1, 1, 1, 1, 1, 1, 1, 1, 1, 1, 1, 1, 1, 1, 1, 1, 1, 1, 1, 1, 1, 1], [1, 1, 1, 1, 1, 1, 1, 1, 1, 1, 1, 1, 1, 1, 1, 1, 1, 1, 1, 1, 1, 1, 1, 1, 1, 1, 1, 1, 1, 1, 1, 1, 1, 1, 1, 1, 1, 1, 1, 1, 1, 1, 1, 1, 1, 1, 1, 1, 1, 1, 1, 1, 1, 1, 1, 1, 1, 1, 1, 1, 1, 1, 1, 1, 1, 1, 1, 1, 1, 1, 1, 1, 1, 1, 1, 1, 1, 1, 1, 1, 1, 1, 1, 1, 1, 1, 1, 1, 1, 1, 1, 1, 1, 1, 1, 1, 1, 1, 1, 1, 1, 1, 1, 1, 1, 1, 1, 1, 1, 1, 1, 1, 1, 1, 1, 1, 1, 1, 1, 1, 1, 1, 1, 1, 1, 1, 1, 1], [1, 1, 1, 1, 1, 1, 1, 1, 1, 1, 1, 1, 1, 1, 1, 1, 1, 1, 1, 1, 1, 1, 1, 1, 1, 1, 1, 1, 1, 1, 1, 1, 1, 1, 1, 1, 1, 1, 1, 1, 1, 1, 1, 1, 1, 1, 1, 1, 1, 1, 1, 1, 1, 1, 1, 1, 1, 1, 1, 1, 1, 1, 1, 1, 1, 1, 1, 1, 1, 1, 1, 1, 1, 1, 1, 1, 1, 1, 1, 1, 1, 1, 1, 1, 1, 1, 1, 1, 1, 1, 1, 1, 1, 1, 1, 1, 1, 1, 1, 1, 1, 1, 1, 1, 1, 1, 1, 1, 1, 1, 1, 1, 1, 1, 1, 1, 1, 1, 1, 1, 1, 1, 1, 1, 1, 1, 1, 1], [1, 1, 1, 1, 1, 1, 1, 1, 1, 1, 1, 1, 1, 1, 1, 1, 1, 1, 1, 1, 1, 1, 1, 1, 1, 1, 1, 1, 1, 1, 1, 1, 1, 1, 1, 1, 1, 1, 1, 1, 1, 1, 1, 1, 1, 1, 1, 1, 1, 1, 1, 1, 1, 1, 1, 1, 1, 1, 1, 1, 1, 1, 1, 1, 1, 1, 1, 1, 1, 1, 1, 1, 1, 1, 1, 1, 1, 1, 1, 1, 1, 1, 1, 1, 1, 1, 1, 1, 1, 1, 1, 1, 1, 1, 1, 1, 1, 1, 1, 1, 1, 1, 1, 1, 1, 1, 1, 1, 1, 1, 1, 1, 1, 1, 1, 1, 1, 1, 1, 1, 1, 1, 1, 1, 1, 1, 1, 1], [1, 1, 1, 1, 1, 1, 1, 1, 1, 1, 1, 1, 1, 1, 1, 1, 1, 1, 1, 1, 1, 1, 1, 1, 1, 1, 1, 1, 1, 1, 1, 1, 1, 1, 1, 1, 1, 1, 1, 1, 1, 1, 1, 1, 1, 1, 1, 1, 1, 1, 1, 1, 1, 1, 1, 1, 1, 1, 1, 1, 1, 1, 1, 1, 1, 1, 1, 1, 1, 1, 1, 1, 1, 1, 1, 1, 1, 1, 1, 1, 1, 1, 1, 1, 1, 1, 1, 1, 1, 1, 1, 1, 1, 1, 1, 1, 1, 1, 1, 1, 1, 1, 1, 1, 1, 1, 1, 1, 1, 1, 1, 1, 1, 1, 1, 1, 1, 1, 1, 1, 1, 1, 1, 1, 1, 1, 1, 1], [1, 1, 1, 1, 1, 1, 1, 1, 1, 1, 1, 1, 1, 1, 1, 1, 1, 1, 1, 1, 1, 1, 1, 1, 1, 1, 1, 1, 1, 1, 1, 1, 1, 1, 1, 1, 1, 1, 1, 1, 1, 1, 1, 1, 1, 1, 1, 1, 1, 1, 1, 1, 1, 1, 1, 1, 1, 1, 1, 1, 1, 1, 1, 1, 1, 1, 1, 1, 1, 1, 1, 1, 1, 1, 1, 1, 1, 1, 1, 1, 1, 1, 1, 1, 1, 1, 1, 1, 1, 1, 1, 1, 1, 1, 1, 1, 1, 1, 1, 1, 1, 1, 1, 1, 1, 1, 1, 1, 1, 1, 1, 1, 1, 1, 1, 1, 1, 1, 1, 1, 1, 1, 1, 1, 1, 1, 1, 1], [1, 1, 1, 1, 1, 1, 1, 1, 1, 1, 1, 1, 1, 1, 1, 1, 1, 1, 1, 1, 1, 1, 1, 1, 1, 1, 1, 1, 1, 1, 1, 1, 1, 1, 1, 1, 1, 1, 1, 1, 1, 1, 1, 1, 1, 1, 1, 1, 1, 1, 1, 1, 1, 1, 1, 1, 1, 1, 1, 1, 1, 1, 1, 1, 1, 1, 1, 1, 1, 1, 1, 1, 1, 1, 1, 1, 1, 1, 1, 1, 1, 1, 1, 1, 1, 1, 1, 1, 1, 1, 1, 1, 1, 1, 1, 1, 1, 1, 1, 1, 1, 1, 1, 1, 1, 1, 1, 1, 1, 1, 1, 1, 1, 1, 1, 1, 1, 1, 1, 1, 1, 1, 1, 1, 1, 1, 1, 1], [1, 1, 1, 1, 1, 1, 1, 1, 1, 1, 1, 1, 1, 1, 1, 1, 1, 1, 1, 1, 1, 1, 1, 1, 1, 1, 1, 1, 1, 1, 1, 1, 1, 1, 1, 1, 1, 1, 1, 1, 1, 1, 1, 1, 1, 1, 1, 1, 1, 1, 1, 1, 1, 1, 1, 1, 1, 1, 1, 1, 1, 1, 1, 1, 1, 1, 1, 1, 1, 1, 1, 1, 1, 1, 1, 1, 1, 1, 1, 1, 1, 1, 1, 1, 1, 1, 1, 1, 1, 1, 1, 1, 1, 1, 1, 1, 1, 1, 1, 1, 1, 1, 1, 1, 1, 1, 1, 1, 1, 1, 1, 1, 1, 1, 1, 1, 1, 1, 1, 1, 1, 1, 1, 1, 1, 1, 1, 1], [1, 1, 1, 1, 1, 1, 1, 1, 1, 1, 1, 1, 1, 1, 1, 1, 1, 1, 1, 1, 1, 1, 1, 1, 1, 1, 1, 1, 1, 1, 1, 1, 1, 1, 1, 1, 1, 1, 1, 1, 1, 1, 1, 1, 1, 1, 1, 1, 1, 1, 1, 1, 1, 1, 1, 1, 1, 1, 1, 1, 1, 1, 1, 1, 1, 1, 1, 1, 1, 1, 1, 1, 1, 1, 1, 1, 1, 1, 1, 1, 1, 1, 1, 1, 1, 1, 1, 1, 1, 1, 1, 1, 1, 1, 1, 1, 1, 1, 1, 1, 1, 1, 1, 1, 1, 1, 1, 1, 1, 1, 1, 1, 1, 1, 1, 1, 1, 1, 1, 1, 1, 1, 1, 1, 1, 1, 1, 1], [1, 1, 1, 1, 1, 1, 1, 1, 1, 1, 1, 1, 1, 1, 1, 1, 1, 1, 1, 1, 1, 1, 1, 1, 1, 1, 1, 1, 1, 1, 1, 1, 1, 1, 1, 1, 1, 1, 1, 1, 1, 1, 1, 1, 1, 1, 1, 1, 1, 1, 1, 1, 1, 1, 1, 1, 1, 1, 1, 1, 1, 1, 1, 1, 1, 1, 1, 1, 1, 1, 1, 1, 1, 1, 1, 1, 1, 1, 1, 1, 1, 1, 1, 1, 1, 1, 1, 1, 1, 1, 1, 1, 1, 1, 1, 1, 1, 1, 1, 1, 1, 1, 1, 1, 1, 1, 1, 1, 1, 1, 1, 1, 1, 1, 1, 1, 1, 1, 1, 1, 1, 1, 1, 1, 1, 1, 1, 1], [1, 1, 1, 1, 1, 1, 1, 1, 1, 1, 1, 1, 1, 1, 1, 1, 1, 1, 1, 1, 1, 1, 1, 1, 1, 1, 1, 1, 1, 1, 1, 1, 1, 1, 1, 1, 1, 1, 1, 1, 1, 1, 1, 1, 1, 1, 1, 1, 1, 1, 1, 1, 1, 1, 1, 1, 1, 1, 1, 1, 1, 1, 1, 1, 1, 1, 1, 1, 1, 1, 1, 1, 1, 1, 1, 1, 1, 1, 1, 1, 1, 1, 1, 1, 1, 1, 1, 1, 1, 1, 1, 1, 1, 1, 1, 1, 1, 1, 1, 1, 1, 1, 1, 1, 1, 1, 1, 1, 1, 1, 1, 1, 1, 1, 1, 1, 1, 1, 1, 1, 1, 1, 1, 1, 1, 1, 1, 1], [1, 1, 1, 1, 1, 1, 1, 1, 1, 1, 1, 1, 1, 1, 1, 1, 1, 1, 1, 1, 1, 1, 1, 1, 1, 1, 1, 1, 1, 1, 1, 1, 1, 1, 1, 1, 1, 1, 1, 1, 1, 1, 1, 1, 1, 1, 1, 1, 1, 1, 1, 1, 1, 1, 1, 1, 1, 1, 1, 1, 1, 1, 1, 1, 1, 1, 1, 1, 1, 1, 1, 1, 1, 1, 1, 1, 1, 1, 1, 1, 1, 1, 1, 1, 1, 1, 1, 1, 1, 1, 1, 1, 1, 1, 1, 1, 1, 1, 1, 1, 1, 1, 1, 1, 1, 1, 1, 1, 1, 1, 1, 1, 1, 1, 1, 1, 1, 1, 1, 1, 1, 1, 1, 1, 1, 1, 1, 1], [1, 1, 1, 1, 1, 1, 1, 1, 1, 1, 1, 1, 1, 1, 1, 1, 1, 1, 1, 1, 1, 1, 1, 1, 1, 1, 1, 1, 1, 1, 1, 1, 1, 1, 1, 1, 1, 1, 1, 1, 1, 1, 1, 1, 1, 1, 1, 1, 1, 1, 1, 1, 1, 1, 1, 1, 1, 1, 1, 1, 1, 1, 1, 1, 1, 1, 1, 1, 1, 1, 1, 1, 1, 1, 1, 1, 1, 1, 1, 1, 1, 1, 1, 1, 1, 1, 1, 1, 1, 1, 1, 1, 1, 1, 1, 1, 1, 1, 1, 1, 1, 1, 1, 1, 1, 1, 1, 1, 1, 1, 1, 1, 1, 1, 1, 1, 1, 1, 1, 1, 1, 1, 1, 1, 1, 1, 1, 1], [1, 1, 1, 1, 1, 1, 1, 1, 1, 1, 1, 1, 1, 1, 1, 1, 1, 1, 1, 1, 1, 1, 1, 1, 1, 1, 1, 1, 1, 1, 1, 1, 1, 1, 1, 1, 1, 1, 1, 1, 1, 1, 1, 1, 1, 1, 1, 1, 1, 1, 1, 1, 1, 1, 1, 1, 1, 1, 1, 1, 1, 1, 1, 1, 1, 1, 1, 1, 1, 1, 1, 1, 1, 1, 1, 1, 1, 1, 1, 1, 1, 1, 1, 1, 1, 1, 1, 1, 1, 1, 1, 1, 1, 1, 1, 1, 1, 1, 1, 1, 1, 1, 1, 1, 1, 1, 1, 1, 1, 1, 1, 1, 1, 1, 1, 1, 1, 1, 1, 1, 1, 1, 1, 1, 1, 1, 1, 1], [1, 1, 1, 1, 1, 1, 1, 1, 1, 1, 1, 1, 1, 1, 1, 1, 1, 1, 1, 1, 1, 1, 1, 1, 1, 1, 1, 1, 1, 1, 1, 1, 1, 1, 1, 1, 1, 1, 1, 1, 1, 1, 1, 1, 1, 1, 1, 1, 1, 1, 1, 1, 1, 1, 1, 1, 1, 1, 1, 1, 1, 1, 1, 1, 1, 1, 1, 1, 1, 1, 1, 1, 1, 1, 1, 1, 1, 1, 1, 1, 1, 1, 1, 1, 1, 1, 1, 1, 1, 1, 1, 1, 1, 1, 1, 1, 1, 1, 1, 1, 1, 1, 1, 1, 1, 1, 1, 1, 1, 1, 1, 1, 1, 1, 1, 1, 1, 1, 1, 1, 1, 1, 1, 1, 1, 1, 1, 1], [1, 1, 1, 1, 1, 1, 1, 1, 1, 1, 1, 1, 1, 1, 1, 1, 1, 1, 1, 1, 1, 1, 1, 1, 1, 1, 1, 1, 1, 1, 1, 1, 1, 1, 1, 1, 1, 1, 1, 1, 1, 1, 1, 1, 1, 1, 1, 1, 1, 1, 1, 1, 1, 1, 1, 1, 1, 1, 1, 1, 1, 1, 1, 1, 1, 1, 1, 1, 1, 1, 1, 1, 1, 1, 1, 1, 1, 1, 1, 1, 1, 1, 1, 1, 1, 1, 1, 1, 1, 1, 1, 1, 1, 1, 1, 1, 1, 1, 1, 1, 1, 1, 1, 1, 1, 1, 1, 1, 1, 1, 1, 1, 1, 1, 1, 1, 1, 1, 1, 1, 1, 1, 1, 1, 1, 1, 1, 1], [1, 1, 1, 1, 1, 1, 1, 1, 1, 1, 1, 1, 1, 1, 1, 1, 1, 1, 1, 1, 1, 1, 1, 1, 1, 1, 1, 1, 1, 1, 1, 1, 1, 1, 1, 1, 1, 1, 1, 1, 1, 1, 1, 1, 1, 1, 1, 1, 1, 1, 1, 1, 1, 1, 1, 1, 1, 1, 1, 1, 1, 1, 1, 1, 1, 1, 1, 1, 1, 1, 1, 1, 1, 1, 1, 1, 1, 1, 1, 1, 1, 1, 1, 1, 1, 1, 1, 1, 1, 1, 1, 1, 1, 1, 1, 1, 1, 1, 1, 1, 1, 1, 1, 1, 1, 1, 1, 1, 1, 1, 1, 1, 1, 1, 1, 1, 1, 1, 1, 1, 1, 1, 1, 1, 1, 1, 1, 1], [1, 1, 1, 1, 1, 1, 1, 1, 1, 1, 1, 1, 1, 1, 1, 1, 1, 1, 1, 1, 1, 1, 1, 1, 1, 1, 1, 1, 1, 1, 1, 1, 1, 1, 1, 1, 1, 1, 1, 1, 1, 1, 1, 1, 1, 1, 1, 1, 1, 1, 1, 1, 1, 1, 1, 1, 1, 1, 1, 1, 1, 1, 1, 1, 1, 1, 1, 1, 1, 1, 1, 1, 1, 1, 1, 1, 1, 1, 1, 1, 1, 1, 1, 1, 1, 1, 1, 1, 1, 1, 1, 1, 1, 1, 1, 1, 1, 1, 1, 1, 1, 1, 1, 1, 1, 1, 1, 1, 1, 1, 1, 1, 1, 1, 1, 1, 1, 1, 1, 1, 1, 1, 1, 1, 1, 1, 1, 1], [1, 1, 1, 1, 1, 1, 1, 1, 1, 1, 1, 1, 1, 1, 1, 1, 1, 1, 1, 1, 1, 1, 1, 1, 1, 1, 1, 1, 1, 1, 1, 1, 1, 1, 1, 1, 1, 1, 1, 1, 1, 1, 1, 1, 1, 1, 1, 1, 1, 1, 1, 1, 1, 1, 1, 1, 1, 1, 1, 1, 1, 1, 1, 1, 1, 1, 1, 1, 1, 1, 1, 1, 1, 1, 1, 1, 1, 1, 1, 1, 1, 1, 1, 1, 1, 1, 1, 1, 1, 1, 1, 1, 1, 1, 1, 1, 1, 1, 1, 1, 1, 1, 1, 1, 1, 1, 1, 1, 1, 1, 1, 1, 1, 1, 1, 1, 1, 1, 1, 1, 1, 1, 1, 1, 1, 1, 1, 1], [1, 1, 1, 1, 1, 1, 1, 1, 1, 1, 1, 1, 1, 1, 1, 1, 1, 1, 1, 1, 1, 1, 1, 1, 1, 1, 1, 1, 1, 1, 1, 1, 1, 1, 1, 1, 1, 1, 1, 1, 1, 1, 1, 1, 1, 1, 1, 1, 1, 1, 1, 1, 1, 1, 1, 1, 1, 1, 1, 1, 1, 1, 1, 1, 1, 1, 1, 1, 1, 1, 1, 1, 1, 1, 1, 1, 1, 1, 1, 1, 1, 1, 1, 1, 1, 1, 1, 1, 1, 1, 1, 1, 1, 1, 1, 1, 1, 1, 1, 1, 1, 1, 1, 1, 1, 1, 1, 1, 1, 1, 1, 1, 1, 1, 1, 1, 1, 1, 1, 1, 1, 1, 1, 1, 1, 1, 1, 1], [1, 1, 1, 1, 1, 1, 1, 1, 1, 1, 1, 1, 1, 1, 1, 1, 1, 1, 1, 1, 1, 1, 1, 1, 1, 1, 1, 1, 1, 1, 1, 1, 1, 1, 1, 1, 1, 1, 1, 1, 1, 1, 1, 1, 1, 1, 1, 1, 1, 1, 1, 1, 1, 1, 1, 1, 1, 1, 1, 1, 1, 1, 1, 1, 1, 1, 1, 1, 1, 1, 1, 1, 1, 1, 1, 1, 1, 1, 1, 1, 1, 1, 1, 1, 1, 1, 1, 1, 1, 1, 1, 1, 1, 1, 1, 1, 1, 1, 1, 1, 1, 1, 1, 1, 1, 1, 1, 1, 1, 1, 1, 1, 1, 1, 1, 1, 1, 1, 1, 1, 1, 1, 1, 1, 1, 1, 1, 1], [1, 1, 1, 1, 1, 1, 1, 1, 1, 1, 1, 1, 1, 1, 1, 1, 1, 1, 1, 1, 1, 1, 1, 1, 1, 1, 1, 1, 1, 1, 1, 1, 1, 1, 1, 1, 1, 1, 1, 1, 1, 1, 1, 1, 1, 1, 1, 1, 1, 1, 1, 1, 1, 1, 1, 1, 1, 1, 1, 1, 1, 1, 1, 1, 1, 1, 1, 1, 1, 1, 1, 1, 1, 1, 1, 1, 1, 1, 1, 1, 1, 1, 1, 1, 1, 1, 1, 1, 1, 1, 1, 1, 1, 1, 1, 1, 1, 1, 1, 1, 1, 1, 1, 1, 1, 1, 1, 1, 1, 1, 1, 1, 1, 1, 1, 1, 1, 1, 1, 1, 1, 1, 1, 1, 1, 1, 1, 1], [1, 1, 1, 1, 1, 1, 1, 1, 1, 1, 1, 1, 1, 1, 1, 1, 1, 1, 1, 1, 1, 1, 1, 1, 1, 1, 1, 1, 1, 1, 1, 1, 1, 1, 1, 1, 1, 1, 1, 1, 1, 1, 1, 1, 1, 1, 1, 1, 1, 1, 1, 1, 1, 1, 1, 1, 1, 1, 1, 1, 1, 1, 1, 1, 1, 1, 1, 1, 1, 1, 1, 1, 1, 1, 1, 1, 1, 1, 1, 1, 1, 1, 1, 1, 1, 1, 1, 1, 1, 1, 1, 1, 1, 1, 1, 1, 1, 1, 1, 1, 1, 1, 1, 1, 1, 1, 1, 1, 1, 1, 1, 1, 1, 1, 1, 1, 1, 1, 1, 1, 1, 1, 1, 1, 1, 1, 1, 1], [1, 1, 1, 1, 1, 1, 1, 1, 1, 1, 1, 1, 1, 1, 1, 1, 1, 1, 1, 1, 1, 1, 1, 1, 1, 1, 1, 1, 1, 1, 1, 1, 1, 1, 1, 1, 1, 1, 1, 1, 1, 1, 1]]\n",
            "length\n",
            "[128, 128, 128, 128, 128, 128, 128, 128, 128, 128, 128, 128, 128, 128, 128, 128, 128, 128, 128, 128, 128, 128, 128, 128, 128, 128, 128, 128, 128, 128, 128, 128, 128, 128, 128, 128, 73, 128, 128, 128, 128, 128, 128, 128, 128, 128, 128, 128, 128, 128, 128, 128, 128, 128, 128, 128, 128, 128, 128, 128, 128, 128, 128, 128, 128, 128, 128, 128, 43]\n",
            "overflow_to_sample_mapping\n",
            "[0, 0, 0, 0, 0, 0, 0, 0, 0, 0, 0, 0, 0, 0, 0, 0, 0, 0, 0, 0, 0, 0, 0, 0, 0, 0, 0, 0, 0, 0, 0, 0, 0, 0, 0, 0, 0, 1, 1, 1, 1, 1, 1, 1, 1, 1, 1, 1, 1, 1, 1, 1, 1, 1, 1, 1, 1, 1, 1, 1, 1, 1, 1, 1, 1, 1, 1, 1, 1]\n"
          ]
        }
      ]
    },
    {
      "cell_type": "code",
      "source": [
        "tokenized_datasets = raw_datasets.map(\n",
        "    tokenize_func, batched=True, remove_columns=raw_datasets[\"train\"].column_names\n",
        ")\n",
        "tokenized_datasets"
      ],
      "metadata": {
        "colab": {
          "base_uri": "https://localhost:8080/",
          "height": 260,
          "referenced_widgets": [
            "773470865e364018b13e738d62e1e4a6",
            "1566dea4ac404b9ea5e1c87111653a18",
            "24ec59f3d2df4047b375e989b9a8f4f9",
            "203db54b85d746dea2c70d2d42f7edb4",
            "3d62bb2753064c06afd820311aafe0df",
            "a1afdc6add5444ad975b59b828750842",
            "1851d5e0f209486b8023cdee744a77fa",
            "07f90c8ca5e941d1b9581dc93076b76e",
            "7b79f3780e8542ff837c97b3a5ce9af4",
            "02018b2ae96c440caddadc0e4fb000f4",
            "15e922724140480ebe678967d98b64af",
            "3e0bca6405424705b250ea7ffb994da4",
            "a3393538e6a143d1aafd6e12974e166d",
            "2931d7c420534eb4ae1508156629b4d2",
            "c3e0de38bcdb409f99f11fea3a043415",
            "a2b84f2dd5c844b580e8b715e5c78748",
            "a5f6a9679232465abe62a65b9feb1313",
            "ea4f02e1e53b410f98c740ac8131ff00",
            "b39b444e18614c389c20471836d5f325",
            "bb7e30ea59514e068409f0c9048c2e4c",
            "76a34c81833e4ae8a5cde83fc46bc48a",
            "957cdffc9e00471eb9933efbd8490fd0"
          ]
        },
        "id": "_5WcnS3RBWEY",
        "outputId": "b9bbdd29-1e3b-460c-c269-bb70136d9594"
      },
      "execution_count": 9,
      "outputs": [
        {
          "output_type": "display_data",
          "data": {
            "text/plain": [
              "Map:   0%|          | 0/1000 [00:00<?, ? examples/s]"
            ],
            "application/vnd.jupyter.widget-view+json": {
              "version_major": 2,
              "version_minor": 0,
              "model_id": "773470865e364018b13e738d62e1e4a6"
            }
          },
          "metadata": {}
        },
        {
          "output_type": "display_data",
          "data": {
            "text/plain": [
              "Map:   0%|          | 0/100 [00:00<?, ? examples/s]"
            ],
            "application/vnd.jupyter.widget-view+json": {
              "version_major": 2,
              "version_minor": 0,
              "model_id": "3e0bca6405424705b250ea7ffb994da4"
            }
          },
          "metadata": {}
        },
        {
          "output_type": "execute_result",
          "data": {
            "text/plain": [
              "DatasetDict({\n",
              "    train: Dataset({\n",
              "        features: ['input_ids'],\n",
              "        num_rows: 29706\n",
              "    })\n",
              "    valid: Dataset({\n",
              "        features: ['input_ids'],\n",
              "        num_rows: 2338\n",
              "    })\n",
              "})"
            ]
          },
          "metadata": {},
          "execution_count": 9
        }
      ]
    },
    {
      "cell_type": "markdown",
      "source": [
        "### Section 2: Model Prep"
      ],
      "metadata": {
        "id": "JlmNnE8fUW0X"
      }
    },
    {
      "cell_type": "code",
      "source": [
        "config = AutoConfig.from_pretrained(\n",
        "    \"gpt2\",\n",
        "    vocab_size=len(tokenizer),\n",
        "    n_ctx=context_length,\n",
        "    bos_token_id=tokenizer.bos_token_id,\n",
        "    eos_token_id=tokenizer.eos_token_id,\n",
        ")"
      ],
      "metadata": {
        "id": "JbVhNdtwBWJA"
      },
      "execution_count": 10,
      "outputs": []
    },
    {
      "cell_type": "code",
      "source": [
        "model = GPT2LMHeadModel(config)"
      ],
      "metadata": {
        "id": "EI-kBf06BWLZ"
      },
      "execution_count": 11,
      "outputs": []
    },
    {
      "cell_type": "code",
      "source": [
        "print(sum(t.numel() for t in model.parameters()))"
      ],
      "metadata": {
        "colab": {
          "base_uri": "https://localhost:8080/"
        },
        "id": "A8SknydJBWOn",
        "outputId": "bdbb3ef6-59c8-423f-c296-2e86d60ba1da"
      },
      "execution_count": 12,
      "outputs": [
        {
          "output_type": "stream",
          "name": "stdout",
          "text": [
            "124242432\n"
          ]
        }
      ]
    },
    {
      "cell_type": "code",
      "source": [
        "tokenizer.pad_token = tokenizer.eos_token\n",
        "data_collator = DataCollatorForLanguageModeling(tokenizer, mlm=False)"
      ],
      "metadata": {
        "id": "y7Lh6IBEny6f"
      },
      "execution_count": 13,
      "outputs": []
    },
    {
      "cell_type": "code",
      "source": [
        "out = data_collator([tokenized_datasets[\"train\"][i] for i in range(5)])\n",
        "for key in out:\n",
        "    print(f\"{key} shape: {out[key].shape}\")"
      ],
      "metadata": {
        "colab": {
          "base_uri": "https://localhost:8080/"
        },
        "id": "GlBZglA6rAGP",
        "outputId": "471bc5b7-f1c4-4456-eaba-2248aad83283"
      },
      "execution_count": 14,
      "outputs": [
        {
          "output_type": "stream",
          "name": "stdout",
          "text": [
            "input_ids shape: torch.Size([5, 128])\n",
            "attention_mask shape: torch.Size([5, 128])\n",
            "labels shape: torch.Size([5, 128])\n"
          ]
        }
      ]
    },
    {
      "cell_type": "code",
      "source": [
        "print(out['input_ids'][0][-10:])\n",
        "print(out['labels'][0][-10:])"
      ],
      "metadata": {
        "colab": {
          "base_uri": "https://localhost:8080/"
        },
        "id": "_H_FqCDerH8t",
        "outputId": "806f0cf6-5159-4710-9289-86127bf7a95c"
      },
      "execution_count": 15,
      "outputs": [
        {
          "output_type": "stream",
          "name": "stdout",
          "text": [
            "tensor([  274,   232,  5632,   233,   404,   325,    12,   269, 10936,   340])\n",
            "tensor([  274,   232,  5632,   233,   404,   325,    12,   269, 10936,   340])\n"
          ]
        }
      ]
    },
    {
      "cell_type": "code",
      "source": [
        "args = TrainingArguments(\n",
        "    output_dir=\"codeparrot-ds\",\n",
        "    per_device_train_batch_size=32,\n",
        "    per_device_eval_batch_size=32,\n",
        "    evaluation_strategy=\"steps\",\n",
        "    eval_steps=5_000,\n",
        "    logging_steps=5_000,\n",
        "    gradient_accumulation_steps=8,\n",
        "    num_train_epochs=1,\n",
        "    weight_decay=0.1,\n",
        "    warmup_steps=1_000,\n",
        "    lr_scheduler_type=\"cosine\",\n",
        "    learning_rate=5e-4,\n",
        "    save_steps=5_000,\n",
        "    fp16=True,\n",
        ")"
      ],
      "metadata": {
        "colab": {
          "base_uri": "https://localhost:8080/"
        },
        "id": "1r1rMGUNrq0y",
        "outputId": "7e38404b-3309-4278-e605-40d7c39e8fbd"
      },
      "execution_count": 16,
      "outputs": [
        {
          "output_type": "stream",
          "name": "stderr",
          "text": [
            "/usr/local/lib/python3.10/dist-packages/transformers/training_args.py:1568: FutureWarning: `evaluation_strategy` is deprecated and will be removed in version 4.46 of 🤗 Transformers. Use `eval_strategy` instead\n",
            "  warnings.warn(\n"
          ]
        }
      ]
    },
    {
      "cell_type": "code",
      "source": [
        "trainer = Trainer(\n",
        "    model=model,\n",
        "    tokenizer=tokenizer,\n",
        "    args=args,\n",
        "    data_collator=data_collator,\n",
        "    train_dataset=tokenized_datasets[\"train\"],\n",
        "    eval_dataset=tokenized_datasets[\"valid\"],\n",
        ")"
      ],
      "metadata": {
        "colab": {
          "base_uri": "https://localhost:8080/"
        },
        "id": "L_n_P1y7ZC5i",
        "outputId": "4513dce4-2724-49ac-c41c-98ad99a755b3"
      },
      "execution_count": 17,
      "outputs": [
        {
          "output_type": "stream",
          "name": "stderr",
          "text": [
            "<ipython-input-17-0a8fcd383b0d>:1: FutureWarning: `tokenizer` is deprecated and will be removed in version 5.0.0 for `Trainer.__init__`. Use `processing_class` instead.\n",
            "  trainer = Trainer(\n"
          ]
        }
      ]
    },
    {
      "cell_type": "code",
      "source": [
        "tokenized_datasets.set_format('torch')"
      ],
      "metadata": {
        "id": "_TFBgf7ZZED9"
      },
      "execution_count": 18,
      "outputs": []
    },
    {
      "cell_type": "code",
      "source": [
        "train_dataloader = DataLoader(tokenized_datasets[\"train\"], batch_size=32, shuffle=True)\n",
        "eval_dataloader = DataLoader(tokenized_datasets[\"valid\"], batch_size=32)"
      ],
      "metadata": {
        "id": "6mKgfjDEZnmH"
      },
      "execution_count": 19,
      "outputs": []
    },
    {
      "cell_type": "code",
      "source": [
        "def evaluate():\n",
        "  model.eval()\n",
        "  losses = []\n",
        "\n",
        "  for step, batch in enumerate(eval_dataloader):\n",
        "    with torch.inference_mode():\n",
        "      outputs = model(batch[\"input_ids\"], labels=batch[\"input_ids\"])\n",
        "\n",
        "    losses.append(outputs.loss.detach().cpu().item())\n",
        "\n",
        "  loss = torch.mean(torch.cat(losses))\n",
        "  perplexity = torch.exp(loss)\n",
        "\n",
        "  return loss.item(), perplexity.item()"
      ],
      "metadata": {
        "id": "z0xX4d0-ZrAa"
      },
      "execution_count": 20,
      "outputs": []
    },
    {
      "cell_type": "code",
      "source": [
        "opt = torch.optim.AdamW(model.parameters(), lr=5e-4)"
      ],
      "metadata": {
        "id": "rGBOxNfAbB3y"
      },
      "execution_count": 21,
      "outputs": []
    },
    {
      "cell_type": "code",
      "source": [
        "evaluate()"
      ],
      "metadata": {
        "id": "DCUmGY84bL5_"
      },
      "execution_count": null,
      "outputs": []
    },
    {
      "cell_type": "code",
      "source": [],
      "metadata": {
        "id": "VnEZkkBLbUO8"
      },
      "execution_count": null,
      "outputs": []
    }
  ]
}