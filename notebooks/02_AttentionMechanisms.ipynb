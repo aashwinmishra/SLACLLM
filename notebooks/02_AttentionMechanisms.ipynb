{
  "nbformat": 4,
  "nbformat_minor": 0,
  "metadata": {
    "colab": {
      "provenance": [],
      "authorship_tag": "ABX9TyNqRDskyswg6PH8MBYyAJKm"
    },
    "kernelspec": {
      "name": "python3",
      "display_name": "Python 3"
    },
    "language_info": {
      "name": "python"
    }
  },
  "cells": [
    {
      "cell_type": "code",
      "source": [
        "!pip install tiktoken -q"
      ],
      "metadata": {
        "colab": {
          "base_uri": "https://localhost:8080/"
        },
        "id": "f8kIGf7L-Ojw",
        "outputId": "ac803ae4-fa8b-43b9-b544-ee11399c3bd9"
      },
      "execution_count": 1,
      "outputs": [
        {
          "output_type": "stream",
          "name": "stdout",
          "text": [
            "\u001b[?25l     \u001b[90m━━━━━━━━━━━━━━━━━━━━━━━━━━━━━━━━━━━━━━━━\u001b[0m \u001b[32m0.0/1.1 MB\u001b[0m \u001b[31m?\u001b[0m eta \u001b[36m-:--:--\u001b[0m\r\u001b[2K     \u001b[91m━\u001b[0m\u001b[90m╺\u001b[0m\u001b[90m━━━━━━━━━━━━━━━━━━━━━━━━━━━━━━━━━━━━━━\u001b[0m \u001b[32m0.0/1.1 MB\u001b[0m \u001b[31m680.9 kB/s\u001b[0m eta \u001b[36m0:00:02\u001b[0m\r\u001b[2K     \u001b[91m━━━━━━━\u001b[0m\u001b[90m╺\u001b[0m\u001b[90m━━━━━━━━━━━━━━━━━━━━━━━━━━━━━━━━\u001b[0m \u001b[32m0.2/1.1 MB\u001b[0m \u001b[31m2.7 MB/s\u001b[0m eta \u001b[36m0:00:01\u001b[0m\r\u001b[2K     \u001b[91m━━━━━━━━━━━━━━━━━━━━━━━━━━━━━━━━━━━━━━━\u001b[0m\u001b[91m╸\u001b[0m \u001b[32m1.1/1.1 MB\u001b[0m \u001b[31m10.3 MB/s\u001b[0m eta \u001b[36m0:00:01\u001b[0m\r\u001b[2K     \u001b[90m━━━━━━━━━━━━━━━━━━━━━━━━━━━━━━━━━━━━━━━━\u001b[0m \u001b[32m1.1/1.1 MB\u001b[0m \u001b[31m8.1 MB/s\u001b[0m eta \u001b[36m0:00:00\u001b[0m\n",
            "\u001b[?25h"
          ]
        }
      ]
    },
    {
      "cell_type": "code",
      "execution_count": 2,
      "metadata": {
        "id": "eHMCInwcA3lC"
      },
      "outputs": [],
      "source": [
        "import torch\n",
        "import torch.nn as nn\n",
        "import numpy as np\n",
        "import matplotlib.pyplot as plt\n",
        "\n",
        "import math\n",
        "\n",
        "import tiktoken"
      ]
    },
    {
      "cell_type": "code",
      "source": [
        "inputs = torch.tensor(\n",
        "[[0.43, 0.15, 0.89], # Your (x^1)\n",
        "[0.55, 0.87, 0.66], # journey (x^2)\n",
        "[0.57, 0.85, 0.64], # starts (x^3)\n",
        "[0.22, 0.58, 0.33], # with (x^4)\n",
        "[0.77, 0.25, 0.10], # one (x^5)\n",
        "[0.05, 0.80, 0.55]] # step (x^6)\n",
        ")\n",
        "\n",
        "print(inputs.shape)"
      ],
      "metadata": {
        "colab": {
          "base_uri": "https://localhost:8080/"
        },
        "id": "cdlTYbMH7AMa",
        "outputId": "b08754b0-c3f6-4c20-deea-8f82fc0b6189"
      },
      "execution_count": 3,
      "outputs": [
        {
          "output_type": "stream",
          "name": "stdout",
          "text": [
            "torch.Size([6, 3])\n"
          ]
        }
      ]
    },
    {
      "cell_type": "code",
      "source": [
        "class SimplifiedSelfAttention(nn.Module):\n",
        "  def __init__(self, **kwargs):\n",
        "    super().__init__(**kwargs)\n",
        "\n",
        "  def forward(self, input):\n",
        "    assert len(input.shape) == 3\n",
        "    d = torch.tensor(input.shape[-1])\n",
        "    Q, K, V = input, input, input\n",
        "    attention_scores = torch.softmax(Q @ K.transpose(-1, -2)/torch.sqrt(d), dim=-1)\n",
        "    return attention_scores @ V, attention_scores"
      ],
      "metadata": {
        "id": "mFa7R6In-xT5"
      },
      "execution_count": 4,
      "outputs": []
    },
    {
      "cell_type": "code",
      "source": [
        "class SelfAttentionWeighedV1(nn.Module):\n",
        "  def __init__(self, embedding_dim: int=3, output_dim: int=3, **kwargs):\n",
        "    super().__init__()\n",
        "    self.W_q = torch.nn.Parameter(torch.rand(embedding_dim, output_dim))\n",
        "    self.W_k = torch.nn.Parameter(torch.rand(embedding_dim, output_dim))\n",
        "    self.W_v = torch.nn.Parameter(torch.rand(embedding_dim, output_dim))\n",
        "\n",
        "  def forward(self, inputs):\n",
        "    assert len(inputs.shape) == 3\n",
        "    d = torch.tensor(inputs.shape[-1])\n",
        "    Q, K, V = inputs @ self.W_q, inputs @ self.W_k, inputs @ self.W_v\n",
        "    attention_scores = torch.softmax(Q @ K.transpose(-1, -2)/torch.sqrt(d), dim=-1)\n",
        "    return attention_scores @ V"
      ],
      "metadata": {
        "id": "-rjnHTF0QZnN"
      },
      "execution_count": 5,
      "outputs": []
    },
    {
      "cell_type": "code",
      "source": [
        "class SelfAttentionWeighed(nn.Module):\n",
        "  def __init__(self, embedding_dim: int=3, output_dim: int=3, qkv_bias=False, **kwargs):\n",
        "    super().__init__(**kwargs)\n",
        "    self.W_q = nn.Linear(embedding_dim, output_dim, bias=qkv_bias)\n",
        "    self.W_k = nn.Linear(embedding_dim, output_dim, bias=qkv_bias)\n",
        "    self.W_v = nn.Linear(embedding_dim, output_dim, bias=qkv_bias)\n",
        "\n",
        "  def forward(self, inputs):\n",
        "    d = torch.tensor(inputs.shape[-1])\n",
        "    Q, K, V = self.W_q(inputs), self.W_k(inputs), self.W_v(inputs)\n",
        "    attention_scores = torch.softmax( Q @ K.transpose(-1, -2)/torch.sqrt(d) ,dim=-1)\n",
        "    return attention_scores @ V"
      ],
      "metadata": {
        "id": "xQ9x37_RSY37"
      },
      "execution_count": 6,
      "outputs": []
    },
    {
      "cell_type": "code",
      "source": [
        "class CausalSelfAttention(nn.Module):\n",
        "  def __init__(self, embedding_dim: int=3, output_dim: int=3, context_length: int=6, dropout: float=0.1, qkv_bias=False, **kwargs):\n",
        "    super().__init__(**kwargs)\n",
        "    self.W_q = nn.Linear(embedding_dim, output_dim, qkv_bias)\n",
        "    self.W_k = nn.Linear(embedding_dim, output_dim, qkv_bias)\n",
        "    self.W_v = nn.Linear(embedding_dim, output_dim, qkv_bias)\n",
        "    self.d_out = torch.tensor(output_dim)\n",
        "    self.dropout = nn.Dropout(dropout)\n",
        "    self.mask = torch.triu(torch.ones(context_length, context_length, dtype=torch.bool), diagonal=1)\n",
        "\n",
        "  def forward(self, inputs):\n",
        "    Q, K, V = self.W_q(inputs), self.W_k(inputs), self.W_v(inputs)\n",
        "    attn_scores = Q @ K.transpose(-1, -2)/torch.sqrt(self.d_out)\n",
        "    attn_scores.masked_fill_(self.mask, -1e6)\n",
        "    attention_weights = torch.softmax(attn_scores, dim=-1)\n",
        "    attention_weights = self.dropout(attention_weights)\n",
        "    return attention_weights @ V"
      ],
      "metadata": {
        "id": "m9QZnm0koQqa"
      },
      "execution_count": 9,
      "outputs": []
    },
    {
      "cell_type": "code",
      "source": [
        "input = torch.stack([inputs, inputs])\n",
        "print(input.shape)\n",
        "l = CausalSelfAttention(3, 2)#SimplifiedSelfAttention()\n",
        "attention = l(input)\n",
        "print(attention.shape)"
      ],
      "metadata": {
        "colab": {
          "base_uri": "https://localhost:8080/"
        },
        "id": "ZQhwTtJ6-xaw",
        "outputId": "21dce260-7ca0-44ad-c93f-ee5eb5f0790e"
      },
      "execution_count": 12,
      "outputs": [
        {
          "output_type": "stream",
          "name": "stdout",
          "text": [
            "torch.Size([2, 6, 3])\n",
            "torch.Size([2, 6, 2])\n"
          ]
        }
      ]
    },
    {
      "cell_type": "code",
      "source": [
        "attention"
      ],
      "metadata": {
        "colab": {
          "base_uri": "https://localhost:8080/"
        },
        "id": "NNwwjm99-xgj",
        "outputId": "32c33695-c24c-4b14-9d13-aaaac5630ad8"
      },
      "execution_count": 13,
      "outputs": [
        {
          "output_type": "execute_result",
          "data": {
            "text/plain": [
              "tensor([[[-0.3374, -0.4238,  0.2746],\n",
              "         [-0.2047, -0.3718,  0.3881],\n",
              "         [-0.1664, -0.3511,  0.4169],\n",
              "         [-0.1123, -0.3049,  0.3982],\n",
              "         [-0.1583, -0.2560,  0.3037],\n",
              "         [-0.1028, -0.2530,  0.3418]],\n",
              "\n",
              "        [[-0.3374, -0.4238,  0.2746],\n",
              "         [-0.2047, -0.3718,  0.3881],\n",
              "         [-0.1664, -0.3511,  0.4169],\n",
              "         [-0.1123, -0.3049,  0.3982],\n",
              "         [-0.1583, -0.2560,  0.3037],\n",
              "         [-0.1028, -0.2530,  0.3418]]], grad_fn=<UnsafeViewBackward0>)"
            ]
          },
          "metadata": {},
          "execution_count": 13
        }
      ]
    },
    {
      "cell_type": "code",
      "source": [],
      "metadata": {
        "colab": {
          "base_uri": "https://localhost:8080/"
        },
        "id": "m4X2C0mr-xl3",
        "outputId": "60164db4-c410-4aaf-baa5-4c1342f0c3fd"
      },
      "execution_count": 18,
      "outputs": [
        {
          "output_type": "execute_result",
          "data": {
            "text/plain": [
              "0.9999999999999999"
            ]
          },
          "metadata": {},
          "execution_count": 18
        }
      ]
    },
    {
      "cell_type": "code",
      "source": [],
      "metadata": {
        "id": "QcggRKsW-xrV"
      },
      "execution_count": null,
      "outputs": []
    },
    {
      "cell_type": "code",
      "source": [],
      "metadata": {
        "id": "0F1ay5DB-xwq"
      },
      "execution_count": null,
      "outputs": []
    },
    {
      "cell_type": "code",
      "source": [
        "class SimplifiedSelfAttention2(nn.Module):\n",
        "  def __init__(self):\n",
        "    super().__init__()\n",
        "\n",
        "  def forward(self, inputs):\n",
        "    d = torch.tensor(inputs.shape[-1])\n",
        "    Q, K, V = inputs, inputs, inputs\n",
        "    attention_weights = torch.softmax(Q @ K.transpose(-1, -2)/torch.sqrt(d), dim=-1)\n",
        "    attention = attention_weights @ V\n",
        "    return attention"
      ],
      "metadata": {
        "id": "4QbCgb_h7HHI"
      },
      "execution_count": null,
      "outputs": []
    },
    {
      "cell_type": "code",
      "source": [
        "class SelfAttentionV1(nn.Module):\n",
        "  def __init__(self, in_dim, out_dim):\n",
        "    super().__init__()\n",
        "    self.W_q = torch.nn.Parameter(torch.rand(in_dim, out_dim))\n",
        "    self.W_k = torch.nn.Parameter(torch.rand(in_dim, out_dim))\n",
        "    self.W_v = torch.nn.Parameter(torch.rand(in_dim, out_dim))\n",
        "\n",
        "  def forward(self, inputs):\n",
        "    Q = inputs @ self.W_q\n",
        "    K = inputs @ self.W_k\n",
        "    V = inputs @ self.W_v\n",
        "    d = torch.tensor(Q.shape[-1])\n",
        "    attention_weights = torch.softmax(Q @ K.transpose(-1, -2)/torch.sqrt(d), dim=-1)\n",
        "    attention = attention_weights @ V\n",
        "    return attention"
      ],
      "metadata": {
        "id": "JbR_iFgyJA65"
      },
      "execution_count": null,
      "outputs": []
    },
    {
      "cell_type": "code",
      "source": [
        "class SelfAttentionV2(nn.Module):\n",
        "  def __init__(self, in_dim, out_dim, qkv_bias=False):\n",
        "    super().__init__()\n",
        "    self.W_q = torch.nn.Linear(in_dim, out_dim, bias=qkv_bias)\n",
        "    self.W_k = torch.nn.Linear(in_dim, out_dim, bias=qkv_bias)\n",
        "    self.W_v = torch.nn.Linear(in_dim, out_dim, bias=qkv_bias)\n",
        "\n",
        "  def forward(self, inputs):\n",
        "    Q = self.W_q(inputs)\n",
        "    K = self.W_k(inputs)\n",
        "    V = self.W_v(inputs)\n",
        "    d = torch.tensor(Q.shape[-1])\n",
        "    attention_weights = torch.softmax(Q @ K.transpose(-1, -2)/torch.sqrt(d), dim=-1)\n",
        "    attention = attention_weights @ V\n",
        "    return attention"
      ],
      "metadata": {
        "id": "ZZxrbnyjKRAv"
      },
      "execution_count": null,
      "outputs": []
    },
    {
      "cell_type": "code",
      "source": [
        "l = SelfAttentionV2(3, 2)\n",
        "print(l(inputs))"
      ],
      "metadata": {
        "colab": {
          "base_uri": "https://localhost:8080/"
        },
        "id": "z_l8uGwJ7HNU",
        "outputId": "417d615f-8960-4bce-a212-68bbf46163d0"
      },
      "execution_count": null,
      "outputs": [
        {
          "output_type": "stream",
          "name": "stdout",
          "text": [
            "tensor([[ 0.2219, -0.1756],\n",
            "        [ 0.2166, -0.1714],\n",
            "        [ 0.2166, -0.1714],\n",
            "        [ 0.2109, -0.1654],\n",
            "        [ 0.2146, -0.1692],\n",
            "        [ 0.2110, -0.1656]], grad_fn=<MmBackward0>)\n"
          ]
        }
      ]
    },
    {
      "cell_type": "code",
      "source": [],
      "metadata": {
        "id": "9YvMmB4z7HTB"
      },
      "execution_count": null,
      "outputs": []
    },
    {
      "cell_type": "code",
      "source": [],
      "metadata": {
        "id": "OSeNHFVP7HYP"
      },
      "execution_count": null,
      "outputs": []
    },
    {
      "cell_type": "code",
      "source": [],
      "metadata": {
        "id": "HFXoWgTj7HdV"
      },
      "execution_count": null,
      "outputs": []
    },
    {
      "cell_type": "code",
      "source": [
        "class MyLayerNorm(nn.Module):\n",
        "  def __init__(self, normalized_dims, eps: float=1e-5):\n",
        "    super().__init__()\n",
        "    self.eps = eps\n",
        "    self.normalized_dims = [-x for x in range(1,normalized_dims+1)]\n",
        "    self.gamma = torch.nn.Parameter(torch.ones(1))\n",
        "    self.beta = torch.nn.Parameter(torch.zeros(1))\n",
        "\n",
        "  def forward(self, xb):\n",
        "    xb = (xb - xb.mean(dim=self.normalized_dims, keepdim=True)) / (xb.std(dim=self.normalized_dims, keepdim=True) + self.eps)\n",
        "    return self.gamma * xb + self.beta"
      ],
      "metadata": {
        "id": "ic7ZpWHROSpk"
      },
      "execution_count": null,
      "outputs": []
    },
    {
      "cell_type": "code",
      "source": [
        "class LayerNorm(nn.Module):\n",
        "  def __init__(self, emb_dim: int, eps: float=1e-5):\n",
        "    super().__init__()\n",
        "    self.eps = eps\n",
        "    self.gamma = torch.nn.Parameter(torch.ones(emb_dim))\n",
        "    self.beta = torch.nn.Parameter(torch.zeros(emb_dim))\n",
        "\n",
        "  def forward(self, xb):\n",
        "    xb = (xb - xb.mean(dim=-1, keepdims=True)) / torch.sqrt(xb.var(dim=-1, keepdims=True) + self.eps)\n",
        "    return xb * self.gamma + self.beta"
      ],
      "metadata": {
        "id": "sYgJ08BiVMTB"
      },
      "execution_count": null,
      "outputs": []
    },
    {
      "cell_type": "code",
      "source": [
        "class GeLU(nn.Module):\n",
        "  def __init__(self):\n",
        "    super().__init__()\n",
        "    self.coeff = torch.sqrt(torch.tensor(2/math.pi))\n",
        "\n",
        "  def forward(self, x):\n",
        "    return 0.5*x*(1.0 + torch.tanh( self.coeff * (x + 0.044715 * torch.pow(x, 3))))"
      ],
      "metadata": {
        "id": "7Phmg8Cia_r6"
      },
      "execution_count": null,
      "outputs": []
    },
    {
      "cell_type": "code",
      "source": [
        "class FeedForward(nn.Module):\n",
        "  def __init__(self, cfg):\n",
        "    super().__init__()\n",
        "    dim = cfg[\"emb_dim\"]\n",
        "    self.layers = nn.Sequential(\n",
        "        nn.Linear(dim, 4 * dim),\n",
        "        GeLU(),\n",
        "        nn.Linear(4 * dim, dim)\n",
        "    )\n",
        "\n",
        "  def forward(self, xb):\n",
        "    return self.layers(xb)"
      ],
      "metadata": {
        "id": "kLw2nPgEnpDP"
      },
      "execution_count": null,
      "outputs": []
    },
    {
      "cell_type": "code",
      "source": [
        "class TransformerBlock(nn.Module):\n",
        "  def __init__(self, cfg):\n",
        "    super().__init__()\n",
        "    self.att = MultiHeadAttention(d_in=cfg[\"emb_dim\"],\n",
        "                                  d_out=cfg[\"emb_dim\"],\n",
        "                                  context_length=cfg[\"context_length\"],\n",
        "                                  dropout=cfg[\"drop_rate\"],\n",
        "                                  num_heads=cfg[\"n_heads\"],\n",
        "                                  qkv_bias=cfg[\"qkv_bias\"])\n",
        "    self.ff = FeedForward(cfg)\n",
        "    self.norm1 = LayerNorm(cfg[\"emb_dim\"])\n",
        "    self.norm2 = LayerNorm(cfg[\"emb_dim\"])\n",
        "    self.drop_resid = nn.Dropout(cfg[\"drop_rate\"])\n",
        "\n",
        "  def forward(self, x):\n",
        "    skip = x\n",
        "    x = self.norm1(x)\n",
        "    x = self.att(x)\n",
        "    x = self.drop_resid(x)\n",
        "    x = x + skip\n",
        "\n",
        "    skip = x\n",
        "    x = self.norm2(x)\n",
        "    x = self.ff(x)\n",
        "    x = self.drop_resid(x)\n",
        "    x = x + skip\n",
        "    return x"
      ],
      "metadata": {
        "id": "6111clTXrx1i"
      },
      "execution_count": null,
      "outputs": []
    },
    {
      "cell_type": "code",
      "source": [
        "torch.manual_seed(123)\n",
        "x = torch.rand(2, 4, 768) #A\n",
        "block = TransformerBlock(GPT_CONFIG_124M)\n",
        "output = block(x)\n",
        "print(\"Input shape:\", x.shape)\n",
        "print(\"Output shape:\", output.shape)"
      ],
      "metadata": {
        "colab": {
          "base_uri": "https://localhost:8080/",
          "height": 1000
        },
        "id": "p4wqvhSW2q4w",
        "outputId": "a3a4ace6-785b-4683-e36c-adf84265b972"
      },
      "execution_count": null,
      "outputs": [
        {
          "output_type": "error",
          "ename": "RuntimeError",
          "evalue": "The size of tensor a (4) must match the size of tensor b (1024) at non-singleton dimension 3",
          "traceback": [
            "\u001b[0;31m---------------------------------------------------------------------------\u001b[0m",
            "\u001b[0;31mRuntimeError\u001b[0m                              Traceback (most recent call last)",
            "\u001b[0;32m<ipython-input-32-d38837588d98>\u001b[0m in \u001b[0;36m<cell line: 4>\u001b[0;34m()\u001b[0m\n\u001b[1;32m      2\u001b[0m \u001b[0mx\u001b[0m \u001b[0;34m=\u001b[0m \u001b[0mtorch\u001b[0m\u001b[0;34m.\u001b[0m\u001b[0mrand\u001b[0m\u001b[0;34m(\u001b[0m\u001b[0;36m2\u001b[0m\u001b[0;34m,\u001b[0m \u001b[0;36m4\u001b[0m\u001b[0;34m,\u001b[0m \u001b[0;36m768\u001b[0m\u001b[0;34m)\u001b[0m \u001b[0;31m#A\u001b[0m\u001b[0;34m\u001b[0m\u001b[0;34m\u001b[0m\u001b[0m\n\u001b[1;32m      3\u001b[0m \u001b[0mblock\u001b[0m \u001b[0;34m=\u001b[0m \u001b[0mTransformerBlock\u001b[0m\u001b[0;34m(\u001b[0m\u001b[0mGPT_CONFIG_124M\u001b[0m\u001b[0;34m)\u001b[0m\u001b[0;34m\u001b[0m\u001b[0;34m\u001b[0m\u001b[0m\n\u001b[0;32m----> 4\u001b[0;31m \u001b[0moutput\u001b[0m \u001b[0;34m=\u001b[0m \u001b[0mblock\u001b[0m\u001b[0;34m(\u001b[0m\u001b[0mx\u001b[0m\u001b[0;34m)\u001b[0m\u001b[0;34m\u001b[0m\u001b[0;34m\u001b[0m\u001b[0m\n\u001b[0m\u001b[1;32m      5\u001b[0m \u001b[0mprint\u001b[0m\u001b[0;34m(\u001b[0m\u001b[0;34m\"Input shape:\"\u001b[0m\u001b[0;34m,\u001b[0m \u001b[0mx\u001b[0m\u001b[0;34m.\u001b[0m\u001b[0mshape\u001b[0m\u001b[0;34m)\u001b[0m\u001b[0;34m\u001b[0m\u001b[0;34m\u001b[0m\u001b[0m\n\u001b[1;32m      6\u001b[0m \u001b[0mprint\u001b[0m\u001b[0;34m(\u001b[0m\u001b[0;34m\"Output shape:\"\u001b[0m\u001b[0;34m,\u001b[0m \u001b[0moutput\u001b[0m\u001b[0;34m.\u001b[0m\u001b[0mshape\u001b[0m\u001b[0;34m)\u001b[0m\u001b[0;34m\u001b[0m\u001b[0;34m\u001b[0m\u001b[0m\n",
            "\u001b[0;32m/usr/local/lib/python3.10/dist-packages/torch/nn/modules/module.py\u001b[0m in \u001b[0;36m_wrapped_call_impl\u001b[0;34m(self, *args, **kwargs)\u001b[0m\n\u001b[1;32m   1530\u001b[0m             \u001b[0;32mreturn\u001b[0m \u001b[0mself\u001b[0m\u001b[0;34m.\u001b[0m\u001b[0m_compiled_call_impl\u001b[0m\u001b[0;34m(\u001b[0m\u001b[0;34m*\u001b[0m\u001b[0margs\u001b[0m\u001b[0;34m,\u001b[0m \u001b[0;34m**\u001b[0m\u001b[0mkwargs\u001b[0m\u001b[0;34m)\u001b[0m  \u001b[0;31m# type: ignore[misc]\u001b[0m\u001b[0;34m\u001b[0m\u001b[0;34m\u001b[0m\u001b[0m\n\u001b[1;32m   1531\u001b[0m         \u001b[0;32melse\u001b[0m\u001b[0;34m:\u001b[0m\u001b[0;34m\u001b[0m\u001b[0;34m\u001b[0m\u001b[0m\n\u001b[0;32m-> 1532\u001b[0;31m             \u001b[0;32mreturn\u001b[0m \u001b[0mself\u001b[0m\u001b[0;34m.\u001b[0m\u001b[0m_call_impl\u001b[0m\u001b[0;34m(\u001b[0m\u001b[0;34m*\u001b[0m\u001b[0margs\u001b[0m\u001b[0;34m,\u001b[0m \u001b[0;34m**\u001b[0m\u001b[0mkwargs\u001b[0m\u001b[0;34m)\u001b[0m\u001b[0;34m\u001b[0m\u001b[0;34m\u001b[0m\u001b[0m\n\u001b[0m\u001b[1;32m   1533\u001b[0m \u001b[0;34m\u001b[0m\u001b[0m\n\u001b[1;32m   1534\u001b[0m     \u001b[0;32mdef\u001b[0m \u001b[0m_call_impl\u001b[0m\u001b[0;34m(\u001b[0m\u001b[0mself\u001b[0m\u001b[0;34m,\u001b[0m \u001b[0;34m*\u001b[0m\u001b[0margs\u001b[0m\u001b[0;34m,\u001b[0m \u001b[0;34m**\u001b[0m\u001b[0mkwargs\u001b[0m\u001b[0;34m)\u001b[0m\u001b[0;34m:\u001b[0m\u001b[0;34m\u001b[0m\u001b[0;34m\u001b[0m\u001b[0m\n",
            "\u001b[0;32m/usr/local/lib/python3.10/dist-packages/torch/nn/modules/module.py\u001b[0m in \u001b[0;36m_call_impl\u001b[0;34m(self, *args, **kwargs)\u001b[0m\n\u001b[1;32m   1539\u001b[0m                 \u001b[0;32mor\u001b[0m \u001b[0m_global_backward_pre_hooks\u001b[0m \u001b[0;32mor\u001b[0m \u001b[0m_global_backward_hooks\u001b[0m\u001b[0;34m\u001b[0m\u001b[0;34m\u001b[0m\u001b[0m\n\u001b[1;32m   1540\u001b[0m                 or _global_forward_hooks or _global_forward_pre_hooks):\n\u001b[0;32m-> 1541\u001b[0;31m             \u001b[0;32mreturn\u001b[0m \u001b[0mforward_call\u001b[0m\u001b[0;34m(\u001b[0m\u001b[0;34m*\u001b[0m\u001b[0margs\u001b[0m\u001b[0;34m,\u001b[0m \u001b[0;34m**\u001b[0m\u001b[0mkwargs\u001b[0m\u001b[0;34m)\u001b[0m\u001b[0;34m\u001b[0m\u001b[0;34m\u001b[0m\u001b[0m\n\u001b[0m\u001b[1;32m   1542\u001b[0m \u001b[0;34m\u001b[0m\u001b[0m\n\u001b[1;32m   1543\u001b[0m         \u001b[0;32mtry\u001b[0m\u001b[0;34m:\u001b[0m\u001b[0;34m\u001b[0m\u001b[0;34m\u001b[0m\u001b[0m\n",
            "\u001b[0;32m<ipython-input-29-15f5dd5c07bf>\u001b[0m in \u001b[0;36mforward\u001b[0;34m(self, x)\u001b[0m\n\u001b[1;32m     16\u001b[0m     \u001b[0mskip\u001b[0m \u001b[0;34m=\u001b[0m \u001b[0mx\u001b[0m\u001b[0;34m\u001b[0m\u001b[0;34m\u001b[0m\u001b[0m\n\u001b[1;32m     17\u001b[0m     \u001b[0mx\u001b[0m \u001b[0;34m=\u001b[0m \u001b[0mself\u001b[0m\u001b[0;34m.\u001b[0m\u001b[0mnorm1\u001b[0m\u001b[0;34m(\u001b[0m\u001b[0mx\u001b[0m\u001b[0;34m)\u001b[0m\u001b[0;34m\u001b[0m\u001b[0;34m\u001b[0m\u001b[0m\n\u001b[0;32m---> 18\u001b[0;31m     \u001b[0mx\u001b[0m \u001b[0;34m=\u001b[0m \u001b[0mself\u001b[0m\u001b[0;34m.\u001b[0m\u001b[0matt\u001b[0m\u001b[0;34m(\u001b[0m\u001b[0mx\u001b[0m\u001b[0;34m)\u001b[0m\u001b[0;34m\u001b[0m\u001b[0;34m\u001b[0m\u001b[0m\n\u001b[0m\u001b[1;32m     19\u001b[0m     \u001b[0mx\u001b[0m \u001b[0;34m=\u001b[0m \u001b[0mself\u001b[0m\u001b[0;34m.\u001b[0m\u001b[0mdrop_resid\u001b[0m\u001b[0;34m(\u001b[0m\u001b[0mx\u001b[0m\u001b[0;34m)\u001b[0m\u001b[0;34m\u001b[0m\u001b[0;34m\u001b[0m\u001b[0m\n\u001b[1;32m     20\u001b[0m     \u001b[0mx\u001b[0m \u001b[0;34m=\u001b[0m \u001b[0mx\u001b[0m \u001b[0;34m+\u001b[0m \u001b[0mskip\u001b[0m\u001b[0;34m\u001b[0m\u001b[0;34m\u001b[0m\u001b[0m\n",
            "\u001b[0;32m/usr/local/lib/python3.10/dist-packages/torch/nn/modules/module.py\u001b[0m in \u001b[0;36m_wrapped_call_impl\u001b[0;34m(self, *args, **kwargs)\u001b[0m\n\u001b[1;32m   1530\u001b[0m             \u001b[0;32mreturn\u001b[0m \u001b[0mself\u001b[0m\u001b[0;34m.\u001b[0m\u001b[0m_compiled_call_impl\u001b[0m\u001b[0;34m(\u001b[0m\u001b[0;34m*\u001b[0m\u001b[0margs\u001b[0m\u001b[0;34m,\u001b[0m \u001b[0;34m**\u001b[0m\u001b[0mkwargs\u001b[0m\u001b[0;34m)\u001b[0m  \u001b[0;31m# type: ignore[misc]\u001b[0m\u001b[0;34m\u001b[0m\u001b[0;34m\u001b[0m\u001b[0m\n\u001b[1;32m   1531\u001b[0m         \u001b[0;32melse\u001b[0m\u001b[0;34m:\u001b[0m\u001b[0;34m\u001b[0m\u001b[0;34m\u001b[0m\u001b[0m\n\u001b[0;32m-> 1532\u001b[0;31m             \u001b[0;32mreturn\u001b[0m \u001b[0mself\u001b[0m\u001b[0;34m.\u001b[0m\u001b[0m_call_impl\u001b[0m\u001b[0;34m(\u001b[0m\u001b[0;34m*\u001b[0m\u001b[0margs\u001b[0m\u001b[0;34m,\u001b[0m \u001b[0;34m**\u001b[0m\u001b[0mkwargs\u001b[0m\u001b[0;34m)\u001b[0m\u001b[0;34m\u001b[0m\u001b[0;34m\u001b[0m\u001b[0m\n\u001b[0m\u001b[1;32m   1533\u001b[0m \u001b[0;34m\u001b[0m\u001b[0m\n\u001b[1;32m   1534\u001b[0m     \u001b[0;32mdef\u001b[0m \u001b[0m_call_impl\u001b[0m\u001b[0;34m(\u001b[0m\u001b[0mself\u001b[0m\u001b[0;34m,\u001b[0m \u001b[0;34m*\u001b[0m\u001b[0margs\u001b[0m\u001b[0;34m,\u001b[0m \u001b[0;34m**\u001b[0m\u001b[0mkwargs\u001b[0m\u001b[0;34m)\u001b[0m\u001b[0;34m:\u001b[0m\u001b[0;34m\u001b[0m\u001b[0;34m\u001b[0m\u001b[0m\n",
            "\u001b[0;32m/usr/local/lib/python3.10/dist-packages/torch/nn/modules/module.py\u001b[0m in \u001b[0;36m_call_impl\u001b[0;34m(self, *args, **kwargs)\u001b[0m\n\u001b[1;32m   1539\u001b[0m                 \u001b[0;32mor\u001b[0m \u001b[0m_global_backward_pre_hooks\u001b[0m \u001b[0;32mor\u001b[0m \u001b[0m_global_backward_hooks\u001b[0m\u001b[0;34m\u001b[0m\u001b[0;34m\u001b[0m\u001b[0m\n\u001b[1;32m   1540\u001b[0m                 or _global_forward_hooks or _global_forward_pre_hooks):\n\u001b[0;32m-> 1541\u001b[0;31m             \u001b[0;32mreturn\u001b[0m \u001b[0mforward_call\u001b[0m\u001b[0;34m(\u001b[0m\u001b[0;34m*\u001b[0m\u001b[0margs\u001b[0m\u001b[0;34m,\u001b[0m \u001b[0;34m**\u001b[0m\u001b[0mkwargs\u001b[0m\u001b[0;34m)\u001b[0m\u001b[0;34m\u001b[0m\u001b[0;34m\u001b[0m\u001b[0m\n\u001b[0m\u001b[1;32m   1542\u001b[0m \u001b[0;34m\u001b[0m\u001b[0m\n\u001b[1;32m   1543\u001b[0m         \u001b[0;32mtry\u001b[0m\u001b[0;34m:\u001b[0m\u001b[0;34m\u001b[0m\u001b[0;34m\u001b[0m\u001b[0m\n",
            "\u001b[0;32m<ipython-input-27-a25c23aeafa0>\u001b[0m in \u001b[0;36mforward\u001b[0;34m(self, inputs)\u001b[0m\n\u001b[1;32m     29\u001b[0m \u001b[0;34m\u001b[0m\u001b[0m\n\u001b[1;32m     30\u001b[0m     \u001b[0mattention_scores\u001b[0m \u001b[0;34m=\u001b[0m \u001b[0mQ\u001b[0m \u001b[0;34m@\u001b[0m \u001b[0mK\u001b[0m\u001b[0;34m.\u001b[0m\u001b[0mtranspose\u001b[0m\u001b[0;34m(\u001b[0m\u001b[0;36m2\u001b[0m\u001b[0;34m,\u001b[0m \u001b[0;36m3\u001b[0m\u001b[0;34m)\u001b[0m\u001b[0;34m\u001b[0m\u001b[0;34m\u001b[0m\u001b[0m\n\u001b[0;32m---> 31\u001b[0;31m     \u001b[0mattention_scores\u001b[0m\u001b[0;34m.\u001b[0m\u001b[0mmasked_fill_\u001b[0m\u001b[0;34m(\u001b[0m\u001b[0mself\u001b[0m\u001b[0;34m.\u001b[0m\u001b[0mmask\u001b[0m\u001b[0;34m,\u001b[0m \u001b[0;34m-\u001b[0m\u001b[0mtorch\u001b[0m\u001b[0;34m.\u001b[0m\u001b[0minf\u001b[0m\u001b[0;34m)\u001b[0m\u001b[0;34m\u001b[0m\u001b[0;34m\u001b[0m\u001b[0m\n\u001b[0m\u001b[1;32m     32\u001b[0m     \u001b[0mattention_weights\u001b[0m \u001b[0;34m=\u001b[0m \u001b[0mself\u001b[0m\u001b[0;34m.\u001b[0m\u001b[0mdropout\u001b[0m\u001b[0;34m(\u001b[0m\u001b[0mtorch\u001b[0m\u001b[0;34m.\u001b[0m\u001b[0msoftmax\u001b[0m\u001b[0;34m(\u001b[0m\u001b[0mattention_scores\u001b[0m\u001b[0;34m/\u001b[0m\u001b[0mK\u001b[0m\u001b[0;34m.\u001b[0m\u001b[0mshape\u001b[0m\u001b[0;34m[\u001b[0m\u001b[0;34m-\u001b[0m\u001b[0;36m1\u001b[0m\u001b[0;34m]\u001b[0m\u001b[0;34m**\u001b[0m\u001b[0;36m0.5\u001b[0m\u001b[0;34m,\u001b[0m \u001b[0mdim\u001b[0m\u001b[0;34m=\u001b[0m\u001b[0;34m-\u001b[0m\u001b[0;36m1\u001b[0m\u001b[0;34m)\u001b[0m\u001b[0;34m)\u001b[0m\u001b[0;34m\u001b[0m\u001b[0;34m\u001b[0m\u001b[0m\n\u001b[1;32m     33\u001b[0m     \u001b[0mcontext_matrix\u001b[0m \u001b[0;34m=\u001b[0m \u001b[0;34m(\u001b[0m\u001b[0mattention_weights\u001b[0m \u001b[0;34m@\u001b[0m \u001b[0mV\u001b[0m\u001b[0;34m)\u001b[0m\u001b[0;34m.\u001b[0m\u001b[0mtranspose\u001b[0m\u001b[0;34m(\u001b[0m\u001b[0;36m1\u001b[0m\u001b[0;34m,\u001b[0m \u001b[0;36m2\u001b[0m\u001b[0;34m)\u001b[0m\u001b[0;34m\u001b[0m\u001b[0;34m\u001b[0m\u001b[0m\n",
            "\u001b[0;31mRuntimeError\u001b[0m: The size of tensor a (4) must match the size of tensor b (1024) at non-singleton dimension 3"
          ]
        }
      ]
    },
    {
      "cell_type": "code",
      "source": [
        "g = GeLU()\n",
        "temp = torch.linspace(-5,5,100)\n",
        "t = g(temp)\n",
        "plt.plot(temp, t)\n",
        "plt.grid()"
      ],
      "metadata": {
        "colab": {
          "base_uri": "https://localhost:8080/",
          "height": 450
        },
        "id": "k4LmKNaucRHz",
        "outputId": "f3b8d023-5e5a-42b0-ea8a-c2c70c2bd941"
      },
      "execution_count": null,
      "outputs": [
        {
          "output_type": "display_data",
          "data": {
            "text/plain": [
              "<Figure size 640x480 with 1 Axes>"
            ],
            "image/png": "[encoded data removed]"
          },
          "metadata": {}
        }
      ]
    },
    {
      "cell_type": "code",
      "source": [
        "temp = torch.rand((3, 4, 6))\n",
        "LN = LayerNorm(6)\n",
        "t = LN(temp)\n",
        "print(t.mean(dim=-1))\n",
        "print(t.std(dim=-1))"
      ],
      "metadata": {
        "colab": {
          "base_uri": "https://localhost:8080/"
        },
        "id": "4ofDA4xEP9h6",
        "outputId": "4d0ec4e1-0d2c-49e1-8d26-c502c551ac7f"
      },
      "execution_count": null,
      "outputs": [
        {
          "output_type": "stream",
          "name": "stdout",
          "text": [
            "tensor([[-4.9671e-08, -1.7881e-07,  0.0000e+00,  1.8626e-08],\n",
            "        [ 1.1921e-07, -5.9605e-08, -2.9802e-08, -7.2022e-08],\n",
            "        [-1.8378e-07, -1.6888e-07, -4.9671e-08, -7.9473e-08]],\n",
            "       grad_fn=<MeanBackward1>)\n",
            "tensor([[0.9999, 0.9999, 1.0000, 0.9999],\n",
            "        [1.0000, 1.0000, 0.9999, 0.9999],\n",
            "        [0.9996, 0.9999, 1.0000, 0.9996]], grad_fn=<StdBackward0>)\n"
          ]
        }
      ]
    },
    {
      "cell_type": "code",
      "source": [
        "dims = 1 #-1, -2, -3\n",
        "[-x for x in range(1,dims+1)]"
      ],
      "metadata": {
        "colab": {
          "base_uri": "https://localhost:8080/"
        },
        "id": "BKXA4yGQFLfk",
        "outputId": "df86f1c7-dab8-4ccc-a1b8-57916ee09402"
      },
      "execution_count": null,
      "outputs": [
        {
          "output_type": "execute_result",
          "data": {
            "text/plain": [
              "[-1]"
            ]
          },
          "metadata": {},
          "execution_count": 7
        }
      ]
    },
    {
      "cell_type": "code",
      "source": [
        "tokenizer = tiktoken.get_encoding('gpt2')\n",
        "batch = []\n",
        "txt1 = \"Every effort moves you\"\n",
        "txt2 = \"Every day holds a\"\n",
        "\n",
        "batch.append(torch.tensor(tokenizer.encode(txt1)))\n",
        "batch.append(torch.tensor(tokenizer.encode(txt2)))\n",
        "\n",
        "batch = torch.stack(batch, dim=0)\n",
        "print(batch)"
      ],
      "metadata": {
        "colab": {
          "base_uri": "https://localhost:8080/"
        },
        "id": "v5C6rVS8fLQv",
        "outputId": "2df177d8-019b-4173-8135-2843131b8e00"
      },
      "execution_count": null,
      "outputs": [
        {
          "output_type": "stream",
          "name": "stdout",
          "text": [
            "tensor([[6109, 3626, 6100,  345],\n",
            "        [6109, 1110, 6622,  257]])\n"
          ]
        }
      ]
    },
    {
      "cell_type": "code",
      "source": [
        "GPT_CONFIG_124M = {\n",
        "    \"vocab_size\": 50257,\n",
        "    \"context_length\": 1024,\n",
        "    \"emb_dim\": 768,\n",
        "    \"n_heads\": 12,\n",
        "    \"n_layers\": 12,\n",
        "    \"drop_rate\": 0.1,\n",
        "    \"qkv_bias\": False\n",
        "}"
      ],
      "metadata": {
        "id": "64zCR0Qbgmdm"
      },
      "execution_count": null,
      "outputs": []
    },
    {
      "cell_type": "code",
      "source": [
        "class DummyGPTModel(nn.Module):\n",
        "  def __init__(self, cfg):\n",
        "    super().__init__()\n",
        "    self.tok_emb = nn.Embedding(cfg[\"vocab_size\"], cfg[\"emb_dim\"])\n",
        "    self.pos_emb = nn.Embedding(cfg[\"context_length\"], cfg[\"emb_dim\"])\n",
        "    self.drop_emb = nn.Dropout(cfg[\"drop_rate\"])\n",
        "    self.trf_blocks = nn.Sequential(\n",
        "        *[DummyTransformerBlock(cfg) for _ in range(cfg[\"n_layers\"])]\n",
        "    )\n",
        "    self.final_norm = DummyLayerNorm(cfg[\"emb_dim\"])\n",
        "    self.out_head = nn.Linear(cfg[\"emb_dim\"], cfg[\"vocab_size\"], bias=False)\n",
        "\n",
        "  def forward(self, in_idx):\n",
        "    batch_size, seq_len = in_idx.shape\n",
        "    tok_embeds = self.tok_emb(in_idx)\n",
        "    pos_embeds = self.pos_emb(torch.arange(seq_len, device=in_idx.device))\n",
        "    x = tok_embeds + pos_embeds\n",
        "    x = self.drop_emb(x)\n",
        "    x = self.trf_blocks(x)\n",
        "    x = self.final_norm(x)\n",
        "    logits = self.out_head(x)\n",
        "    return logits\n",
        "\n",
        "\n",
        "class DummyTransformerBlock(nn.Module):\n",
        "  def __init__(self, cfg):\n",
        "    super().__init__()\n",
        "\n",
        "  def forward(self, x):\n",
        "    return x\n",
        "\n",
        "\n",
        "class DummyLayerNorm(nn.Module):\n",
        "  def __init__(self, normalized_shape, eps=1e-5):\n",
        "    super().__init__()\n",
        "\n",
        "  def forward(self, x):\n",
        "    return x"
      ],
      "metadata": {
        "id": "zOdlifmvhAiV"
      },
      "execution_count": null,
      "outputs": []
    },
    {
      "cell_type": "code",
      "source": [
        "ffn = FeedForward(GPT_CONFIG_124M)\n",
        "x = torch.rand(2, 3, 768) #A\n",
        "out = ffn(x)\n",
        "print(out.shape)"
      ],
      "metadata": {
        "colab": {
          "base_uri": "https://localhost:8080/"
        },
        "id": "ERBoUQ7HpHKD",
        "outputId": "a342de75-a90a-4eeb-9d06-9499b38deb7e"
      },
      "execution_count": null,
      "outputs": [
        {
          "output_type": "stream",
          "name": "stdout",
          "text": [
            "torch.Size([2, 3, 768])\n"
          ]
        }
      ]
    },
    {
      "cell_type": "code",
      "source": [
        "torch.manual_seed(123)"
      ],
      "metadata": {
        "colab": {
          "base_uri": "https://localhost:8080/"
        },
        "id": "GYdZJvD-hAor",
        "outputId": "90498862-6dab-436e-e961-b3bae6e1e4bd"
      },
      "execution_count": null,
      "outputs": [
        {
          "output_type": "execute_result",
          "data": {
            "text/plain": [
              "<torch._C.Generator at 0x7db1dc132ff0>"
            ]
          },
          "metadata": {},
          "execution_count": 7
        }
      ]
    },
    {
      "cell_type": "code",
      "source": [
        "model = DummyGPTModel(GPT_CONFIG_124M)"
      ],
      "metadata": {
        "id": "ewCVj2_2hAuj"
      },
      "execution_count": null,
      "outputs": []
    },
    {
      "cell_type": "code",
      "source": [
        "logits = model(batch)\n",
        "print(logits.shape)"
      ],
      "metadata": {
        "colab": {
          "base_uri": "https://localhost:8080/"
        },
        "id": "ROhsOB41hA1N",
        "outputId": "6b84643c-4a4c-4798-f3ac-3e984dc433af"
      },
      "execution_count": null,
      "outputs": [
        {
          "output_type": "stream",
          "name": "stdout",
          "text": [
            "torch.Size([2, 4, 50257])\n"
          ]
        }
      ]
    },
    {
      "cell_type": "code",
      "source": [],
      "metadata": {
        "id": "N_GJp2Mx2qs3"
      },
      "execution_count": null,
      "outputs": []
    },
    {
      "cell_type": "code",
      "source": [],
      "metadata": {
        "id": "i5FKG1Rf2qzZ"
      },
      "execution_count": null,
      "outputs": []
    },
    {
      "cell_type": "code",
      "source": [],
      "metadata": {
        "id": "dDdVGX0g2q5P"
      },
      "execution_count": null,
      "outputs": []
    },
    {
      "cell_type": "code",
      "source": [
        "sum([0.1916, 0.1515, 0.1517, 0.1535, 0.1590, 0.1511])"
      ],
      "metadata": {
        "colab": {
          "base_uri": "https://localhost:8080/"
        },
        "id": "x2NIdMYZ2q-a",
        "outputId": "0381f8d6-8a57-4fb9-c7dd-2fa7ebf6b610"
      },
      "execution_count": null,
      "outputs": [
        {
          "output_type": "execute_result",
          "data": {
            "text/plain": [
              "0.9584"
            ]
          },
          "metadata": {},
          "execution_count": 12
        }
      ]
    },
    {
      "cell_type": "code",
      "source": [
        "inputs = torch.tensor(\n",
        "[[0.43, 0.15, 0.89], # Your (x^1)\n",
        "[0.55, 0.87, 0.66], # journey (x^2)\n",
        "[0.57, 0.85, 0.64], # starts (x^3)\n",
        "[0.22, 0.58, 0.33], # with (x^4)\n",
        "[0.77, 0.25, 0.10], # one (x^5)\n",
        "[0.05, 0.80, 0.55]] # step (x^6)\n",
        ")"
      ],
      "metadata": {
        "id": "ip4Gvpeklxm1"
      },
      "execution_count": null,
      "outputs": []
    },
    {
      "cell_type": "code",
      "source": [
        "K, Q, V = inputs, inputs, inputs\n",
        "emb_dim = torch.tensor(K.shape[-1])\n",
        "attention_scores = torch.softmax(Q @ K.transpose(-1, -2)/torch.sqrt(emb_dim), dim=-1)\n",
        "attention = attention_scores @ V\n",
        "attention"
      ],
      "metadata": {
        "colab": {
          "base_uri": "https://localhost:8080/"
        },
        "id": "ffIq--BAYQuz",
        "outputId": "cf0f59a2-d142-468e-e995-40f9afcbfc7b"
      },
      "execution_count": null,
      "outputs": [
        {
          "output_type": "execute_result",
          "data": {
            "text/plain": [
              "tensor([[0.4374, 0.5896, 0.5582],\n",
              "        [0.4362, 0.6228, 0.5523],\n",
              "        [0.4370, 0.6216, 0.5515],\n",
              "        [0.4303, 0.6104, 0.5417],\n",
              "        [0.4525, 0.5874, 0.5274],\n",
              "        [0.4219, 0.6231, 0.5507]])"
            ]
          },
          "metadata": {},
          "execution_count": 24
        }
      ]
    },
    {
      "cell_type": "code",
      "source": [
        "temp = torch.randn((6,3))\n",
        "t1 = torch.softmax(temp, dim=-1)\n",
        "t1.sum(dim=-1)"
      ],
      "metadata": {
        "colab": {
          "base_uri": "https://localhost:8080/"
        },
        "id": "H4-pgzyHYQ2J",
        "outputId": "a3e899b3-4d5e-4388-ff63-567a4970f8eb"
      },
      "execution_count": null,
      "outputs": [
        {
          "output_type": "execute_result",
          "data": {
            "text/plain": [
              "tensor([1.0000, 1.0000, 1.0000, 1.0000, 1.0000, 1.0000])"
            ]
          },
          "metadata": {},
          "execution_count": 16
        }
      ]
    },
    {
      "cell_type": "code",
      "source": [
        "class SimplifiedSelfAttention(nn.Module):\n",
        "  def __init__(self):\n",
        "    super().__init__()\n",
        "\n",
        "  def forward(self, input):\n",
        "    emb_dim = torch.tensor(input.shape[-1])\n",
        "    self.Q = input\n",
        "    self.K = input\n",
        "    self.V = input\n",
        "    attention_scores = torch.softmax( self.Q @ self.K.transpose(-1, -2)/torch.sqrt(emb_dim), dim=-1)\n",
        "    attention = attention_scores @ self.V\n",
        "    return attention"
      ],
      "metadata": {
        "id": "H_jl8QHmYQ_I"
      },
      "execution_count": null,
      "outputs": []
    },
    {
      "cell_type": "code",
      "source": [
        "class WeighedSelfAttention(nn.Module):\n",
        "  def __init__(self, emd_dim: int):\n",
        "    super().__init__()\n",
        "    self.W_Q = nn.Parameter(torch.randn(emb_dim, emb_dim))\n",
        "    self.W_K = nn.Parameter(torch.randn(emb_dim, emb_dim))\n",
        "    self.W_V = nn.Parameter(torch.randn(emb_dim, emb_dim))\n",
        "\n",
        "  def forward(self, input):\n",
        "    emb_dim = torch.tensor(input.shape[-1])\n",
        "    self.Q = input @ self.W_Q\n",
        "    self.K = input @ self.W_K\n",
        "    self.V = input @ self.W_V\n",
        "    attention_scores = torch.softmax( self.Q @ self.K.transpose(-1, -2)/torch.sqrt(emb_dim), dim=-1)\n",
        "    attention = attention_scores @ self.V\n",
        "    return attention"
      ],
      "metadata": {
        "id": "gzqfDnbZqKM1"
      },
      "execution_count": null,
      "outputs": []
    },
    {
      "cell_type": "code",
      "source": [
        "s = WeighedSelfAttention(3)\n",
        "s(inputs)"
      ],
      "metadata": {
        "colab": {
          "base_uri": "https://localhost:8080/"
        },
        "id": "kFIVcMJdYRHZ",
        "outputId": "2ed09fd5-b033-4596-d85e-9a03245421f4"
      },
      "execution_count": null,
      "outputs": [
        {
          "output_type": "execute_result",
          "data": {
            "text/plain": [
              "tensor([[-0.4198,  1.2207,  0.1922],\n",
              "        [-0.3068,  1.1415,  0.1918],\n",
              "        [-0.2993,  1.1426,  0.1934],\n",
              "        [-0.3271,  1.1560,  0.1918],\n",
              "        [-0.1270,  1.1806,  0.2328],\n",
              "        [-0.3838,  1.1448,  0.1790]], grad_fn=<MmBackward0>)"
            ]
          },
          "metadata": {},
          "execution_count": 27
        }
      ]
    },
    {
      "cell_type": "code",
      "source": [
        "K, Q, V = inputs, inputs, inputs\n",
        "s, d = K.shape\n",
        "d_out = 2\n",
        "W_k = torch.nn.Parameter(torch.randn(d,d_out))\n",
        "W_q = torch.nn.Parameter(torch.randn(d,d_out))\n",
        "W_v = torch.nn.Parameter(torch.randn(d,d_out))\n",
        "\n",
        "Kf = K @ W_k\n",
        "Qf = Q @ W_q\n",
        "Vf = V @ W_v\n",
        "\n",
        "print(inputs.shape, Kf.shape, Qf.shape, Vf.shape)"
      ],
      "metadata": {
        "colab": {
          "base_uri": "https://localhost:8080/"
        },
        "id": "Uv-JXcr0l1o0",
        "outputId": "4f588e11-1d2c-4b00-877e-1e40933a1cb4"
      },
      "execution_count": null,
      "outputs": [
        {
          "output_type": "stream",
          "name": "stdout",
          "text": [
            "torch.Size([6, 3]) torch.Size([6, 2]) torch.Size([6, 2]) torch.Size([6, 2])\n"
          ]
        }
      ]
    },
    {
      "cell_type": "code",
      "source": [
        "attention_weights = torch.softmax(Qf @ Kf.T/np.sqrt(d_out), dim=1)\n",
        "out = attention_weights @ Vf\n",
        "out"
      ],
      "metadata": {
        "colab": {
          "base_uri": "https://localhost:8080/"
        },
        "id": "Xz5WKZm_l1vO",
        "outputId": "9c95213d-1aaf-47b1-f55d-ba6c756c76a6"
      },
      "execution_count": null,
      "outputs": [
        {
          "output_type": "execute_result",
          "data": {
            "text/plain": [
              "tensor([[ 0.8478, -0.4353],\n",
              "        [ 0.8787, -0.4747],\n",
              "        [ 0.8790, -0.4737],\n",
              "        [ 0.8324, -0.4541],\n",
              "        [ 0.8551, -0.4416],\n",
              "        [ 0.8312, -0.4669]], grad_fn=<MmBackward0>)"
            ]
          },
          "metadata": {},
          "execution_count": 13
        }
      ]
    },
    {
      "cell_type": "code",
      "source": [
        "print(attention_weights.shape)\n",
        "attention_weights"
      ],
      "metadata": {
        "colab": {
          "base_uri": "https://localhost:8080/"
        },
        "id": "HhAV4xH2nen6",
        "outputId": "d98cd159-ebd7-4cf4-8b3c-fb6ff009dc8c"
      },
      "execution_count": null,
      "outputs": [
        {
          "output_type": "stream",
          "name": "stdout",
          "text": [
            "torch.Size([6, 6])\n"
          ]
        },
        {
          "output_type": "execute_result",
          "data": {
            "text/plain": [
              "tensor([[0.2160, 0.0952, 0.0993, 0.1666, 0.3166, 0.1064],\n",
              "        [0.2699, 0.0462, 0.0499, 0.1324, 0.4443, 0.0573],\n",
              "        [0.2685, 0.0467, 0.0504, 0.1330, 0.4437, 0.0578],\n",
              "        [0.2461, 0.0886, 0.0925, 0.1594, 0.3134, 0.1000],\n",
              "        [0.2251, 0.0839, 0.0881, 0.1621, 0.3452, 0.0956],\n",
              "        [0.2655, 0.0778, 0.0817, 0.1528, 0.3327, 0.0896]],\n",
              "       grad_fn=<SoftmaxBackward0>)"
            ]
          },
          "metadata": {},
          "execution_count": 14
        }
      ]
    },
    {
      "cell_type": "code",
      "source": [
        "plt.imshow(attention_weights.detach())\n",
        "plt.colorbar()"
      ],
      "metadata": {
        "colab": {
          "base_uri": "https://localhost:8080/",
          "height": 469
        },
        "id": "04S5-6Qrl12u",
        "outputId": "842d7b4d-9572-486e-ba38-447cf5490e65"
      },
      "execution_count": null,
      "outputs": [
        {
          "output_type": "execute_result",
          "data": {
            "text/plain": [
              "<matplotlib.colorbar.Colorbar at 0x79e63c29a4d0>"
            ]
          },
          "metadata": {},
          "execution_count": 12
        },
        {
          "output_type": "display_data",
          "data": {
            "text/plain": [
              "<Figure size 640x480 with 2 Axes>"
            ],
            "image/png": "[encoded data removed]"
          },
          "metadata": {}
        }
      ]
    },
    {
      "cell_type": "code",
      "source": [
        "class SelfAttentionV1(nn.Module):\n",
        "  def __init__(self, d_in, d_out):\n",
        "    super().__init__()\n",
        "    self.d_out = d_out\n",
        "    self.W_k = nn.Parameter(torch.randn(d_in,d_out))\n",
        "    self.W_q = nn.Parameter(torch.randn(d_in,d_out))\n",
        "    self.W_v = nn.Parameter(torch.randn(d_in,d_out))\n",
        "\n",
        "  def forward(self, inputs):\n",
        "    K = inputs @ self.W_k\n",
        "    Q = inputs @ self.W_q\n",
        "    V = inputs @ self.W_v\n",
        "\n",
        "\n",
        "    attention_weights = torch.softmax(Q @ K.T/self.d_out**0.5, dim=-1)\n",
        "    out = attention_weights @ V\n",
        "    return attention_weights, out"
      ],
      "metadata": {
        "id": "r42VcQYy6Ftb"
      },
      "execution_count": null,
      "outputs": []
    },
    {
      "cell_type": "code",
      "source": [
        "class SelfAttentionV2(nn.Module):\n",
        "  def __init__(self, d_in: int, d_out: int, kqv_bias: bool=False):\n",
        "    super().__init__()\n",
        "    self.W_k = nn.Linear(d_in, d_out, bias=kqv_bias)\n",
        "    self.W_q = nn.Linear(d_in, d_out, bias=kqv_bias)\n",
        "    self.W_v = nn.Linear(d_in, d_out, bias=kqv_bias)\n",
        "    self.d_out = d_out\n",
        "\n",
        "  def forward(self, inputs: torch.Tensor):\n",
        "    K = self.W_k(inputs)\n",
        "    Q = self.W_q(inputs)\n",
        "    V = self.W_v(inputs)\n",
        "\n",
        "    attention_weights = torch.softmax(Q @ K.T/self.d_out**0.5, dim=-1)\n",
        "    context_matrix = attention_weights @ V\n",
        "    return attention_weights, context_matrix"
      ],
      "metadata": {
        "id": "0qFkjrFM_D9e"
      },
      "execution_count": null,
      "outputs": []
    },
    {
      "cell_type": "code",
      "source": [
        "class CausalAttentionV1(nn.Module):\n",
        "  def __init__(self, d_in: int, d_out: int, kqv_bias: bool=False):\n",
        "    super().__init__()\n",
        "    self.W_k = nn.Linear(d_in, d_out, bias=kqv_bias)\n",
        "    self.W_q = nn.Linear(d_in, d_out, bias=kqv_bias)\n",
        "    self.W_v = nn.Linear(d_in, d_out, bias=kqv_bias)\n",
        "    self.d_out = d_out\n",
        "\n",
        "  def forward(self, inputs: torch.Tensor):\n",
        "    K = self.W_k(inputs)\n",
        "    Q = self.W_q(inputs)\n",
        "    V = self.W_v(inputs)\n",
        "\n",
        "    seq_len = inputs.shape[0]\n",
        "    attention_scores = Q @ K.T\n",
        "    attention_scores[torch.triu(torch.ones_like(attention_scores, dtype=torch.bool), diagonal=1)] = -1e3\n",
        "    attention_weights = torch.softmax(attention_scores/self.d_out**0.5, dim=-1)\n",
        "    context_matrix = attention_weights @ V\n",
        "    return attention_weights, context_matrix"
      ],
      "metadata": {
        "id": "RzAFIcePM12J"
      },
      "execution_count": null,
      "outputs": []
    },
    {
      "cell_type": "code",
      "source": [
        "class CausalAttention(nn.Module):\n",
        "  def __init__(self, d_in: int, d_out: int, context_length: int, dropout: float, qkv_bias: bool =False):\n",
        "    super().__init__()\n",
        "    self.d_out = d_out\n",
        "    self.W_k = nn.Linear(d_in, d_out, bias=qkv_bias)\n",
        "    self.W_q = nn.Linear(d_in, d_out, bias=qkv_bias)\n",
        "    self.W_v = nn.Linear(d_in, d_out, bias=qkv_bias)\n",
        "    self.dropout = nn.Dropout(dropout)\n",
        "    self.register_buffer('mask', torch.triu(torch.ones((context_length, context_length), dtype=torch.bool), diagonal=1))\n",
        "\n",
        "  def forward(self, inputs):\n",
        "    K = self.W_k(inputs)\n",
        "    Q = self.W_q(inputs)\n",
        "    V = self.W_v(inputs)\n",
        "    attention_scores = Q @ K.transpose(1,2)\n",
        "    attention_scores.masked_fill_(self.mask, -torch.inf)\n",
        "    attention_weights = self.dropout(torch.softmax(attention_scores/self.d_out**0.5, dim=-1))\n",
        "    context_matrix = attention_weights @ V\n",
        "    return context_matrix"
      ],
      "metadata": {
        "id": "2BjyBrXVjkLx"
      },
      "execution_count": null,
      "outputs": []
    },
    {
      "cell_type": "code",
      "source": [
        "class MultiHeadAttentionWrapper(nn.Module):\n",
        "  def __init__(self, d_in, d_out, context_length, dropout, num_heads, qkv_bias=False):\n",
        "    super().__init__()\n",
        "    self.heads = nn.ModuleList([CausalAttention(d_in, d_out, context_length, dropout, qkv_bias) for _ in range(num_heads)])\n",
        "\n",
        "  def forward(self, inputs):\n",
        "    return torch.cat([head(inputs) for head in self.heads], dim=-1)"
      ],
      "metadata": {
        "id": "xOsRoMVQXiVF"
      },
      "execution_count": null,
      "outputs": []
    },
    {
      "cell_type": "code",
      "source": [
        "class MultiHeadAttention(nn.Module):\n",
        "  def __init__(self, d_in, d_out, context_length, dropout, num_heads, qkv_bias=False):\n",
        "    super().__init__()\n",
        "    assert d_out % num_heads == 0\n",
        "\n",
        "    self.d_out = d_out\n",
        "    self.num_heads = num_heads\n",
        "    self.head_dim = d_out // num_heads\n",
        "    self.W_k = nn.Linear(d_in, d_out, bias=qkv_bias)\n",
        "    self.W_q = nn.Linear(d_in, d_out, bias=qkv_bias)\n",
        "    self.W_v = nn.Linear(d_in, d_out, bias=qkv_bias)\n",
        "    self.out_proj = nn.Linear(d_out, d_out)\n",
        "    self.dropout = nn.Dropout(dropout)\n",
        "    self.register_buffer('mask', torch.triu(torch.ones((context_length, context_length), dtype=torch.bool), diagonal=1))\n",
        "\n",
        "  def forward(self, inputs):\n",
        "    batches, num_tokens, d_in = inputs.shape\n",
        "    K = self.W_k(inputs)\n",
        "    Q = self.W_q(inputs)\n",
        "    V = self.W_v(inputs)\n",
        "\n",
        "    K = K.view(batches, num_tokens, self.num_heads, self.head_dim)\n",
        "    Q = Q.view(batches, num_tokens, self.num_heads, self.head_dim)\n",
        "    V = V.view(batches, num_tokens, self.num_heads, self.head_dim)\n",
        "\n",
        "    K = K.transpose(1, 2)\n",
        "    Q = Q.transpose(1, 2)\n",
        "    V = V.transpose(1, 2)\n",
        "\n",
        "    attention_scores = Q @ K.transpose(2, 3)\n",
        "    attention_scores.masked_fill_(self.mask, -torch.inf)\n",
        "    attention_weights = self.dropout(torch.softmax(attention_scores/K.shape[-1]**0.5, dim=-1))\n",
        "    context_matrix = (attention_weights @ V).transpose(1, 2)\n",
        "\n",
        "    context_matrix = context_matrix.contiguous().view(batches, num_tokens, self.d_out)\n",
        "\n",
        "    return self.out_proj(context_matrix)"
      ],
      "metadata": {
        "id": "0uNNGd_wi-tA"
      },
      "execution_count": null,
      "outputs": []
    },
    {
      "cell_type": "code",
      "source": [
        "batched_inputs = torch.stack([inputs, inputs], dim=0)\n",
        "print(batched_inputs.shape)\n",
        "l = CausalAttention(3, 2, 6, 0.5, False)\n",
        "c = l(batched_inputs)"
      ],
      "metadata": {
        "colab": {
          "base_uri": "https://localhost:8080/",
          "height": 225
        },
        "id": "FDIY-SWIBOBA",
        "outputId": "5be3b47f-b2ae-4708-9671-40691233b569"
      },
      "execution_count": null,
      "outputs": [
        {
          "output_type": "error",
          "ename": "NameError",
          "evalue": "name 'inputs' is not defined",
          "traceback": [
            "\u001b[0;31m---------------------------------------------------------------------------\u001b[0m",
            "\u001b[0;31mNameError\u001b[0m                                 Traceback (most recent call last)",
            "\u001b[0;32m<ipython-input-33-a26bb6ad4e5d>\u001b[0m in \u001b[0;36m<cell line: 1>\u001b[0;34m()\u001b[0m\n\u001b[0;32m----> 1\u001b[0;31m \u001b[0mbatched_inputs\u001b[0m \u001b[0;34m=\u001b[0m \u001b[0mtorch\u001b[0m\u001b[0;34m.\u001b[0m\u001b[0mstack\u001b[0m\u001b[0;34m(\u001b[0m\u001b[0;34m[\u001b[0m\u001b[0minputs\u001b[0m\u001b[0;34m,\u001b[0m \u001b[0minputs\u001b[0m\u001b[0;34m]\u001b[0m\u001b[0;34m,\u001b[0m \u001b[0mdim\u001b[0m\u001b[0;34m=\u001b[0m\u001b[0;36m0\u001b[0m\u001b[0;34m)\u001b[0m\u001b[0;34m\u001b[0m\u001b[0;34m\u001b[0m\u001b[0m\n\u001b[0m\u001b[1;32m      2\u001b[0m \u001b[0mprint\u001b[0m\u001b[0;34m(\u001b[0m\u001b[0mbatched_inputs\u001b[0m\u001b[0;34m.\u001b[0m\u001b[0mshape\u001b[0m\u001b[0;34m)\u001b[0m\u001b[0;34m\u001b[0m\u001b[0;34m\u001b[0m\u001b[0m\n\u001b[1;32m      3\u001b[0m \u001b[0ml\u001b[0m \u001b[0;34m=\u001b[0m \u001b[0mCausalAttention\u001b[0m\u001b[0;34m(\u001b[0m\u001b[0;36m3\u001b[0m\u001b[0;34m,\u001b[0m \u001b[0;36m2\u001b[0m\u001b[0;34m,\u001b[0m \u001b[0;36m6\u001b[0m\u001b[0;34m,\u001b[0m \u001b[0;36m0.5\u001b[0m\u001b[0;34m,\u001b[0m \u001b[0;32mFalse\u001b[0m\u001b[0;34m)\u001b[0m\u001b[0;34m\u001b[0m\u001b[0;34m\u001b[0m\u001b[0m\n\u001b[1;32m      4\u001b[0m \u001b[0mc\u001b[0m \u001b[0;34m=\u001b[0m \u001b[0ml\u001b[0m\u001b[0;34m(\u001b[0m\u001b[0mbatched_inputs\u001b[0m\u001b[0;34m)\u001b[0m\u001b[0;34m\u001b[0m\u001b[0;34m\u001b[0m\u001b[0m\n",
            "\u001b[0;31mNameError\u001b[0m: name 'inputs' is not defined"
          ]
        }
      ]
    },
    {
      "cell_type": "code",
      "source": [
        "l4 = MultiHeadAttention(3, 12, 6, 0.5, 4)\n",
        "c = l4(batched_inputs)\n",
        "c.shape"
      ],
      "metadata": {
        "colab": {
          "base_uri": "https://localhost:8080/"
        },
        "id": "fwG7FSEeaTFQ",
        "outputId": "e7d8ef1b-d546-4af5-f9ad-d4f6dd4eacfb"
      },
      "execution_count": null,
      "outputs": [
        {
          "output_type": "execute_result",
          "data": {
            "text/plain": [
              "torch.Size([2, 6, 12])"
            ]
          },
          "metadata": {},
          "execution_count": 29
        }
      ]
    },
    {
      "cell_type": "code",
      "source": [
        "mask = torch.triu(torch.ones((6, 6), dtype=torch.bool), diagonal=1)\n",
        "w.masked_fill_(mask, -torch.inf)\n",
        "w"
      ],
      "metadata": {
        "colab": {
          "base_uri": "https://localhost:8080/"
        },
        "id": "PTYpbUdFJMkW",
        "outputId": "d5724781-42e0-4278-e6db-7e53e63b0c78"
      },
      "execution_count": null,
      "outputs": [
        {
          "output_type": "execute_result",
          "data": {
            "text/plain": [
              "tensor([[[0.3389,   -inf,   -inf,   -inf,   -inf,   -inf],\n",
              "         [0.0000, 0.3070,   -inf,   -inf,   -inf,   -inf],\n",
              "         [0.3566, 0.3082, 0.0000,   -inf,   -inf,   -inf],\n",
              "         [0.0000, 0.0000, 0.0000, 0.3444,   -inf,   -inf],\n",
              "         [0.3295, 0.0000, 0.0000, 0.3319, 0.0000,   -inf],\n",
              "         [0.0000, 0.0000, 0.3023, 0.0000, 0.3370, 0.3446]],\n",
              "\n",
              "        [[0.0000,   -inf,   -inf,   -inf,   -inf,   -inf],\n",
              "         [0.3577, 0.3070,   -inf,   -inf,   -inf,   -inf],\n",
              "         [0.0000, 0.0000, 0.3083,   -inf,   -inf,   -inf],\n",
              "         [0.3510, 0.0000, 0.0000, 0.0000,   -inf,   -inf],\n",
              "         [0.0000, 0.3370, 0.0000, 0.0000, 0.3313,   -inf],\n",
              "         [0.3629, 0.0000, 0.3023, 0.3511, 0.0000, 0.0000]]],\n",
              "       grad_fn=<MaskedFillBackward0>)"
            ]
          },
          "metadata": {},
          "execution_count": 15
        }
      ]
    },
    {
      "cell_type": "code",
      "source": [
        "temp = inputs @ inputs.T\n",
        "print(temp)\n",
        "mask = torch.triu(torch.ones_like(temp, dtype=torch.bool), diagonal=1)\n",
        "temp[mask] = 0.0\n",
        "print(temp)\n",
        "print(mask)"
      ],
      "metadata": {
        "colab": {
          "base_uri": "https://localhost:8080/"
        },
        "id": "aoBvHTkyVKaU",
        "outputId": "fa24f077-9518-4cc4-f49d-080b2d809e75"
      },
      "execution_count": null,
      "outputs": [
        {
          "output_type": "stream",
          "name": "stdout",
          "text": [
            "tensor([[0.9995, 0.9544, 0.9422, 0.4753, 0.4576, 0.6310],\n",
            "        [0.9544, 1.4950, 1.4754, 0.8434, 0.7070, 1.0865],\n",
            "        [0.9422, 1.4754, 1.4570, 0.8296, 0.7154, 1.0605],\n",
            "        [0.4753, 0.8434, 0.8296, 0.4937, 0.3474, 0.6565],\n",
            "        [0.4576, 0.7070, 0.7154, 0.3474, 0.6654, 0.2935],\n",
            "        [0.6310, 1.0865, 1.0605, 0.6565, 0.2935, 0.9450]])\n",
            "tensor([[0.9995, 0.0000, 0.0000, 0.0000, 0.0000, 0.0000],\n",
            "        [0.9544, 1.4950, 0.0000, 0.0000, 0.0000, 0.0000],\n",
            "        [0.9422, 1.4754, 1.4570, 0.0000, 0.0000, 0.0000],\n",
            "        [0.4753, 0.8434, 0.8296, 0.4937, 0.0000, 0.0000],\n",
            "        [0.4576, 0.7070, 0.7154, 0.3474, 0.6654, 0.0000],\n",
            "        [0.6310, 1.0865, 1.0605, 0.6565, 0.2935, 0.9450]])\n",
            "tensor([[False,  True,  True,  True,  True,  True],\n",
            "        [False, False,  True,  True,  True,  True],\n",
            "        [False, False, False,  True,  True,  True],\n",
            "        [False, False, False, False,  True,  True],\n",
            "        [False, False, False, False, False,  True],\n",
            "        [False, False, False, False, False, False]])\n"
          ]
        }
      ]
    },
    {
      "cell_type": "code",
      "source": [
        "print(out.shape)\n",
        "torch.softmax(out, dim=1)"
      ],
      "metadata": {
        "colab": {
          "base_uri": "https://localhost:8080/"
        },
        "id": "Q-hS9nG4p9Yu",
        "outputId": "8b1aa570-9781-40d3-fdda-acadf8ad8069"
      },
      "execution_count": null,
      "outputs": [
        {
          "output_type": "stream",
          "name": "stdout",
          "text": [
            "torch.Size([6, 3])\n"
          ]
        },
        {
          "output_type": "execute_result",
          "data": {
            "text/plain": [
              "tensor([[0.3037, 0.3536, 0.3427],\n",
              "        [0.3005, 0.3621, 0.3375],\n",
              "        [0.3008, 0.3618, 0.3373],\n",
              "        [0.3016, 0.3612, 0.3372],\n",
              "        [0.3104, 0.3552, 0.3345],\n",
              "        [0.2976, 0.3639, 0.3385]])"
            ]
          },
          "metadata": {},
          "execution_count": 29
        }
      ]
    },
    {
      "cell_type": "code",
      "source": [
        "np.sum([0.1916, 0.1515, 0.1517, 0.1535, 0.1590, 0.1511])"
      ],
      "metadata": {
        "colab": {
          "base_uri": "https://localhost:8080/"
        },
        "id": "znSdUH7OmxeY",
        "outputId": "53f4ebbe-7049-4612-d501-3ba8690b1249"
      },
      "execution_count": null,
      "outputs": [
        {
          "output_type": "execute_result",
          "data": {
            "text/plain": [
              "0.9584"
            ]
          },
          "metadata": {},
          "execution_count": 24
        }
      ]
    },
    {
      "cell_type": "code",
      "source": [
        "maxlen = 4\n",
        "valid_len = torch.tensor([4,2,3])"
      ],
      "metadata": {
        "id": "uFkr3Q3QBDkh"
      },
      "execution_count": null,
      "outputs": []
    },
    {
      "cell_type": "code",
      "source": [
        "seq_len = 3\n",
        "temp1 = torch.arange(3)[None, :]\n",
        "temp2 = torch.arange(3)[:, None]\n",
        "temp3 = torch.randn((3,3))\n",
        "print(temp3)\n",
        "mask = temp1 > temp2\n",
        "temp3[torch.arange(seq_len)[None, :] > torch.arange(seq_len)[:, None]] = 0\n",
        "print(temp3)"
      ],
      "metadata": {
        "colab": {
          "base_uri": "https://localhost:8080/"
        },
        "id": "RB9dFIxyNiDb",
        "outputId": "56b12ed7-a576-4526-9025-5e90acc4ef32"
      },
      "execution_count": null,
      "outputs": [
        {
          "output_type": "stream",
          "name": "stdout",
          "text": [
            "tensor([[ 1.2713,  0.3433, -0.9766],\n",
            "        [-0.2188, -1.7379, -1.0785],\n",
            "        [ 0.3094, -2.7422, -0.1531]])\n",
            "tensor([[ 1.2713,  0.0000,  0.0000],\n",
            "        [-0.2188, -1.7379,  0.0000],\n",
            "        [ 0.3094, -2.7422, -0.1531]])\n"
          ]
        }
      ]
    },
    {
      "cell_type": "code",
      "source": [
        "mask = torch.arange((maxlen), dtype=torch.float32,)[None, :] < valid_len[:, None]\n",
        "mask"
      ],
      "metadata": {
        "colab": {
          "base_uri": "https://localhost:8080/"
        },
        "id": "Qn7P9wQeA79j",
        "outputId": "ba4242e3-28bd-49bd-8cdb-2ac24b8a2211"
      },
      "execution_count": null,
      "outputs": [
        {
          "output_type": "execute_result",
          "data": {
            "text/plain": [
              "tensor([[ True,  True,  True,  True],\n",
              "        [ True,  True, False, False],\n",
              "        [ True,  True,  True, False]])"
            ]
          },
          "metadata": {},
          "execution_count": 8
        }
      ]
    },
    {
      "cell_type": "code",
      "source": [
        "X[~mask] = 0.0\n",
        "X"
      ],
      "metadata": {
        "colab": {
          "base_uri": "https://localhost:8080/"
        },
        "id": "feBKJ9uHB6GY",
        "outputId": "a3aa8110-b23c-49cf-bde0-f0829663139f"
      },
      "execution_count": null,
      "outputs": [
        {
          "output_type": "execute_result",
          "data": {
            "text/plain": [
              "tensor([[[-0.6233, -0.6503, -1.2038, -0.5545, -1.9048,  1.2204,  1.8532,\n",
              "          -0.9074,  0.1345, -2.9428, -0.7558, -1.2853,  0.8911, -0.5736,\n",
              "          -0.2995,  0.9408],\n",
              "         [ 0.4482, -0.2003, -0.9887,  0.4010, -0.1182,  1.3910, -2.0211,\n",
              "          -0.6343, -1.9523, -0.1101, -0.1928, -0.2492, -0.4320,  0.3045,\n",
              "           0.2017,  2.9055],\n",
              "         [-0.2371,  0.3748, -0.5849,  0.9120, -0.7012,  0.9667, -1.7764,\n",
              "          -1.4355,  0.7844, -0.8367,  0.0492, -1.0133,  0.5697,  2.2852,\n",
              "          -1.6383,  1.4620],\n",
              "         [-0.7184, -1.6823, -1.2836,  1.0752, -0.0149, -1.1653, -0.2610,\n",
              "           0.3477,  0.4714, -0.4765,  1.2675,  0.2631,  1.5908, -0.7556,\n",
              "           1.1149, -1.1580]],\n",
              "\n",
              "        [[ 0.2296,  1.8949,  0.0090,  0.0465,  0.9412,  0.3783, -0.6743,\n",
              "          -0.6760,  0.5918, -0.1773, -0.5809, -0.4002, -0.0376, -1.1544,\n",
              "          -0.2282,  1.6922],\n",
              "         [ 0.3133,  0.5159,  0.0518, -0.5467,  0.2857, -0.3032, -0.0162,\n",
              "          -0.4138, -0.1958, -1.0138, -0.9194, -1.1076, -0.2089, -0.4665,\n",
              "          -0.3244, -3.0922],\n",
              "         [ 0.0000,  0.0000,  0.0000,  0.0000,  0.0000,  0.0000,  0.0000,\n",
              "           0.0000,  0.0000,  0.0000,  0.0000,  0.0000,  0.0000,  0.0000,\n",
              "           0.0000,  0.0000],\n",
              "         [ 0.0000,  0.0000,  0.0000,  0.0000,  0.0000,  0.0000,  0.0000,\n",
              "           0.0000,  0.0000,  0.0000,  0.0000,  0.0000,  0.0000,  0.0000,\n",
              "           0.0000,  0.0000]],\n",
              "\n",
              "        [[-0.9956,  0.6388,  0.6169, -0.3421, -0.3528,  0.1620, -0.6167,\n",
              "           0.7436, -0.5971,  2.1118,  1.0127, -1.9101,  0.0074,  0.8424,\n",
              "           1.0287, -0.5215],\n",
              "         [-0.0097, -0.6020,  0.5968,  0.5960,  0.3092,  0.4594, -0.3396,\n",
              "          -1.9863, -0.6011, -1.3319, -0.0093, -0.6883, -1.8543, -0.1497,\n",
              "           1.0284, -0.4947],\n",
              "         [-1.5743,  0.0283,  0.7732,  0.5790,  0.0223, -2.2100, -0.5853,\n",
              "          -0.6258, -1.3343, -1.1101, -0.9495,  0.3144, -0.5310, -0.4237,\n",
              "           1.6078,  0.0144],\n",
              "         [ 0.0000,  0.0000,  0.0000,  0.0000,  0.0000,  0.0000,  0.0000,\n",
              "           0.0000,  0.0000,  0.0000,  0.0000,  0.0000,  0.0000,  0.0000,\n",
              "           0.0000,  0.0000]]])"
            ]
          },
          "metadata": {},
          "execution_count": 11
        }
      ]
    },
    {
      "cell_type": "code",
      "source": [
        "X = torch.randn((3,4,16))\n",
        "maxlen = X.size(1)\n",
        "maxlen"
      ],
      "metadata": {
        "colab": {
          "base_uri": "https://localhost:8080/"
        },
        "id": "rQeQ2txaBOLY",
        "outputId": "1250b818-bd20-4da5-ad4c-2e593d6a245b"
      },
      "execution_count": null,
      "outputs": [
        {
          "output_type": "execute_result",
          "data": {
            "text/plain": [
              "4"
            ]
          },
          "metadata": {},
          "execution_count": 4
        }
      ]
    },
    {
      "cell_type": "code",
      "source": [
        "valid_len[:, None]"
      ],
      "metadata": {
        "colab": {
          "base_uri": "https://localhost:8080/"
        },
        "id": "m4tRdzqmBc00",
        "outputId": "860d4593-1da4-4efa-dbf2-d883d2b58876"
      },
      "execution_count": null,
      "outputs": [
        {
          "output_type": "execute_result",
          "data": {
            "text/plain": [
              "tensor([[4],\n",
              "        [2],\n",
              "        [3]])"
            ]
          },
          "metadata": {},
          "execution_count": 9
        }
      ]
    },
    {
      "cell_type": "code",
      "source": [
        "math.pi"
      ],
      "metadata": {
        "id": "0c0qHxESBx_R",
        "colab": {
          "base_uri": "https://localhost:8080/",
          "height": 169
        },
        "outputId": "3824bdb7-11b2-4928-8d78-27efbc55d1b7"
      },
      "execution_count": null,
      "outputs": [
        {
          "output_type": "error",
          "ename": "NameError",
          "evalue": "name 'math' is not defined",
          "traceback": [
            "\u001b[0;31m---------------------------------------------------------------------------\u001b[0m",
            "\u001b[0;31mNameError\u001b[0m                                 Traceback (most recent call last)",
            "\u001b[0;32m<ipython-input-9-c49acc181da4>\u001b[0m in \u001b[0;36m<cell line: 1>\u001b[0;34m()\u001b[0m\n\u001b[0;32m----> 1\u001b[0;31m \u001b[0mmath\u001b[0m\u001b[0;34m.\u001b[0m\u001b[0mpi\u001b[0m\u001b[0;34m\u001b[0m\u001b[0;34m\u001b[0m\u001b[0m\n\u001b[0m",
            "\u001b[0;31mNameError\u001b[0m: name 'math' is not defined"
          ]
        }
      ]
    },
    {
      "cell_type": "code",
      "source": [],
      "metadata": {
        "id": "kDn54H8abs3D"
      },
      "execution_count": null,
      "outputs": []
    }
  ]
}